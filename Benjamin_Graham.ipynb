{
 "cells": [
  {
   "cell_type": "markdown",
   "id": "3cc083b1",
   "metadata": {},
   "source": [
    "# 벤저민 그레이엄 기초 전략"
   ]
  },
  {
   "cell_type": "markdown",
   "id": "223e6366",
   "metadata": {},
   "source": [
    "## Basic Setting"
   ]
  },
  {
   "cell_type": "code",
   "execution_count": 49,
   "id": "25a98a24",
   "metadata": {},
   "outputs": [],
   "source": [
    "import pandas as pd\n",
    "import requests\n",
    "from lxml import html\n",
    "from tqdm import tqdm"
   ]
  },
  {
   "cell_type": "code",
   "execution_count": 51,
   "id": "3a63cd20",
   "metadata": {},
   "outputs": [],
   "source": [
    "snap_url = 'https://comp.fnguide.com/SVO2/ASP/SVD_Main.asp?pGB=1&gicode=A{}&cID=&MenuYn=Y&ReportGB=&NewMenuID=101&stkGb=701'"
   ]
  },
  {
   "cell_type": "code",
   "execution_count": 52,
   "id": "c1fcd44f",
   "metadata": {},
   "outputs": [
    {
     "name": "stdout",
     "output_type": "stream",
     "text": [
      "https://comp.fnguide.com/SVO2/ASP/SVD_Main.asp?pGB=1&gicode=A{}&cID=&MenuYn=Y&ReportGB=&NewMenuID=101&stkGb=701\n"
     ]
    }
   ],
   "source": [
    "print(snap_url)"
   ]
  },
  {
   "cell_type": "code",
   "execution_count": 53,
   "id": "98cf7f73",
   "metadata": {},
   "outputs": [],
   "source": [
    "ratio_url = 'https://comp.fnguide.com/SVO2/ASP/SVD_FinanceRatio.asp?pGB=1&gicode=A{}&cID=&MenuYn=Y&ReportGB=&NewMenuID=104&stkGb=701'"
   ]
  },
  {
   "cell_type": "code",
   "execution_count": 54,
   "id": "ffe56bf9",
   "metadata": {},
   "outputs": [
    {
     "name": "stdout",
     "output_type": "stream",
     "text": [
      "https://comp.fnguide.com/SVO2/ASP/SVD_FinanceRatio.asp?pGB=1&gicode=A{}&cID=&MenuYn=Y&ReportGB=&NewMenuID=104&stkGb=701\n"
     ]
    }
   ],
   "source": [
    "print(ratio_url)"
   ]
  },
  {
   "cell_type": "code",
   "execution_count": 55,
   "id": "298e8a3d",
   "metadata": {},
   "outputs": [
    {
     "name": "stdout",
     "output_type": "stream",
     "text": [
      "https://comp.fnguide.com/SVO2/ASP/SVD_Main.asp?pGB=1&gicode=A035720&cID=&MenuYn=Y&ReportGB=&NewMenuID=101&stkGb=701\n"
     ]
    }
   ],
   "source": [
    "print(snap_url.format('035720'))"
   ]
  },
  {
   "cell_type": "code",
   "execution_count": 56,
   "id": "003c3d72",
   "metadata": {},
   "outputs": [],
   "source": [
    "sample_code = '005930'"
   ]
  },
  {
   "cell_type": "code",
   "execution_count": 57,
   "id": "bf24c281",
   "metadata": {},
   "outputs": [
    {
     "name": "stdout",
     "output_type": "stream",
     "text": [
      "https://comp.fnguide.com/SVO2/ASP/SVD_FinanceRatio.asp?pGB=1&gicode=A005930&cID=&MenuYn=Y&ReportGB=&NewMenuID=104&stkGb=701\n"
     ]
    }
   ],
   "source": [
    "print(ratio_url.format('005930'))"
   ]
  },
  {
   "cell_type": "markdown",
   "id": "0eff7a98",
   "metadata": {},
   "source": [
    "## Get PER"
   ]
  },
  {
   "cell_type": "code",
   "execution_count": 58,
   "id": "5c25f24c",
   "metadata": {},
   "outputs": [],
   "source": [
    "Snap_url = snap_url.format(sample_code)"
   ]
  },
  {
   "cell_type": "code",
   "execution_count": 59,
   "id": "fb8c43d4",
   "metadata": {},
   "outputs": [],
   "source": [
    "snap_content = requests.get(Snap_url).content"
   ]
  },
  {
   "cell_type": "code",
   "execution_count": 60,
   "id": "216cbbff",
   "metadata": {},
   "outputs": [],
   "source": [
    "snap_tree = html.fromstring(snap_content)"
   ]
  },
  {
   "cell_type": "code",
   "execution_count": 61,
   "id": "93264c2e",
   "metadata": {},
   "outputs": [],
   "source": [
    "per = snap_tree.xpath('//*[@id=\"corp_group2\"]/dl[1]/dd')[0].text\n",
    "per = float(per)"
   ]
  },
  {
   "cell_type": "code",
   "execution_count": 62,
   "id": "4964d636",
   "metadata": {},
   "outputs": [
    {
     "data": {
      "text/plain": [
       "12.64"
      ]
     },
     "execution_count": 62,
     "metadata": {},
     "output_type": "execute_result"
    }
   ],
   "source": [
    "per"
   ]
  },
  {
   "cell_type": "markdown",
   "id": "1459fca1",
   "metadata": {},
   "source": [
    "## Get Debt Ratio"
   ]
  },
  {
   "cell_type": "code",
   "execution_count": 63,
   "id": "a4fb95bb",
   "metadata": {},
   "outputs": [],
   "source": [
    "Ratio_url = ratio_url.format(sample_code)"
   ]
  },
  {
   "cell_type": "code",
   "execution_count": 64,
   "id": "7a158445",
   "metadata": {},
   "outputs": [],
   "source": [
    "ratio_content = requests.get(Ratio_url).content"
   ]
  },
  {
   "cell_type": "code",
   "execution_count": 65,
   "id": "b7603749",
   "metadata": {},
   "outputs": [],
   "source": [
    "html_tree = html.fromstring(ratio_content)"
   ]
  },
  {
   "cell_type": "code",
   "execution_count": 66,
   "id": "9f3f14f6",
   "metadata": {},
   "outputs": [],
   "source": [
    "debt_ratio = html_tree.xpath('//*[@id=\"p_grid1_3\"]/td[5]')[0].text\n",
    "debt_ratio = float(debt_ratio)"
   ]
  },
  {
   "cell_type": "code",
   "execution_count": 67,
   "id": "591510b1",
   "metadata": {},
   "outputs": [
    {
     "data": {
      "text/plain": [
       "39.9"
      ]
     },
     "execution_count": 67,
     "metadata": {},
     "output_type": "execute_result"
    }
   ],
   "source": [
    "debt_ratio"
   ]
  },
  {
   "cell_type": "markdown",
   "id": "9447b422",
   "metadata": {},
   "source": [
    "## Get All Stock Code"
   ]
  },
  {
   "cell_type": "code",
   "execution_count": 68,
   "id": "fbd23419",
   "metadata": {},
   "outputs": [],
   "source": [
    "company = pd.read_csv('company.csv')"
   ]
  },
  {
   "cell_type": "code",
   "execution_count": 69,
   "id": "f2898dee",
   "metadata": {},
   "outputs": [],
   "source": [
    "code_list = company['종목코드'].dropna()"
   ]
  },
  {
   "cell_type": "code",
   "execution_count": 70,
   "id": "c47b6020",
   "metadata": {},
   "outputs": [
    {
     "data": {
      "text/plain": [
       "0       000155\n",
       "1       00088K\n",
       "2       010955\n",
       "3       051915\n",
       "4       071055\n",
       "         ...  \n",
       "2017    013030\n",
       "2018    019550\n",
       "2019    019590\n",
       "2020    019570\n",
       "2021    006920\n",
       "Name: 종목코드, Length: 2021, dtype: object"
      ]
     },
     "execution_count": 70,
     "metadata": {},
     "output_type": "execute_result"
    }
   ],
   "source": [
    "code_list"
   ]
  },
  {
   "cell_type": "markdown",
   "id": "181679e1",
   "metadata": {},
   "source": [
    "## Create Crawling Function"
   ]
  },
  {
   "cell_type": "code",
   "execution_count": 84,
   "id": "a74f0ae5",
   "metadata": {},
   "outputs": [],
   "source": [
    "def crawler(li):\n",
    "    result = {}\n",
    "    \n",
    "    for code in tqdm(li):\n",
    "        try:\n",
    "            # set URLs\n",
    "            snap_url = 'https://comp.fnguide.com/SVO2/ASP/SVD_Main.asp?pGB=1&gicode=A{}&cID=&MenuYn=Y&ReportGB=&NewMenuID=101&stkGb=701'\n",
    "            ratio_url = 'https://comp.fnguide.com/SVO2/ASP/SVD_FinanceRatio.asp?pGB=1&gicode=A{}&cID=&MenuYn=Y&ReportGB=&NewMenuID=104&stkGb=701'\n",
    "        \n",
    "            # get company name\n",
    "            name = company[company['종목코드'] == code]['회사명'].values[0]\n",
    "        \n",
    "            # get PER\n",
    "            Snap_url = snap_url.format(code)\n",
    "            snap_content = requests.get(Snap_url).content\n",
    "            snap_tree = html.fromstring(snap_content)\n",
    "        \n",
    "            per = snap_tree.xpath('//*[@id=\"corp_group2\"]/dl[1]/dd')[0].text\n",
    "            per = float(per)\n",
    "        \n",
    "            # get Debt Ratio\n",
    "            Ratio_url = ratio_url.format(code)\n",
    "            ratio_content = requests.get(Ratio_url).content\n",
    "            html_tree = html.fromstring(ratio_content)\n",
    "        \n",
    "            debt_ratio = html_tree.xpath('//*[@id=\"p_grid1_3\"]/td[5]')[0].text\n",
    "            debt_ratio = float(debt_ratio)\n",
    "        \n",
    "            result[name] = [code, per, debt_ratio]\n",
    "            \n",
    "        except (TypeError, IndexError, AttributeError, ValueError):\n",
    "            pass\n",
    "    \n",
    "    # create DataFrame\n",
    "    result = pd.DataFrame(result)\n",
    "    \n",
    "    # transposing\n",
    "    result = result.transpose()\n",
    "    \n",
    "    # set Column names\n",
    "    column_names = ['Code', 'PER', 'Debt_Ratio']\n",
    "    result.columns = column_names\n",
    "    \n",
    "    return result"
   ]
  },
  {
   "cell_type": "code",
   "execution_count": 85,
   "id": "9923b824",
   "metadata": {},
   "outputs": [
    {
     "name": "stderr",
     "output_type": "stream",
     "text": [
      "100%|██████████| 2021/2021 [11:20<00:00,  2.97it/s]  \n"
     ]
    }
   ],
   "source": [
    "result_df = crawler(code_list)"
   ]
  },
  {
   "cell_type": "code",
   "execution_count": 87,
   "id": "1371d7b8",
   "metadata": {},
   "outputs": [],
   "source": [
    "copy_df = result_df.copy()"
   ]
  },
  {
   "cell_type": "markdown",
   "id": "f33930f7",
   "metadata": {},
   "source": [
    "# Screening"
   ]
  },
  {
   "cell_type": "code",
   "execution_count": 90,
   "id": "f7cd7dbf",
   "metadata": {},
   "outputs": [],
   "source": [
    "final_result = copy_df[(copy_df['PER'] > 0) & (copy_df['PER'] <= 10) & (copy_df['Debt_Ratio'] <= 50)]"
   ]
  },
  {
   "cell_type": "code",
   "execution_count": 92,
   "id": "bffb5953",
   "metadata": {},
   "outputs": [],
   "source": [
    "final_result = final_result.sort_values(by='PER').head(30)"
   ]
  },
  {
   "cell_type": "code",
   "execution_count": 93,
   "id": "6756c2a9",
   "metadata": {},
   "outputs": [
    {
     "data": {
      "text/html": [
       "<div>\n",
       "<style scoped>\n",
       "    .dataframe tbody tr th:only-of-type {\n",
       "        vertical-align: middle;\n",
       "    }\n",
       "\n",
       "    .dataframe tbody tr th {\n",
       "        vertical-align: top;\n",
       "    }\n",
       "\n",
       "    .dataframe thead th {\n",
       "        text-align: right;\n",
       "    }\n",
       "</style>\n",
       "<table border=\"1\" class=\"dataframe\">\n",
       "  <thead>\n",
       "    <tr style=\"text-align: right;\">\n",
       "      <th></th>\n",
       "      <th>Code</th>\n",
       "      <th>PER</th>\n",
       "      <th>Debt_Ratio</th>\n",
       "    </tr>\n",
       "  </thead>\n",
       "  <tbody>\n",
       "    <tr>\n",
       "      <th>솔브레인</th>\n",
       "      <td>036830</td>\n",
       "      <td>0.28</td>\n",
       "      <td>35.0</td>\n",
       "    </tr>\n",
       "    <tr>\n",
       "      <th>원익</th>\n",
       "      <td>032940</td>\n",
       "      <td>0.98</td>\n",
       "      <td>45.2</td>\n",
       "    </tr>\n",
       "    <tr>\n",
       "      <th>유수홀딩스</th>\n",
       "      <td>000700</td>\n",
       "      <td>1.77</td>\n",
       "      <td>23.6</td>\n",
       "    </tr>\n",
       "    <tr>\n",
       "      <th>KPX홀딩스</th>\n",
       "      <td>092230</td>\n",
       "      <td>1.81</td>\n",
       "      <td>31.3</td>\n",
       "    </tr>\n",
       "    <tr>\n",
       "      <th>한솔홀딩스</th>\n",
       "      <td>004150</td>\n",
       "      <td>2.01</td>\n",
       "      <td>18.4</td>\n",
       "    </tr>\n",
       "    <tr>\n",
       "      <th>신풍제지</th>\n",
       "      <td>002870</td>\n",
       "      <td>2.1</td>\n",
       "      <td>2.7</td>\n",
       "    </tr>\n",
       "    <tr>\n",
       "      <th>넥스트아이</th>\n",
       "      <td>137940</td>\n",
       "      <td>2.24</td>\n",
       "      <td>31.0</td>\n",
       "    </tr>\n",
       "    <tr>\n",
       "      <th>대덕전자</th>\n",
       "      <td>008060</td>\n",
       "      <td>2.41</td>\n",
       "      <td>19.8</td>\n",
       "    </tr>\n",
       "    <tr>\n",
       "      <th>삼정펄프</th>\n",
       "      <td>009770</td>\n",
       "      <td>2.55</td>\n",
       "      <td>10.6</td>\n",
       "    </tr>\n",
       "    <tr>\n",
       "      <th>케이엠</th>\n",
       "      <td>083550</td>\n",
       "      <td>2.6</td>\n",
       "      <td>39.6</td>\n",
       "    </tr>\n",
       "    <tr>\n",
       "      <th>미래아이앤지</th>\n",
       "      <td>007120</td>\n",
       "      <td>2.63</td>\n",
       "      <td>34.5</td>\n",
       "    </tr>\n",
       "    <tr>\n",
       "      <th>SG&amp;G</th>\n",
       "      <td>040610</td>\n",
       "      <td>2.85</td>\n",
       "      <td>20.7</td>\n",
       "    </tr>\n",
       "    <tr>\n",
       "      <th>세원물산</th>\n",
       "      <td>024830</td>\n",
       "      <td>2.86</td>\n",
       "      <td>37.9</td>\n",
       "    </tr>\n",
       "    <tr>\n",
       "      <th>골든센츄리</th>\n",
       "      <td>900280</td>\n",
       "      <td>2.93</td>\n",
       "      <td>12.8</td>\n",
       "    </tr>\n",
       "    <tr>\n",
       "      <th>동원개발</th>\n",
       "      <td>013120</td>\n",
       "      <td>3.04</td>\n",
       "      <td>25.7</td>\n",
       "    </tr>\n",
       "    <tr>\n",
       "      <th>원림</th>\n",
       "      <td>005820</td>\n",
       "      <td>3.05</td>\n",
       "      <td>25.9</td>\n",
       "    </tr>\n",
       "    <tr>\n",
       "      <th>마크로젠</th>\n",
       "      <td>038290</td>\n",
       "      <td>3.12</td>\n",
       "      <td>42.5</td>\n",
       "    </tr>\n",
       "    <tr>\n",
       "      <th>오가닉티코스메틱</th>\n",
       "      <td>900300</td>\n",
       "      <td>3.24</td>\n",
       "      <td>28.4</td>\n",
       "    </tr>\n",
       "    <tr>\n",
       "      <th>컬러레이</th>\n",
       "      <td>900310</td>\n",
       "      <td>3.27</td>\n",
       "      <td>11.6</td>\n",
       "    </tr>\n",
       "    <tr>\n",
       "      <th>세원정공</th>\n",
       "      <td>021820</td>\n",
       "      <td>3.27</td>\n",
       "      <td>12.0</td>\n",
       "    </tr>\n",
       "    <tr>\n",
       "      <th>S&amp;T홀딩스</th>\n",
       "      <td>036530</td>\n",
       "      <td>3.38</td>\n",
       "      <td>33.3</td>\n",
       "    </tr>\n",
       "    <tr>\n",
       "      <th>삼양통상</th>\n",
       "      <td>002170</td>\n",
       "      <td>3.41</td>\n",
       "      <td>11.8</td>\n",
       "    </tr>\n",
       "    <tr>\n",
       "      <th>W홀딩컴퍼니</th>\n",
       "      <td>052300</td>\n",
       "      <td>3.56</td>\n",
       "      <td>37.0</td>\n",
       "    </tr>\n",
       "    <tr>\n",
       "      <th>한국콜마홀딩스</th>\n",
       "      <td>024720</td>\n",
       "      <td>3.64</td>\n",
       "      <td>38.6</td>\n",
       "    </tr>\n",
       "    <tr>\n",
       "      <th>크리스탈신소재</th>\n",
       "      <td>900250</td>\n",
       "      <td>3.65</td>\n",
       "      <td>5.3</td>\n",
       "    </tr>\n",
       "    <tr>\n",
       "      <th>한솔넥스지</th>\n",
       "      <td>081970</td>\n",
       "      <td>3.67</td>\n",
       "      <td>11.1</td>\n",
       "    </tr>\n",
       "    <tr>\n",
       "      <th>DMS</th>\n",
       "      <td>068790</td>\n",
       "      <td>3.8</td>\n",
       "      <td>45.5</td>\n",
       "    </tr>\n",
       "    <tr>\n",
       "      <th>KPX케미칼</th>\n",
       "      <td>025000</td>\n",
       "      <td>4.06</td>\n",
       "      <td>34.5</td>\n",
       "    </tr>\n",
       "    <tr>\n",
       "      <th>한국유리공업</th>\n",
       "      <td>002000</td>\n",
       "      <td>4.14</td>\n",
       "      <td>27.4</td>\n",
       "    </tr>\n",
       "    <tr>\n",
       "      <th>테라세미콘</th>\n",
       "      <td>123100</td>\n",
       "      <td>4.19</td>\n",
       "      <td>15.8</td>\n",
       "    </tr>\n",
       "  </tbody>\n",
       "</table>\n",
       "</div>"
      ],
      "text/plain": [
       "            Code   PER Debt_Ratio\n",
       "솔브레인      036830  0.28       35.0\n",
       "원익        032940  0.98       45.2\n",
       "유수홀딩스     000700  1.77       23.6\n",
       "KPX홀딩스    092230  1.81       31.3\n",
       "한솔홀딩스     004150  2.01       18.4\n",
       "신풍제지      002870   2.1        2.7\n",
       "넥스트아이     137940  2.24       31.0\n",
       "대덕전자      008060  2.41       19.8\n",
       "삼정펄프      009770  2.55       10.6\n",
       "케이엠       083550   2.6       39.6\n",
       "미래아이앤지    007120  2.63       34.5\n",
       "SG&G      040610  2.85       20.7\n",
       "세원물산      024830  2.86       37.9\n",
       "골든센츄리     900280  2.93       12.8\n",
       "동원개발      013120  3.04       25.7\n",
       "원림        005820  3.05       25.9\n",
       "마크로젠      038290  3.12       42.5\n",
       "오가닉티코스메틱  900300  3.24       28.4\n",
       "컬러레이      900310  3.27       11.6\n",
       "세원정공      021820  3.27       12.0\n",
       "S&T홀딩스    036530  3.38       33.3\n",
       "삼양통상      002170  3.41       11.8\n",
       "W홀딩컴퍼니    052300  3.56       37.0\n",
       "한국콜마홀딩스   024720  3.64       38.6\n",
       "크리스탈신소재   900250  3.65        5.3\n",
       "한솔넥스지     081970  3.67       11.1\n",
       "DMS       068790   3.8       45.5\n",
       "KPX케미칼    025000  4.06       34.5\n",
       "한국유리공업    002000  4.14       27.4\n",
       "테라세미콘     123100  4.19       15.8"
      ]
     },
     "execution_count": 93,
     "metadata": {},
     "output_type": "execute_result"
    }
   ],
   "source": [
    "final_result"
   ]
  },
  {
   "cell_type": "code",
   "execution_count": null,
   "id": "2242ece3",
   "metadata": {},
   "outputs": [],
   "source": []
  }
 ],
 "metadata": {
  "kernelspec": {
   "display_name": "Python 3 (ipykernel)",
   "language": "python",
   "name": "python3"
  },
  "language_info": {
   "codemirror_mode": {
    "name": "ipython",
    "version": 3
   },
   "file_extension": ".py",
   "mimetype": "text/x-python",
   "name": "python",
   "nbconvert_exporter": "python",
   "pygments_lexer": "ipython3",
   "version": "3.9.7"
  }
 },
 "nbformat": 4,
 "nbformat_minor": 5
}
