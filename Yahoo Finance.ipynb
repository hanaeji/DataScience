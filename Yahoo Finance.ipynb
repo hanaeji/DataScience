{
 "cells": [
  {
   "cell_type": "markdown",
   "id": "d4b55ce9",
   "metadata": {},
   "source": [
    "# Yahoo Finance"
   ]
  },
  {
   "cell_type": "code",
   "execution_count": 1,
   "id": "6cd419b1",
   "metadata": {},
   "outputs": [],
   "source": [
    "import yfinance as yf\n",
    "import pandas as pd\n",
    "from pandas_datareader import data as pdr\n",
    "import datetime"
   ]
  },
  {
   "cell_type": "code",
   "execution_count": 3,
   "id": "741e1368",
   "metadata": {},
   "outputs": [],
   "source": [
    "pd.core.common.is_list_like = pd.api.types.is_list_like"
   ]
  },
  {
   "cell_type": "code",
   "execution_count": 4,
   "id": "c5f099d4",
   "metadata": {},
   "outputs": [],
   "source": [
    "yf.pdr_override()"
   ]
  },
  {
   "cell_type": "markdown",
   "id": "97be1e4e",
   "metadata": {},
   "source": [
    "### get_data_yahoo()"
   ]
  },
  {
   "cell_type": "markdown",
   "id": "86276245",
   "metadata": {},
   "source": [
    "- code\n",
    "- start_Date\n",
    "- end_date"
   ]
  },
  {
   "cell_type": "markdown",
   "id": "cfc26565",
   "metadata": {},
   "source": [
    "#### code"
   ]
  },
  {
   "cell_type": "code",
   "execution_count": 8,
   "id": "f93f99c5",
   "metadata": {},
   "outputs": [],
   "source": [
    "samsung_code = \"005930\"+\".KS\""
   ]
  },
  {
   "cell_type": "code",
   "execution_count": 9,
   "id": "a3941ff4",
   "metadata": {},
   "outputs": [
    {
     "name": "stdout",
     "output_type": "stream",
     "text": [
      "005930.KS\n"
     ]
    }
   ],
   "source": [
    "print(samsung_code)"
   ]
  },
  {
   "cell_type": "markdown",
   "id": "1395007e",
   "metadata": {},
   "source": [
    "#### start_date"
   ]
  },
  {
   "cell_type": "code",
   "execution_count": 10,
   "id": "6183573c",
   "metadata": {},
   "outputs": [],
   "source": [
    "start_date = datetime.date(2018, 1, 1)"
   ]
  },
  {
   "cell_type": "code",
   "execution_count": 11,
   "id": "2c05a0ac",
   "metadata": {},
   "outputs": [
    {
     "name": "stdout",
     "output_type": "stream",
     "text": [
      "2018-01-01\n"
     ]
    }
   ],
   "source": [
    "print(start_date)"
   ]
  },
  {
   "cell_type": "markdown",
   "id": "baa4a839",
   "metadata": {},
   "source": [
    "#### end_date"
   ]
  },
  {
   "cell_type": "code",
   "execution_count": 12,
   "id": "e5636824",
   "metadata": {},
   "outputs": [],
   "source": [
    "end_date = datetime.date(2019, 12, 31)"
   ]
  },
  {
   "cell_type": "code",
   "execution_count": 13,
   "id": "b8d7ddab",
   "metadata": {},
   "outputs": [
    {
     "name": "stdout",
     "output_type": "stream",
     "text": [
      "2019-12-31\n"
     ]
    }
   ],
   "source": [
    "print(end_date)"
   ]
  },
  {
   "cell_type": "code",
   "execution_count": 14,
   "id": "af4e7943",
   "metadata": {},
   "outputs": [
    {
     "name": "stdout",
     "output_type": "stream",
     "text": [
      "<class 'datetime.date'>\n"
     ]
    }
   ],
   "source": [
    "print(type(end_date))"
   ]
  },
  {
   "cell_type": "code",
   "execution_count": 16,
   "id": "feca9a85",
   "metadata": {},
   "outputs": [
    {
     "name": "stdout",
     "output_type": "stream",
     "text": [
      "[*********************100%***********************]  1 of 1 completed\n"
     ]
    }
   ],
   "source": [
    "samsung = pdr.get_data_yahoo(samsung_code, start_date, end_date)"
   ]
  },
  {
   "cell_type": "code",
   "execution_count": 17,
   "id": "513ac21d",
   "metadata": {},
   "outputs": [
    {
     "data": {
      "text/html": [
       "<div>\n",
       "<style scoped>\n",
       "    .dataframe tbody tr th:only-of-type {\n",
       "        vertical-align: middle;\n",
       "    }\n",
       "\n",
       "    .dataframe tbody tr th {\n",
       "        vertical-align: top;\n",
       "    }\n",
       "\n",
       "    .dataframe thead th {\n",
       "        text-align: right;\n",
       "    }\n",
       "</style>\n",
       "<table border=\"1\" class=\"dataframe\">\n",
       "  <thead>\n",
       "    <tr style=\"text-align: right;\">\n",
       "      <th></th>\n",
       "      <th>Open</th>\n",
       "      <th>High</th>\n",
       "      <th>Low</th>\n",
       "      <th>Close</th>\n",
       "      <th>Adj Close</th>\n",
       "      <th>Volume</th>\n",
       "    </tr>\n",
       "    <tr>\n",
       "      <th>Date</th>\n",
       "      <th></th>\n",
       "      <th></th>\n",
       "      <th></th>\n",
       "      <th></th>\n",
       "      <th></th>\n",
       "      <th></th>\n",
       "    </tr>\n",
       "  </thead>\n",
       "  <tbody>\n",
       "    <tr>\n",
       "      <th>2018-01-02</th>\n",
       "      <td>51380.0</td>\n",
       "      <td>51400.0</td>\n",
       "      <td>50780.0</td>\n",
       "      <td>51020.0</td>\n",
       "      <td>45077.804688</td>\n",
       "      <td>8474250</td>\n",
       "    </tr>\n",
       "    <tr>\n",
       "      <th>2018-01-03</th>\n",
       "      <td>52540.0</td>\n",
       "      <td>52560.0</td>\n",
       "      <td>51420.0</td>\n",
       "      <td>51620.0</td>\n",
       "      <td>45607.921875</td>\n",
       "      <td>10013500</td>\n",
       "    </tr>\n",
       "    <tr>\n",
       "      <th>2018-01-04</th>\n",
       "      <td>52120.0</td>\n",
       "      <td>52180.0</td>\n",
       "      <td>50640.0</td>\n",
       "      <td>51080.0</td>\n",
       "      <td>45130.812500</td>\n",
       "      <td>11695450</td>\n",
       "    </tr>\n",
       "    <tr>\n",
       "      <th>2018-01-05</th>\n",
       "      <td>51300.0</td>\n",
       "      <td>52120.0</td>\n",
       "      <td>51200.0</td>\n",
       "      <td>52120.0</td>\n",
       "      <td>46049.691406</td>\n",
       "      <td>9481150</td>\n",
       "    </tr>\n",
       "    <tr>\n",
       "      <th>2018-01-08</th>\n",
       "      <td>52400.0</td>\n",
       "      <td>52520.0</td>\n",
       "      <td>51500.0</td>\n",
       "      <td>52020.0</td>\n",
       "      <td>45961.335938</td>\n",
       "      <td>8383650</td>\n",
       "    </tr>\n",
       "  </tbody>\n",
       "</table>\n",
       "</div>"
      ],
      "text/plain": [
       "               Open     High      Low    Close     Adj Close    Volume\n",
       "Date                                                                  \n",
       "2018-01-02  51380.0  51400.0  50780.0  51020.0  45077.804688   8474250\n",
       "2018-01-03  52540.0  52560.0  51420.0  51620.0  45607.921875  10013500\n",
       "2018-01-04  52120.0  52180.0  50640.0  51080.0  45130.812500  11695450\n",
       "2018-01-05  51300.0  52120.0  51200.0  52120.0  46049.691406   9481150\n",
       "2018-01-08  52400.0  52520.0  51500.0  52020.0  45961.335938   8383650"
      ]
     },
     "execution_count": 17,
     "metadata": {},
     "output_type": "execute_result"
    }
   ],
   "source": [
    "samsung.head()"
   ]
  },
  {
   "cell_type": "code",
   "execution_count": 18,
   "id": "be722eae",
   "metadata": {},
   "outputs": [
    {
     "data": {
      "text/html": [
       "<div>\n",
       "<style scoped>\n",
       "    .dataframe tbody tr th:only-of-type {\n",
       "        vertical-align: middle;\n",
       "    }\n",
       "\n",
       "    .dataframe tbody tr th {\n",
       "        vertical-align: top;\n",
       "    }\n",
       "\n",
       "    .dataframe thead th {\n",
       "        text-align: right;\n",
       "    }\n",
       "</style>\n",
       "<table border=\"1\" class=\"dataframe\">\n",
       "  <thead>\n",
       "    <tr style=\"text-align: right;\">\n",
       "      <th></th>\n",
       "      <th>Open</th>\n",
       "      <th>High</th>\n",
       "      <th>Low</th>\n",
       "      <th>Close</th>\n",
       "      <th>Adj Close</th>\n",
       "      <th>Volume</th>\n",
       "    </tr>\n",
       "    <tr>\n",
       "      <th>Date</th>\n",
       "      <th></th>\n",
       "      <th></th>\n",
       "      <th></th>\n",
       "      <th></th>\n",
       "      <th></th>\n",
       "      <th></th>\n",
       "    </tr>\n",
       "  </thead>\n",
       "  <tbody>\n",
       "    <tr>\n",
       "      <th>2019-12-23</th>\n",
       "      <td>56100.0</td>\n",
       "      <td>56400.0</td>\n",
       "      <td>55100.0</td>\n",
       "      <td>55500.0</td>\n",
       "      <td>51772.800781</td>\n",
       "      <td>9839252</td>\n",
       "    </tr>\n",
       "    <tr>\n",
       "      <th>2019-12-24</th>\n",
       "      <td>55600.0</td>\n",
       "      <td>55700.0</td>\n",
       "      <td>54800.0</td>\n",
       "      <td>55000.0</td>\n",
       "      <td>51306.382812</td>\n",
       "      <td>11868463</td>\n",
       "    </tr>\n",
       "    <tr>\n",
       "      <th>2019-12-26</th>\n",
       "      <td>54700.0</td>\n",
       "      <td>55400.0</td>\n",
       "      <td>54400.0</td>\n",
       "      <td>55400.0</td>\n",
       "      <td>51679.515625</td>\n",
       "      <td>9645034</td>\n",
       "    </tr>\n",
       "    <tr>\n",
       "      <th>2019-12-27</th>\n",
       "      <td>55700.0</td>\n",
       "      <td>56900.0</td>\n",
       "      <td>55500.0</td>\n",
       "      <td>56500.0</td>\n",
       "      <td>53044.597656</td>\n",
       "      <td>12313056</td>\n",
       "    </tr>\n",
       "    <tr>\n",
       "      <th>2019-12-30</th>\n",
       "      <td>56200.0</td>\n",
       "      <td>56600.0</td>\n",
       "      <td>55700.0</td>\n",
       "      <td>55800.0</td>\n",
       "      <td>52387.402344</td>\n",
       "      <td>8356767</td>\n",
       "    </tr>\n",
       "  </tbody>\n",
       "</table>\n",
       "</div>"
      ],
      "text/plain": [
       "               Open     High      Low    Close     Adj Close    Volume\n",
       "Date                                                                  \n",
       "2019-12-23  56100.0  56400.0  55100.0  55500.0  51772.800781   9839252\n",
       "2019-12-24  55600.0  55700.0  54800.0  55000.0  51306.382812  11868463\n",
       "2019-12-26  54700.0  55400.0  54400.0  55400.0  51679.515625   9645034\n",
       "2019-12-27  55700.0  56900.0  55500.0  56500.0  53044.597656  12313056\n",
       "2019-12-30  56200.0  56600.0  55700.0  55800.0  52387.402344   8356767"
      ]
     },
     "execution_count": 18,
     "metadata": {},
     "output_type": "execute_result"
    }
   ],
   "source": [
    "samsung.tail()"
   ]
  },
  {
   "cell_type": "code",
   "execution_count": 21,
   "id": "cda72943",
   "metadata": {},
   "outputs": [
    {
     "data": {
      "text/plain": [
       "Date\n",
       "2018-01-02    3.820006e+11\n",
       "2018-01-03    4.566949e+11\n",
       "2018-01-04    5.278252e+11\n",
       "2018-01-05    4.366040e+11\n",
       "2018-01-08    3.853238e+11\n",
       "                  ...     \n",
       "2019-12-23    5.094056e+11\n",
       "2019-12-24    6.089279e+11\n",
       "2019-12-26    4.984507e+11\n",
       "2019-12-27    6.531411e+11\n",
       "2019-12-30    4.377893e+11\n",
       "Length: 490, dtype: float64"
      ]
     },
     "execution_count": 21,
     "metadata": {},
     "output_type": "execute_result"
    }
   ],
   "source": [
    "samsung['Volume($)']      samsung['Adj Close'] * samsung['Volume']"
   ]
  },
  {
   "cell_type": "code",
   "execution_count": 20,
   "id": "2586e0c7",
   "metadata": {},
   "outputs": [
    {
     "data": {
      "text/plain": [
       "Date\n",
       "2018-01-02     8474250\n",
       "2018-01-03    10013500\n",
       "2018-01-04    11695450\n",
       "2018-01-05     9481150\n",
       "2018-01-08     8383650\n",
       "                ...   \n",
       "2019-12-23     9839252\n",
       "2019-12-24    11868463\n",
       "2019-12-26     9645034\n",
       "2019-12-27    12313056\n",
       "2019-12-30     8356767\n",
       "Name: Volume, Length: 490, dtype: int64"
      ]
     },
     "execution_count": 20,
     "metadata": {},
     "output_type": "execute_result"
    }
   ],
   "source": []
  },
  {
   "cell_type": "code",
   "execution_count": null,
   "id": "8944e9d7",
   "metadata": {},
   "outputs": [],
   "source": []
  }
 ],
 "metadata": {
  "kernelspec": {
   "display_name": "Python 3 (ipykernel)",
   "language": "python",
   "name": "python3"
  },
  "language_info": {
   "codemirror_mode": {
    "name": "ipython",
    "version": 3
   },
   "file_extension": ".py",
   "mimetype": "text/x-python",
   "name": "python",
   "nbconvert_exporter": "python",
   "pygments_lexer": "ipython3",
   "version": "3.9.7"
  }
 },
 "nbformat": 4,
 "nbformat_minor": 5
}
