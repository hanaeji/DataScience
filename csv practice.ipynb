{
 "cells": [
  {
   "cell_type": "code",
   "execution_count": 2,
   "id": "24e3a269",
   "metadata": {},
   "outputs": [],
   "source": [
    "import csv"
   ]
  },
  {
   "cell_type": "markdown",
   "id": "2f809c22",
   "metadata": {},
   "source": [
    "## csv 모듈 파일 읽어오기"
   ]
  },
  {
   "cell_type": "code",
   "execution_count": 21,
   "id": "8432fa4f",
   "metadata": {},
   "outputs": [
    {
     "name": "stdout",
     "output_type": "stream",
     "text": [
      "<class '_csv.reader'>\n",
      "<class '_csv.reader'>\n",
      "2010-12\n",
      "238\n",
      "\n",
      "\n",
      "\n",
      "115\n",
      "1.86\n",
      "2.60\n",
      "135.4\n",
      "46\n",
      "34.44\n",
      "180\n",
      "-247\n",
      "-67\n",
      "-1.46\n",
      "\n",
      "2010-12\n",
      "100.00\n",
      "\n",
      "\n",
      "7.65\n",
      "\n",
      "-7.65\n",
      "\n",
      "\n",
      "\n",
      "2010-12\n",
      "\n",
      "35.54\n",
      "0.09\n",
      "3.02\n",
      "1.82\n",
      "5.51\n",
      "3.13\n",
      "\n",
      "2010-12\n",
      "20.28\n",
      "10.43\n",
      "14.12\n",
      "20.64\n",
      "\n",
      "\n",
      "\n",
      "\n",
      "1334.67\n",
      "3.15\n",
      "10.71\n",
      "16.87\n",
      "\n",
      "-14.63\n",
      "-3.82\n",
      "1.33\n",
      "2010-12\n",
      "21.22\n",
      "\n",
      "103.72\n",
      "-28.01\n",
      "-0.58\n",
      "2010-12\n",
      "0.40\n",
      "1.54\n",
      "\n",
      "-1.94\n",
      "\n",
      "75.84\n",
      "1.22\n",
      "-77.06\n",
      "100.00\n",
      "\n",
      "\n",
      "\n",
      "1.95\n",
      "-1.95\n",
      "\n",
      "41.14\n",
      "-41.14\n",
      "44.63\n",
      "55.37\n",
      "100.00\n",
      "2010-12\n",
      "\n",
      "\n",
      "1.82\n",
      "0.74\n",
      "2010-12\n",
      "55.99\n",
      "\n",
      "\n",
      "\n",
      "6.52\n",
      "\n",
      "0.12\n",
      "0.09\n"
     ]
    }
   ],
   "source": [
    "from collections.abc import Iterable\n",
    "def iterable(obj):\n",
    "    return isinstance(obj, Iterable)\n",
    "\n",
    "f = open('EPR.csv', 'r')\n",
    "csvfile = csv.reader(f)\n",
    "print(type(csvfile))\n",
    "print(type(csvfile))\n",
    "for temp in csvfile:\n",
    "   # print(temp) # 파일을 한 줄씩 읽어오고, 각 줄을 list 형태로 읽어옴\n",
    "    try:\n",
    "        print(temp[1])\n",
    "    except: pass\n",
    "\n",
    "f.close()"
   ]
  },
  {
   "cell_type": "code",
   "execution_count": 13,
   "id": "48be978b",
   "metadata": {},
   "outputs": [
    {
     "data": {
      "text/plain": [
       "True"
      ]
     },
     "execution_count": 13,
     "metadata": {},
     "output_type": "execute_result"
    }
   ],
   "source": [
    "a = (1, 2, 3)\n",
    "iterable(a)3"
   ]
  },
  {
   "cell_type": "code",
   "execution_count": 22,
   "id": "0c014ba1",
   "metadata": {},
   "outputs": [],
   "source": [
    "f = open('test.csv', 'w')\n",
    "csvfile = csv.writer(f)\n",
    "csvfile.writerow(['hello', 'this', 'is', 'value'])\n",
    "csvfile.writerow(['hello', 'this', 'is', 'value2'])\n",
    "f.close()"
   ]
  },
  {
   "cell_type": "code",
   "execution_count": null,
   "id": "2fd3e20e",
   "metadata": {},
   "outputs": [],
   "source": []
  }
 ],
 "metadata": {
  "kernelspec": {
   "display_name": "Python 3 (ipykernel)",
   "language": "python",
   "name": "python3"
  },
  "language_info": {
   "codemirror_mode": {
    "name": "ipython",
    "version": 3
   },
   "file_extension": ".py",
   "mimetype": "text/x-python",
   "name": "python",
   "nbconvert_exporter": "python",
   "pygments_lexer": "ipython3",
   "version": "3.9.7"
  }
 },
 "nbformat": 4,
 "nbformat_minor": 5
}
