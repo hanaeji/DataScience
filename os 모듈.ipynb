{
 "cells": [
  {
   "cell_type": "code",
   "execution_count": 1,
   "id": "810bdeb9",
   "metadata": {},
   "outputs": [],
   "source": [
    "import os"
   ]
  },
  {
   "cell_type": "markdown",
   "id": "0034bd41",
   "metadata": {},
   "source": [
    "현재 디렉토리에 있는 파일과 디렉토리 보기"
   ]
  },
  {
   "cell_type": "code",
   "execution_count": 3,
   "id": "68b07df4",
   "metadata": {},
   "outputs": [],
   "source": [
    "# os가 가지고 있는 변수, 메서드들\n",
    "currentdir = 'C:/Users/User/Desktop/파이썬/업무 자동화'\n",
    "# print(dir(0s))"
   ]
  },
  {
   "cell_type": "markdown",
   "id": "2aaf243e",
   "metadata": {},
   "source": [
    "파일을 스캔한 후 특성파악하기"
   ]
  },
  {
   "cell_type": "code",
   "execution_count": 8,
   "id": "4a8badcb",
   "metadata": {},
   "outputs": [
    {
     "name": "stdout",
     "output_type": "stream",
     "text": [
      "<class 'nt.ScandirIterator'>\n",
      ".ipynb_checkpoints\n",
      "<class 'nt.DirEntry'>\n",
      "디렉토리 여부 >> True\n",
      "파일 여부 >> False\n",
      "chromedriver_win32\n",
      "<class 'nt.DirEntry'>\n",
      "디렉토리 여부 >> True\n",
      "파일 여부 >> False\n",
      "chromedriver_win32.zip\n",
      "<class 'nt.DirEntry'>\n",
      "디렉토리 여부 >> False\n",
      "파일 여부 >> True\n",
      "my_escel.xlsx\n",
      "<class 'nt.DirEntry'>\n",
      "디렉토리 여부 >> False\n",
      "파일 여부 >> True\n",
      "os 모듈.ipynb\n",
      "<class 'nt.DirEntry'>\n",
      "디렉토리 여부 >> False\n",
      "파일 여부 >> True\n",
      "selenium_practice.py\n",
      "<class 'nt.DirEntry'>\n",
      "디렉토리 여부 >> False\n",
      "파일 여부 >> True\n",
      "웹 크롤링.ipynb\n",
      "<class 'nt.DirEntry'>\n",
      "디렉토리 여부 >> False\n",
      "파일 여부 >> True\n"
     ]
    }
   ],
   "source": [
    "obj = os.scandir()\n",
    "print(type(obj))\n",
    "\n",
    "for i in obj:\n",
    "    print(i.name)\n",
    "    print(type(i))\n",
    "    print('디렉토리 여부 >>', i.is_dir())\n",
    "    print('파일 여부 >>', i.is_file())\n",
    "    \n",
    "obj.close()"
   ]
  },
  {
   "cell_type": "markdown",
   "id": "82dfed20",
   "metadata": {},
   "source": [
    "해당 디렉토리에 있는 파일과 폴더를 리턴"
   ]
  },
  {
   "cell_type": "code",
   "execution_count": 9,
   "id": "40306d20",
   "metadata": {},
   "outputs": [
    {
     "name": "stdout",
     "output_type": "stream",
     "text": [
      ".ipynb_checkpoints\n",
      "<class 'str'>\n",
      "chromedriver_win32\n",
      "<class 'str'>\n",
      "chromedriver_win32.zip\n",
      "<class 'str'>\n",
      "my_escel.xlsx\n",
      "<class 'str'>\n",
      "os 모듈.ipynb\n",
      "<class 'str'>\n",
      "selenium_practice.py\n",
      "<class 'str'>\n",
      "웹 크롤링.ipynb\n",
      "<class 'str'>\n"
     ]
    }
   ],
   "source": [
    "# path = './'\n",
    "a = os.listdir(currentdir)\n",
    "for i in a:\n",
    "    print(i)\n",
    "    print(type(i))"
   ]
  },
  {
   "cell_type": "markdown",
   "id": "0e104fe5",
   "metadata": {},
   "source": [
    "파일실행"
   ]
  },
  {
   "cell_type": "code",
   "execution_count": 10,
   "id": "2016799c",
   "metadata": {},
   "outputs": [],
   "source": [
    "# 파일실행\n",
    "os.startfile('my_escel.xlsx')"
   ]
  },
  {
   "cell_type": "markdown",
   "id": "c3e3e53f",
   "metadata": {},
   "source": [
    "현재 작업 디렉토리 받기"
   ]
  },
  {
   "cell_type": "code",
   "execution_count": 13,
   "id": "b5bb4c21",
   "metadata": {},
   "outputs": [
    {
     "data": {
      "text/plain": [
       "'C:\\\\Users\\\\User\\\\Desktop\\\\파이썬\\\\업무 자동화'"
      ]
     },
     "execution_count": 13,
     "metadata": {},
     "output_type": "execute_result"
    }
   ],
   "source": [
    "os.getcwd()"
   ]
  },
  {
   "cell_type": "markdown",
   "id": "eec53ba1",
   "metadata": {},
   "source": [
    "현재 작업 디렉토리 교체"
   ]
  },
  {
   "cell_type": "code",
   "execution_count": 15,
   "id": "8a7f3f96",
   "metadata": {},
   "outputs": [],
   "source": [
    "os.chdir('C:\\\\Users\\\\User\\\\Desktop\\\\파이썬')"
   ]
  },
  {
   "cell_type": "code",
   "execution_count": 19,
   "id": "96c65878",
   "metadata": {},
   "outputs": [
    {
     "data": {
      "text/plain": [
       "'C:\\\\Users\\\\User\\\\Desktop\\\\파이썬'"
      ]
     },
     "execution_count": 19,
     "metadata": {},
     "output_type": "execute_result"
    }
   ],
   "source": [
    "os.getcwd()"
   ]
  },
  {
   "cell_type": "code",
   "execution_count": 21,
   "id": "b51c9c0a",
   "metadata": {},
   "outputs": [],
   "source": [
    "os.chdir(currentdir)"
   ]
  },
  {
   "cell_type": "code",
   "execution_count": 22,
   "id": "016eaf7f",
   "metadata": {},
   "outputs": [
    {
     "data": {
      "text/plain": [
       "['.ipynb_checkpoints',\n",
       " 'chromedriver_win32',\n",
       " 'chromedriver_win32.zip',\n",
       " 'my_escel.xlsx',\n",
       " 'os 모듈.ipynb',\n",
       " 'selenium_practice.py',\n",
       " '웹 크롤링.ipynb']"
      ]
     },
     "execution_count": 22,
     "metadata": {},
     "output_type": "execute_result"
    }
   ],
   "source": [
    "os.listdir() # 현재 디렉토리에서 리스트 가져오기"
   ]
  },
  {
   "cell_type": "code",
   "execution_count": 23,
   "id": "e7b32f84",
   "metadata": {},
   "outputs": [],
   "source": [
    "os.chdir(currentdir)"
   ]
  },
  {
   "cell_type": "code",
   "execution_count": 24,
   "id": "dd69c547",
   "metadata": {},
   "outputs": [
    {
     "name": "stdout",
     "output_type": "stream",
     "text": [
      "C:\\Users\\User\\Desktop\\파이썬\\업무 자동화\n"
     ]
    }
   ],
   "source": [
    "a = os.getcwd()\n",
    "print(a)"
   ]
  },
  {
   "cell_type": "markdown",
   "id": "f5ec85a4",
   "metadata": {},
   "source": [
    "새로운 디렉토리 만들기"
   ]
  },
  {
   "cell_type": "code",
   "execution_count": 26,
   "id": "69596fb7",
   "metadata": {},
   "outputs": [],
   "source": [
    "os.mkdir(a + '/hello' + str(i))"
   ]
  },
  {
   "cell_type": "markdown",
   "id": "05c8eb13",
   "metadata": {},
   "source": [
    "파일명 다시짓기"
   ]
  },
  {
   "cell_type": "code",
   "execution_count": 27,
   "id": "e15d89a7",
   "metadata": {},
   "outputs": [],
   "source": [
    "os.rename('my_escel.xlsx', 'my_excel.xlsx')"
   ]
  },
  {
   "cell_type": "code",
   "execution_count": null,
   "id": "3f0516b5",
   "metadata": {},
   "outputs": [],
   "source": []
  }
 ],
 "metadata": {
  "kernelspec": {
   "display_name": "Python 3 (ipykernel)",
   "language": "python",
   "name": "python3"
  },
  "language_info": {
   "codemirror_mode": {
    "name": "ipython",
    "version": 3
   },
   "file_extension": ".py",
   "mimetype": "text/x-python",
   "name": "python",
   "nbconvert_exporter": "python",
   "pygments_lexer": "ipython3",
   "version": "3.9.7"
  }
 },
 "nbformat": 4,
 "nbformat_minor": 5
}
