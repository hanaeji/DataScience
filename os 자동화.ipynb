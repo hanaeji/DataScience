{
 "cells": [
  {
   "cell_type": "code",
   "execution_count": 1,
   "id": "bfc410dd",
   "metadata": {},
   "outputs": [],
   "source": [
    "import requests as rq\n",
    "import pandas as pd\n",
    "from urllib import parse\n",
    "import os\n",
    "import datetime as dt"
   ]
  },
  {
   "cell_type": "code",
   "execution_count": 3,
   "id": "078a374b",
   "metadata": {},
   "outputs": [
    {
     "name": "stdout",
     "output_type": "stream",
     "text": [
      "[          통화명    매매기준율        전일대비     등락률\n",
      "0      미국 USD  1195.50  전일대비하락2.00  -0.17%\n",
      "1  일본 JPY 100  1037.90  전일대비하락2.91  -0.28%\n",
      "2    유럽연합 EUR  1358.09  전일대비하락4.13  -0.30%\n",
      "3      중국 CNY   189.04  전일대비상승0.06  +0.03%\n",
      "4      영국 GBP  1627.25  전일대비하락2.67  -0.16%\n",
      "5      호주 AUD   860.88  전일대비하락2.34  -0.27%\n",
      "6     캐나다 CAD   941.19  전일대비하락1.65  -0.18%\n",
      "7    뉴질랜드 NZD   802.48  전일대비하락1.28  -0.16%]\n"
     ]
    }
   ],
   "source": [
    "query = parse.quote('환율')\n",
    "exchange_result = pd.read_html('https://search.naver.com/search.naver?where=nexearch&sm=top_sly.hst&fbm=1&acr=1&ie=utf8&query=' + query)\n",
    "print(exchange_result)"
   ]
  },
  {
   "cell_type": "code",
   "execution_count": 4,
   "id": "31987c5f",
   "metadata": {},
   "outputs": [
    {
     "data": {
      "text/html": [
       "<div>\n",
       "<style scoped>\n",
       "    .dataframe tbody tr th:only-of-type {\n",
       "        vertical-align: middle;\n",
       "    }\n",
       "\n",
       "    .dataframe tbody tr th {\n",
       "        vertical-align: top;\n",
       "    }\n",
       "\n",
       "    .dataframe thead th {\n",
       "        text-align: right;\n",
       "    }\n",
       "</style>\n",
       "<table border=\"1\" class=\"dataframe\">\n",
       "  <thead>\n",
       "    <tr style=\"text-align: right;\">\n",
       "      <th></th>\n",
       "      <th>통화명</th>\n",
       "      <th>매매기준율</th>\n",
       "      <th>전일대비</th>\n",
       "      <th>등락률</th>\n",
       "    </tr>\n",
       "  </thead>\n",
       "  <tbody>\n",
       "    <tr>\n",
       "      <th>0</th>\n",
       "      <td>미국 USD</td>\n",
       "      <td>1195.50</td>\n",
       "      <td>전일대비하락2.00</td>\n",
       "      <td>-0.17%</td>\n",
       "    </tr>\n",
       "    <tr>\n",
       "      <th>1</th>\n",
       "      <td>일본 JPY 100</td>\n",
       "      <td>1037.90</td>\n",
       "      <td>전일대비하락2.91</td>\n",
       "      <td>-0.28%</td>\n",
       "    </tr>\n",
       "    <tr>\n",
       "      <th>2</th>\n",
       "      <td>유럽연합 EUR</td>\n",
       "      <td>1358.09</td>\n",
       "      <td>전일대비하락4.13</td>\n",
       "      <td>-0.30%</td>\n",
       "    </tr>\n",
       "    <tr>\n",
       "      <th>3</th>\n",
       "      <td>중국 CNY</td>\n",
       "      <td>189.04</td>\n",
       "      <td>전일대비상승0.06</td>\n",
       "      <td>+0.03%</td>\n",
       "    </tr>\n",
       "    <tr>\n",
       "      <th>4</th>\n",
       "      <td>영국 GBP</td>\n",
       "      <td>1627.25</td>\n",
       "      <td>전일대비하락2.67</td>\n",
       "      <td>-0.16%</td>\n",
       "    </tr>\n",
       "    <tr>\n",
       "      <th>5</th>\n",
       "      <td>호주 AUD</td>\n",
       "      <td>860.88</td>\n",
       "      <td>전일대비하락2.34</td>\n",
       "      <td>-0.27%</td>\n",
       "    </tr>\n",
       "    <tr>\n",
       "      <th>6</th>\n",
       "      <td>캐나다 CAD</td>\n",
       "      <td>941.19</td>\n",
       "      <td>전일대비하락1.65</td>\n",
       "      <td>-0.18%</td>\n",
       "    </tr>\n",
       "    <tr>\n",
       "      <th>7</th>\n",
       "      <td>뉴질랜드 NZD</td>\n",
       "      <td>802.48</td>\n",
       "      <td>전일대비하락1.28</td>\n",
       "      <td>-0.16%</td>\n",
       "    </tr>\n",
       "  </tbody>\n",
       "</table>\n",
       "</div>"
      ],
      "text/plain": [
       "          통화명    매매기준율        전일대비     등락률\n",
       "0      미국 USD  1195.50  전일대비하락2.00  -0.17%\n",
       "1  일본 JPY 100  1037.90  전일대비하락2.91  -0.28%\n",
       "2    유럽연합 EUR  1358.09  전일대비하락4.13  -0.30%\n",
       "3      중국 CNY   189.04  전일대비상승0.06  +0.03%\n",
       "4      영국 GBP  1627.25  전일대비하락2.67  -0.16%\n",
       "5      호주 AUD   860.88  전일대비하락2.34  -0.27%\n",
       "6     캐나다 CAD   941.19  전일대비하락1.65  -0.18%\n",
       "7    뉴질랜드 NZD   802.48  전일대비하락1.28  -0.16%"
      ]
     },
     "execution_count": 4,
     "metadata": {},
     "output_type": "execute_result"
    }
   ],
   "source": [
    "exchange_result[0]"
   ]
  },
  {
   "cell_type": "code",
   "execution_count": 6,
   "id": "2ea637bb",
   "metadata": {},
   "outputs": [
    {
     "name": "stdout",
     "output_type": "stream",
     "text": [
      "20 2 2022\n"
     ]
    }
   ],
   "source": [
    "today = dt.date.today()\n",
    "print(today.day, today.month, today.year)"
   ]
  },
  {
   "cell_type": "code",
   "execution_count": 9,
   "id": "8448c06b",
   "metadata": {},
   "outputs": [],
   "source": [
    "date_name = str(today.year) + '년' + str(today.month) + '월' + str(today.day) + '일'\n",
    "if os.path.exists(date_name):\n",
    "    pass\n",
    "else: os.mkdir(date_name)"
   ]
  },
  {
   "cell_type": "code",
   "execution_count": 11,
   "id": "dd539a34",
   "metadata": {},
   "outputs": [],
   "source": [
    "os.chdir(date_name)"
   ]
  },
  {
   "cell_type": "code",
   "execution_count": null,
   "id": "ccb84542",
   "metadata": {},
   "outputs": [],
   "source": [
    "exchange_result[0].to_excel(date_name+'환율결과'+"
   ]
  }
 ],
 "metadata": {
  "kernelspec": {
   "display_name": "Python 3 (ipykernel)",
   "language": "python",
   "name": "python3"
  },
  "language_info": {
   "codemirror_mode": {
    "name": "ipython",
    "version": 3
   },
   "file_extension": ".py",
   "mimetype": "text/x-python",
   "name": "python",
   "nbconvert_exporter": "python",
   "pygments_lexer": "ipython3",
   "version": "3.9.7"
  }
 },
 "nbformat": 4,
 "nbformat_minor": 5
}
