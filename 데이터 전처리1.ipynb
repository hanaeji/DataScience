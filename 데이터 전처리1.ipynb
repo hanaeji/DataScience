{
 "cells": [
  {
   "cell_type": "code",
   "execution_count": 2,
   "id": "452df0e0",
   "metadata": {},
   "outputs": [],
   "source": [
    "import pandas as pd\n",
    "import warnings\n",
    "warnings.filterwarnings(\"ignore\")\n",
    "\n",
    "src_path = 'https://codepresso-online-platform-public.s3.ap-northeast-2.amazonaws.com/learning-resourse/python_da/kaggle_boston_price.csv'"
   ]
  },
  {
   "cell_type": "code",
   "execution_count": 3,
   "id": "2e2ddeb6",
   "metadata": {},
   "outputs": [
    {
     "name": "stdout",
     "output_type": "stream",
     "text": [
      "         TOWN     LON      LAT  CMEDV     CRIM    ZN  INDUS  CHAS    NOX  \\\n",
      "0      Nahant -70.955  42.2550   24.0  0.00632  18.0   2.31     0  0.538   \n",
      "1  Swampscott -70.950  42.2875   21.6  0.02731   0.0   7.07     0  0.469   \n",
      "2  Swampscott -70.936  42.2830   34.7  0.02729   0.0   7.07     0  0.469   \n",
      "3  Marblehead -70.928  42.2930   33.4  0.03237   0.0   2.18     0  0.458   \n",
      "4  Marblehead -70.922  42.2980   36.2  0.06905   0.0   2.18     0  0.458   \n",
      "\n",
      "      RM   AGE     DIS  RAD  TAX  PTRATIO       B  LSTAT  \n",
      "0  6.575  65.2  4.0900    1  296     15.3  396.90   4.98  \n",
      "1  6.421  78.9  4.9671    2  242     17.8  396.90   9.14  \n",
      "2  7.185  61.1  4.9671    2  242     17.8  392.83   4.03  \n",
      "3  6.998  45.8  6.0622    3  222     18.7  394.63   2.94  \n",
      "4  7.147  54.2  6.0622    3  222     18.7  396.90   5.33  \n"
     ]
    }
   ],
   "source": [
    "'''\n",
    "#한글이 포함된경우 encoding='CP949'를 반드시 넣어주세요.\n",
    "'''\n",
    "df = pd.read_csv(src_path, sep=',') \n",
    "\n",
    "print(df.head(5))"
   ]
  },
  {
   "cell_type": "code",
   "execution_count": 4,
   "id": "7e393647",
   "metadata": {},
   "outputs": [
    {
     "name": "stdout",
     "output_type": "stream",
     "text": [
      "TOWN       0\n",
      "LON        0\n",
      "LAT        0\n",
      "CMEDV      0\n",
      "CRIM       0\n",
      "ZN         0\n",
      "INDUS      0\n",
      "CHAS       0\n",
      "NOX        0\n",
      "RM         0\n",
      "AGE        0\n",
      "DIS        0\n",
      "RAD        0\n",
      "TAX        0\n",
      "PTRATIO    0\n",
      "B          0\n",
      "LSTAT      0\n",
      "dtype: int64\n"
     ]
    }
   ],
   "source": [
    "'''\n",
    "#결측값 확인하기\n",
    "'''\n",
    "print(df.isnull().sum())"
   ]
  },
  {
   "cell_type": "code",
   "execution_count": 5,
   "id": "96de206e",
   "metadata": {},
   "outputs": [
    {
     "name": "stdout",
     "output_type": "stream",
     "text": [
      "                    TOWN      LON      LAT  CMEDV     CRIM     ZN  INDUS  \\\n",
      "355             Pembroke -70.8525  42.0300   20.6  0.10659   80.0   1.91   \n",
      "57                Wenham -70.9295  42.3715   31.6  0.01432  100.0   1.32   \n",
      "165            Cambridge -71.0820  42.2295   25.0  2.92400    0.0  19.58   \n",
      "39             Lynnfield -71.0130  42.3130   30.8  0.02763   75.0   2.95   \n",
      "243               Natick -71.2320  42.1725   23.7  0.12757   30.0   4.93   \n",
      "132           Somerville -71.0745  42.2405   23.0  0.59005    0.0  21.89   \n",
      "453    Boston Savin Hill -71.0400  42.1770   17.8  8.24809    0.0  18.10   \n",
      "266            Brookline -71.0725  42.1965   30.7  0.78570   20.0   3.97   \n",
      "157            Cambridge -71.0690  42.2285   41.3  1.22358    0.0  19.58   \n",
      "480  Boston West Roxbury -71.1008  42.1740   23.0  5.82401    0.0  18.10   \n",
      "\n",
      "     CHAS    NOX     RM   AGE      DIS  RAD  TAX  PTRATIO       B  LSTAT  \n",
      "355     0  0.413  5.936  19.5  10.5857    4  334     22.0  376.04   5.57  \n",
      "57      0  0.411  6.816  40.5   8.3248    5  256     15.1  392.90   3.95  \n",
      "165     0  0.605  6.101  93.0   2.2834    5  403     14.7  240.16   9.81  \n",
      "39      0  0.428  6.595  21.8   5.4011    3  252     18.3  395.63   4.32  \n",
      "243     0  0.428  6.393   7.8   7.0355    6  300     16.6  374.71   5.19  \n",
      "132     0  0.624  6.372  97.9   2.3274    4  437     21.2  385.76  11.12  \n",
      "453     0  0.713  7.393  99.3   2.4527   24  666     20.2  375.87  16.74  \n",
      "266     0  0.647  7.014  84.6   2.1329    5  264     13.0  384.07  14.79  \n",
      "157     0  0.605  6.943  97.4   1.8773    5  403     14.7  363.43   4.59  \n",
      "480     0  0.532  6.242  64.7   3.4242   24  666     20.2  396.90  10.74  \n",
      "10\n"
     ]
    }
   ],
   "source": [
    "'''\n",
    "#1-1. 표본추출하기\n",
    "'''\n",
    "sampling_results_df = df.sample(n=10, replace=False, random_state=47)\n",
    "print(sampling_results_df)\n",
    "print(len(sampling_results_df))"
   ]
  },
  {
   "cell_type": "code",
   "execution_count": 6,
   "id": "87e5bd0a",
   "metadata": {},
   "outputs": [
    {
     "name": "stdout",
     "output_type": "stream",
     "text": [
      "24\n",
      "1\n",
      "24    132\n",
      "5     115\n",
      "4     110\n",
      "3      38\n",
      "6      26\n",
      "2      24\n",
      "8      24\n",
      "1      20\n",
      "7      17\n",
      "Name: RAD, dtype: int64\n",
      "                TOWN      LON      LAT  CMEDV     CRIM    ZN  INDUS  CHAS  \\\n",
      "255          Ashland -71.2690  42.1482   20.9  0.03548  80.0   3.64     0   \n",
      "501         Winthrop -70.9860  42.2312   22.4  0.06263   0.0  11.93     0   \n",
      "1         Swampscott -70.9500  42.2875   21.6  0.02731   0.0   7.07     0   \n",
      "96        Winchester -71.0850  42.2775   21.4  0.11504   0.0   2.89     0   \n",
      "181          Belmont -71.0966  42.2282   36.2  0.06888   0.0   2.46     0   \n",
      "46           Peabody -70.9650  42.3075   20.0  0.18836   0.0   6.91     0   \n",
      "29              Lynn -70.9510  42.2780   21.0  1.00245   0.0   8.14     0   \n",
      "212          Waltham -71.1335  42.2250   22.4  0.21719   0.0  10.59     1   \n",
      "321        Braintree -70.9975  42.1340   23.1  0.18159   0.0   7.38     0   \n",
      "110          Medford -71.0560  42.2605   21.7  0.10793   0.0   8.56     0   \n",
      "287          Walpole -71.1480  42.0775   23.2  0.03871  52.5   5.32     0   \n",
      "117           Malden -71.0285  42.2620   19.2  0.15098   0.0  10.01     0   \n",
      "301           Canton -71.0875  42.0950   22.0  0.03537  34.0   6.09     0   \n",
      "302           Canton -71.0625  42.1020   26.4  0.09266  34.0   6.09     0   \n",
      "230           Newton -71.1300  42.1880   24.3  0.53700   0.0   6.20     0   \n",
      "236           Newton -71.1485  42.2110   25.1  0.52058   0.0   6.20     1   \n",
      "471  Boston Mattapan -71.0825  42.1698   19.6  4.03841   0.0  18.10     0   \n",
      "421   Boston Roxbury -71.0650  42.2018   14.2  7.02259   0.0  18.10     0   \n",
      "\n",
      "       NOX     RM   AGE     DIS  RAD  TAX  PTRATIO       B  LSTAT  \n",
      "255  0.392  5.876  19.1  9.2203    1  315     16.4  395.18   9.25  \n",
      "501  0.573  6.593  69.1  2.4786    1  273     21.0  391.99   9.67  \n",
      "1    0.469  6.421  78.9  4.9671    2  242     17.8  396.90   9.14  \n",
      "96   0.445  6.163  69.6  3.4952    2  276     18.0  391.83  11.34  \n",
      "181  0.488  6.144  62.2  2.5979    3  193     17.8  396.90   9.45  \n",
      "46   0.448  5.786  33.3  5.1004    3  233     17.9  396.90  14.15  \n",
      "29   0.538  6.674  87.3  4.2390    4  307     21.0  380.23  11.98  \n",
      "212  0.489  5.807  53.8  3.6526    4  277     18.6  390.94  16.03  \n",
      "321  0.493  6.376  54.3  4.5404    5  287     19.6  396.90   6.87  \n",
      "110  0.520  6.195  54.4  2.7778    5  384     20.9  393.49  13.00  \n",
      "287  0.405  6.209  31.3  7.3172    6  293     16.6  396.90   7.14  \n",
      "117  0.547  6.021  82.6  2.7474    6  432     17.8  394.51  10.30  \n",
      "301  0.433  6.590  40.4  5.4917    7  329     16.1  395.75   9.50  \n",
      "302  0.433  6.495  18.4  5.4917    7  329     16.1  383.61   8.67  \n",
      "230  0.504  5.981  68.1  3.6715    8  307     17.4  378.35  11.65  \n",
      "236  0.507  6.631  76.5  4.1480    8  307     17.4  388.45   9.54  \n",
      "471  0.532  6.229  90.7  3.0993   24  666     20.2  395.33  12.87  \n",
      "421  0.718  6.006  95.3  1.8746   24  666     20.2  319.98  15.70  \n"
     ]
    }
   ],
   "source": [
    "'''\n",
    "#1-2. 균등표본추출\n",
    "#RAD(고속도로접근 지수)균등하게 표본추출하기\n",
    "'''\n",
    "print(df['RAD'].max())\n",
    "print(df['RAD'].min())\n",
    "\n",
    "'''\n",
    "#샘플링하기 전에 각 RAD그룹별 데이터 건수를 알아보기\n",
    "'''\n",
    "print(df['RAD'].value_counts())\n",
    "\n",
    "'''\n",
    "#균등하게 샘플링하기(Uniform distribution을 가정할 경우)\n",
    "'''\n",
    "print(df.groupby('RAD', group_keys=False).apply(lambda x: x.sample(2)))"
   ]
  },
  {
   "cell_type": "code",
   "execution_count": 7,
   "id": "c259bbee",
   "metadata": {},
   "outputs": [
    {
     "name": "stdout",
     "output_type": "stream",
     "text": [
      "RAD 지수 : 0, 비율 0.0\n",
      "RAD 지수 : 1, 비율 0.039525691699604744\n",
      "RAD 지수 : 2, 비율 0.04743083003952569\n",
      "RAD 지수 : 3, 비율 0.07509881422924901\n",
      "RAD 지수 : 4, 비율 0.21739130434782608\n",
      "RAD 지수 : 5, 비율 0.22727272727272727\n",
      "RAD 지수 : 6, 비율 0.05138339920948617\n",
      "RAD 지수 : 7, 비율 0.03359683794466403\n",
      "RAD 지수 : 8, 비율 0.04743083003952569\n",
      "RAD 지수 : 9, 비율 0.0\n",
      "RAD 지수 : 10, 비율 0.0\n",
      "RAD 지수 : 11, 비율 0.0\n",
      "RAD 지수 : 12, 비율 0.0\n",
      "RAD 지수 : 13, 비율 0.0\n",
      "RAD 지수 : 14, 비율 0.0\n",
      "RAD 지수 : 15, 비율 0.0\n",
      "RAD 지수 : 16, 비율 0.0\n",
      "RAD 지수 : 17, 비율 0.0\n",
      "RAD 지수 : 18, 비율 0.0\n",
      "RAD 지수 : 19, 비율 0.0\n",
      "RAD 지수 : 20, 비율 0.0\n",
      "RAD 지수 : 21, 비율 0.0\n",
      "RAD 지수 : 22, 비율 0.0\n",
      "RAD 지수 : 23, 비율 0.0\n",
      "RAD 지수 : 24, 비율 0.2608695652173913\n"
     ]
    },
    {
     "data": {
      "text/plain": [
       "[None,\n",
       " None,\n",
       " None,\n",
       " None,\n",
       " None,\n",
       " None,\n",
       " None,\n",
       " None,\n",
       " None,\n",
       " None,\n",
       " None,\n",
       " None,\n",
       " None,\n",
       " None,\n",
       " None,\n",
       " None,\n",
       " None,\n",
       " None,\n",
       " None,\n",
       " None,\n",
       " None,\n",
       " None,\n",
       " None,\n",
       " None,\n",
       " None]"
      ]
     },
     "execution_count": 7,
     "metadata": {},
     "output_type": "execute_result"
    }
   ],
   "source": [
    "'''\n",
    "#1-3. 층화추출\n",
    "#층화추출을 위해 RAD의 그룹별 데이터 비율을 알아보기\n",
    "'''\n",
    "total = len(df)\n",
    "MAX = df['RAD'].max()+1\n",
    "[print(f'RAD 지수 : {i}, 비율 { len(df.loc[df[\"RAD\"]==i])/total }') for i in range(MAX)]"
   ]
  },
  {
   "cell_type": "code",
   "execution_count": 8,
   "id": "af3d6f94",
   "metadata": {},
   "outputs": [
    {
     "name": "stdout",
     "output_type": "stream",
     "text": [
      "                       TOWN      LON      LAT  CMEDV      CRIM    ZN  INDUS  \\\n",
      "RAD                                                                           \n",
      "3   273              Dedham -71.1170  42.1510   35.2   0.22188  20.0   6.96   \n",
      "4   16                 Lynn -70.9870  42.2985   23.1   1.05393   0.0   8.14   \n",
      "    319              Quincy -71.0200  42.1510   21.0   0.47547   0.0   9.90   \n",
      "5   164           Cambridge -71.0918  42.2265   22.7   2.24236   0.0  19.58   \n",
      "    321           Braintree -70.9975  42.1340   23.1   0.18159   0.0   7.38   \n",
      "6   494              Revere -71.0125  42.2500   24.5   0.27957   0.0   9.69   \n",
      "24  465   Boston Dorchester -71.0550  42.1650   19.9   3.16360   0.0  18.10   \n",
      "    380  Boston Charlestown -71.0460  42.2300   10.4  88.97620   0.0  18.10   \n",
      "    448   Boston Savin Hill -71.0400  42.1820   14.1   9.32909   0.0  18.10   \n",
      "\n",
      "         CHAS    NOX     RM   AGE     DIS  RAD  TAX  PTRATIO       B  LSTAT  \n",
      "RAD                                                                          \n",
      "3   273     1  0.464  7.691  51.8  4.3665    3  223     18.6  390.77   6.58  \n",
      "4   16      0  0.538  5.935  29.3  4.4986    4  307     21.0  386.85   6.58  \n",
      "    319     0  0.544  6.113  58.8  4.0019    4  304     18.4  396.23  12.73  \n",
      "5   164     0  0.605  5.854  91.8  2.4220    5  403     14.7  395.11  11.64  \n",
      "    321     0  0.493  6.376  54.3  4.5404    5  287     19.6  396.90   6.87  \n",
      "6   494     0  0.585  5.926  42.6  2.3817    6  391     19.2  396.90  13.59  \n",
      "24  465     0  0.655  5.759  48.2  3.0665   24  666     20.2  334.40  14.13  \n",
      "    380     0  0.671  6.968  91.9  1.4165   24  666     20.2  396.90  17.21  \n",
      "    448     0  0.713  6.185  98.7  2.2616   24  666     20.2  396.90  18.13  \n"
     ]
    }
   ],
   "source": [
    "'''\n",
    "#층화추출 - groupby를 수행해서 multi-index를 생성하였음을 주목하자.\n",
    "'''\n",
    "import numpy as np\n",
    "N=10\n",
    "print(df.groupby('RAD').apply(lambda x: x.sample(int(np.rint(N*len(x)/len(df))))))"
   ]
  },
  {
   "cell_type": "code",
   "execution_count": 9,
   "id": "a9edd085",
   "metadata": {},
   "outputs": [
    {
     "name": "stdout",
     "output_type": "stream",
     "text": [
      "                  TOWN      LON      LAT  CMEDV      CRIM    ZN  INDUS  CHAS  \\\n",
      "0              Norwood -71.1180  42.1217   21.7   0.08199   0.0  13.92     0   \n",
      "1       Boston Roxbury -71.0542  42.1961   10.9  37.66190   0.0  18.10     0   \n",
      "2  Boston South Boston -71.0326  42.2011    5.6  25.04610   0.0  18.10     0   \n",
      "3       Boston Roxbury -71.0558  42.1937   10.2  12.24720   0.0  18.10     0   \n",
      "4            Braintree -71.0100  42.1215   22.2   0.24103   0.0   7.38     0   \n",
      "5              Medford -71.0600  42.2540   19.4   0.26363   0.0   8.56     0   \n",
      "6               Dedham -71.0940  42.1355   25.2   0.16211  20.0   6.96     0   \n",
      "7              Walpole -71.1480  42.0775   23.2   0.03871  52.5   5.32     0   \n",
      "8                 Lynn -70.9780  42.2850   17.5   0.78420   0.0   8.14     0   \n",
      "\n",
      "     NOX     RM    AGE     DIS  RAD  TAX  PTRATIO       B  LSTAT  \n",
      "0  0.437  6.009   42.3  5.5027    4  289     16.0  396.90  10.40  \n",
      "1  0.679  6.202   78.7  1.8629   24  666     20.2   18.82  14.52  \n",
      "2  0.693  5.987  100.0  1.5888   24  666     20.2  396.90  26.77  \n",
      "3  0.584  5.837   59.7  1.9976   24  666     20.2   24.65  15.69  \n",
      "4  0.493  6.083   43.7  5.4159    5  287     19.6  396.90  12.79  \n",
      "5  0.520  6.229   91.2  2.5451    5  384     20.9  391.23  15.55  \n",
      "6  0.464  6.240   16.3  4.4290    3  223     18.6  396.90   6.59  \n",
      "7  0.405  6.209   31.3  7.3172    6  293     16.6  396.90   7.14  \n",
      "8  0.538  5.990   81.7  4.2579    4  307     21.0  386.75  14.67  \n"
     ]
    }
   ],
   "source": [
    "'''\n",
    "#층화추출 - index 부분은 데이터를 추출한 후, \n",
    "#필요가 없어지므로 제거하고 새로운 인덱스 부여(frac=1 ==> 전체를 의미 ==> 여기서는 10개가 전체이므로)\n",
    "'''\n",
    "print(df.groupby('RAD', group_keys=False).apply(\n",
    "    lambda x: x.sample(int(np.rint(N*len(x)/len(df))))).sample(frac=1).reset_index(drop=True))"
   ]
  },
  {
   "cell_type": "code",
   "execution_count": 10,
   "id": "c1fb6ad1",
   "metadata": {},
   "outputs": [
    {
     "name": "stdout",
     "output_type": "stream",
     "text": [
      "         TOWN      LON      LAT  CMEDV     CRIM   ZN  INDUS  CHAS    NOX  \\\n",
      "1  Swampscott -70.9500  42.2875   21.6  0.02731  0.0   7.07     0  0.469   \n",
      "2  Swampscott -70.9360  42.2830   34.7  0.02729  0.0   7.07     0  0.469   \n",
      "3  Marblehead -70.9280  42.2930   33.4  0.03237  0.0   2.18     0  0.458   \n",
      "4  Marblehead -70.9220  42.2980   36.2  0.06905  0.0   2.18     0  0.458   \n",
      "5  Marblehead -70.9165  42.3040   28.7  0.02985  0.0   2.18     0  0.458   \n",
      "\n",
      "      RM   AGE     DIS  RAD  TAX  PTRATIO       B  LSTAT  \n",
      "1  6.421  78.9  4.9671    2  242     17.8  396.90   9.14  \n",
      "2  7.185  61.1  4.9671    2  242     17.8  392.83   4.03  \n",
      "3  6.998  45.8  6.0622    3  222     18.7  394.63   2.94  \n",
      "4  7.147  54.2  6.0622    3  222     18.7  396.90   5.33  \n",
      "5  6.430  58.7  6.0622    3  222     18.7  394.12   5.21  \n"
     ]
    }
   ],
   "source": [
    "'''\n",
    "#1-4. 판다스를 활용하여 조건을 만족하는 레코드 추출하기\n",
    "#NOX : 산화질소농도\n",
    "'''\n",
    "condition_df1 = df.loc[df['NOX'] <= 0.5]\n",
    "print(condition_df1.head(5))"
   ]
  },
  {
   "cell_type": "code",
   "execution_count": 11,
   "id": "8da984e7",
   "metadata": {},
   "outputs": [
    {
     "name": "stdout",
     "output_type": "stream",
     "text": [
      "         TOWN      LON      LAT  CMEDV     CRIM   ZN  INDUS  CHAS    NOX  \\\n",
      "1  Swampscott -70.9500  42.2875   21.6  0.02731  0.0   7.07     0  0.469   \n",
      "2  Swampscott -70.9360  42.2830   34.7  0.02729  0.0   7.07     0  0.469   \n",
      "3  Marblehead -70.9280  42.2930   33.4  0.03237  0.0   2.18     0  0.458   \n",
      "4  Marblehead -70.9220  42.2980   36.2  0.06905  0.0   2.18     0  0.458   \n",
      "5  Marblehead -70.9165  42.3040   28.7  0.02985  0.0   2.18     0  0.458   \n",
      "\n",
      "      RM   AGE     DIS  RAD  TAX  PTRATIO       B  LSTAT  \n",
      "1  6.421  78.9  4.9671    2  242     17.8  396.90   9.14  \n",
      "2  7.185  61.1  4.9671    2  242     17.8  392.83   4.03  \n",
      "3  6.998  45.8  6.0622    3  222     18.7  394.63   2.94  \n",
      "4  7.147  54.2  6.0622    3  222     18.7  396.90   5.33  \n",
      "5  6.430  58.7  6.0622    3  222     18.7  394.12   5.21  \n"
     ]
    }
   ],
   "source": [
    "'''\n",
    "#조건이 2개일 경우\n",
    "'''\n",
    "condition_df2 = df.loc[(df['NOX']<=0.5) & (df['RAD']<=4)]\n",
    "print(condition_df1.head(5))"
   ]
  },
  {
   "cell_type": "code",
   "execution_count": 14,
   "id": "6bb83dc2",
   "metadata": {},
   "outputs": [
    {
     "name": "stdout",
     "output_type": "stream",
     "text": [
      "A_df len : 256, B_df len : 250, join_df len : 506\n"
     ]
    }
   ],
   "source": [
    "'''\n",
    "#1-5 : 데이터 분할하기\n",
    "'''\n",
    "A_df = df.loc[df['TAX'] <= df['TAX'].median()]\n",
    "B_df = df.loc[df['TAX'] > df['TAX'].median()]\n",
    "\n",
    "'''\n",
    "#1-6 : 데이터 추가하기\n",
    "'''\n",
    "join_df = A_df.append(B_df, ignore_index=True)\n",
    "print(\"A_df len : {}, B_df len : {}, join_df len : {}\".format(len(A_df), len(B_df), len(join_df)))"
   ]
  },
  {
   "cell_type": "code",
   "execution_count": 15,
   "id": "e2e030b5",
   "metadata": {},
   "outputs": [
    {
     "name": "stdout",
     "output_type": "stream",
     "text": [
      "         TOWN     LON      LAT  CMEDV\n",
      "0      Nahant -70.955  42.2550   24.0\n",
      "1  Swampscott -70.950  42.2875   21.6\n",
      "2  Swampscott -70.936  42.2830   34.7\n",
      "3  Marblehead -70.928  42.2930   33.4\n"
     ]
    }
   ],
   "source": [
    "'''\n",
    "#1-7 : 데이터병합하기\n",
    "'''\n",
    "df1 = df.loc[:3, 'TOWN':'LAT']\n",
    "df2 = df.loc[:3, ['LON', 'LAT', 'CMEDV']]\n",
    "\n",
    "merge_df = df1.merge(df2)\n",
    "print(merge_df)"
   ]
  },
  {
   "cell_type": "code",
   "execution_count": null,
   "id": "bd3d73bc",
   "metadata": {},
   "outputs": [],
   "source": []
  }
 ],
 "metadata": {
  "kernelspec": {
   "display_name": "Python 3 (ipykernel)",
   "language": "python",
   "name": "python3"
  },
  "language_info": {
   "codemirror_mode": {
    "name": "ipython",
    "version": 3
   },
   "file_extension": ".py",
   "mimetype": "text/x-python",
   "name": "python",
   "nbconvert_exporter": "python",
   "pygments_lexer": "ipython3",
   "version": "3.9.7"
  }
 },
 "nbformat": 4,
 "nbformat_minor": 5
}
