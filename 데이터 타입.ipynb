{
 "cells": [
  {
   "cell_type": "markdown",
   "id": "4fb50613",
   "metadata": {},
   "source": [
    "# 리스트\n",
    "새로운 데이터 형태를 배워보아요"
   ]
  },
  {
   "cell_type": "code",
   "execution_count": 1,
   "id": "818b12bf",
   "metadata": {},
   "outputs": [],
   "source": [
    "변수1 = 3\n",
    "변수2 = 4\n",
    "변수3 = '안녕하세요'"
   ]
  },
  {
   "cell_type": "markdown",
   "id": "093f64af",
   "metadata": {},
   "source": [
    "# 한 번에 묶을 수는 없을까?\n",
    "너무 많은 데이터를 '한번'에 묶을 수 있는 데이터 형태"
   ]
  },
  {
   "cell_type": "code",
   "execution_count": 7,
   "id": "d7e42cdc",
   "metadata": {},
   "outputs": [
    {
     "name": "stdout",
     "output_type": "stream",
     "text": [
      "<class 'list'>\n",
      "[3, 4, '안녕하세요']\n"
     ]
    }
   ],
   "source": [
    "리스트 = [3, 4, '안녕하세요']\n",
    "print(type(리스트))\n",
    "print(리스트)"
   ]
  },
  {
   "cell_type": "markdown",
   "id": "ff55efae",
   "metadata": {},
   "source": [
    "# 온갖 것들이 다 들어간다!\n",
    "마치 도라에몽 주머니같은 리스트 데이터 형태"
   ]
  },
  {
   "cell_type": "code",
   "execution_count": 8,
   "id": "17802157",
   "metadata": {},
   "outputs": [
    {
     "name": "stdout",
     "output_type": "stream",
     "text": [
      "[1, 2, 3]\n"
     ]
    }
   ],
   "source": [
    "리스트1 = [1, 2, 3]\n",
    "print(리스트1)"
   ]
  },
  {
   "cell_type": "code",
   "execution_count": 9,
   "id": "9944a102",
   "metadata": {},
   "outputs": [
    {
     "name": "stdout",
     "output_type": "stream",
     "text": [
      "[2.5, 3, '나는 리스트 요소이다']\n"
     ]
    }
   ],
   "source": [
    "리스트2 = [2.5, 3, '나는 리스트 요소이다']\n",
    "print(리스트2)"
   ]
  },
  {
   "cell_type": "code",
   "execution_count": 10,
   "id": "2fa52681",
   "metadata": {},
   "outputs": [
    {
     "name": "stdout",
     "output_type": "stream",
     "text": [
      "[[1, 2], 3.4, '리', '스', '트는 멋있어', [3.4, 5.6, 8]]\n"
     ]
    }
   ],
   "source": [
    "# 리스트 = [요소, 요소, 요소, ...] element\n",
    "리스트3 = [[1, 2], 3.4, '리', '스', '트는 멋있어', [3.4, 5.6, 8]]\n",
    "print(리스트3)"
   ]
  },
  {
   "cell_type": "markdown",
   "id": "2730ef61",
   "metadata": {},
   "source": [
    "# 리스트의 각 요소를 꺼내오기\n",
    "문자열에 접근하는 것 기억나시죠?"
   ]
  },
  {
   "cell_type": "code",
   "execution_count": 11,
   "id": "881a79bf",
   "metadata": {},
   "outputs": [
    {
     "name": "stdout",
     "output_type": "stream",
     "text": [
      "1\n",
      "<class 'int'>\n"
     ]
    }
   ],
   "source": [
    "# 리스트1[0]\n",
    "print(리스트1[0])\n",
    "print(type(리스트1[0]))"
   ]
  },
  {
   "cell_type": "code",
   "execution_count": 12,
   "id": "249a59d7",
   "metadata": {},
   "outputs": [
    {
     "name": "stdout",
     "output_type": "stream",
     "text": [
      "2.5\n",
      "<class 'float'>\n"
     ]
    }
   ],
   "source": [
    "print(리스트2[0])\n",
    "print(type(리스트2[0]))"
   ]
  },
  {
   "cell_type": "code",
   "execution_count": 14,
   "id": "91ddd06b",
   "metadata": {},
   "outputs": [
    {
     "name": "stdout",
     "output_type": "stream",
     "text": [
      "[1, 2]\n",
      "3\n"
     ]
    }
   ],
   "source": [
    "나만의리스트 = 리스트3[0]\n",
    "print(나만의리스트)\n",
    "덧셈결과 = 나만의리스트[0] + 나만의리스트[1]\n",
    "print(덧셈결과)"
   ]
  },
  {
   "cell_type": "markdown",
   "id": "5a14cb30",
   "metadata": {},
   "source": [
    "# 리스트 안의 리스트 접근하기"
   ]
  },
  {
   "cell_type": "code",
   "execution_count": 15,
   "id": "296cafaf",
   "metadata": {},
   "outputs": [
    {
     "data": {
      "text/plain": [
       "[1, 2]"
      ]
     },
     "execution_count": 15,
     "metadata": {},
     "output_type": "execute_result"
    }
   ],
   "source": [
    "리스트3 = [[1, 2], 3.4, '리', '스', '트는 멋있어', [3.4, 5.6, 8]]\n",
    "리스트3[0] # [1,2]"
   ]
  },
  {
   "cell_type": "code",
   "execution_count": 16,
   "id": "e5111fe6",
   "metadata": {},
   "outputs": [
    {
     "name": "stdout",
     "output_type": "stream",
     "text": [
      "1\n",
      "리스트 안의 리스트의 1번째 값 >> <class 'int'>\n"
     ]
    }
   ],
   "source": [
    "print(리스트3[0][0])\n",
    "print('리스트 안의 리스트의 1번째 값 >>', type(리스트3[0][0]))"
   ]
  },
  {
   "cell_type": "markdown",
   "id": "6401f9f7",
   "metadata": {},
   "source": [
    "# 리스트에도 메소드가 있어요\n",
    "문자열에서 배웠던 특수한 기능. 기억나시죠?"
   ]
  },
  {
   "cell_type": "markdown",
   "id": "ad61631b",
   "metadata": {},
   "source": [
    "# list.append()\n",
    "이미 생성된 데이터 리스트에 데이터 끼워넣기"
   ]
  },
  {
   "cell_type": "code",
   "execution_count": 24,
   "id": "7deb3fc6",
   "metadata": {},
   "outputs": [
    {
     "name": "stdout",
     "output_type": "stream",
     "text": [
      "['사과', '바나나', '파인애플', '오렌지']\n"
     ]
    }
   ],
   "source": [
    "과일 = ['사과', '바나나', '파인애플']\n",
    "과일.append('오렌지')\n",
    "print(과일)"
   ]
  },
  {
   "cell_type": "code",
   "execution_count": 25,
   "id": "68b78c73",
   "metadata": {},
   "outputs": [
    {
     "name": "stdout",
     "output_type": "stream",
     "text": [
      "['사과', '바나나', '파인애플', '오렌지', ['키위', '딸기']]\n"
     ]
    }
   ],
   "source": [
    "과일2 = ['키위', '딸기']\n",
    "과일.append(과일2)\n",
    "print(과일)"
   ]
  },
  {
   "cell_type": "markdown",
   "id": "5f6060fc",
   "metadata": {},
   "source": [
    "# list.pop()\n",
    "'몇번째'를 빼고 싶은지 말하고 싶을 때"
   ]
  },
  {
   "cell_type": "code",
   "execution_count": 26,
   "id": "a2edca34",
   "metadata": {},
   "outputs": [
    {
     "name": "stdout",
     "output_type": "stream",
     "text": [
      "['사과', '바나나', '파인애플', '오렌지', ['키위', '딸기']]\n"
     ]
    }
   ],
   "source": [
    "print(과일)"
   ]
  },
  {
   "cell_type": "code",
   "execution_count": 27,
   "id": "428a8674",
   "metadata": {},
   "outputs": [
    {
     "name": "stdout",
     "output_type": "stream",
     "text": [
      "['사과', '바나나', '오렌지', ['키위', '딸기']]\n"
     ]
    }
   ],
   "source": [
    "과일.pop(2)\n",
    "print(과일)"
   ]
  },
  {
   "cell_type": "code",
   "execution_count": 28,
   "id": "3a907f8f",
   "metadata": {},
   "outputs": [
    {
     "name": "stdout",
     "output_type": "stream",
     "text": [
      "['바나나', '오렌지', ['키위', '딸기']]\n"
     ]
    }
   ],
   "source": [
    "과일.pop(0)\n",
    "print(과일)"
   ]
  },
  {
   "cell_type": "markdown",
   "id": "f27e2076",
   "metadata": {},
   "source": [
    "# list.remove()\n",
    "'무엇'을 빼고 싶은지 말하고 싶을 때"
   ]
  },
  {
   "cell_type": "code",
   "execution_count": 29,
   "id": "2b9ba0fc",
   "metadata": {},
   "outputs": [
    {
     "name": "stdout",
     "output_type": "stream",
     "text": [
      "['바나나', '오렌지', ['키위', '딸기']]\n"
     ]
    }
   ],
   "source": [
    "print(과일)"
   ]
  },
  {
   "cell_type": "code",
   "execution_count": 30,
   "id": "567f3e2d",
   "metadata": {},
   "outputs": [
    {
     "name": "stdout",
     "output_type": "stream",
     "text": [
      "['오렌지', ['키위', '딸기']]\n"
     ]
    }
   ],
   "source": [
    "과일.remove('바나나')\n",
    "print(과일)"
   ]
  },
  {
   "cell_type": "markdown",
   "id": "3514e0db",
   "metadata": {},
   "source": [
    "# list.clear()\n",
    "전부 없애는 거"
   ]
  },
  {
   "cell_type": "code",
   "execution_count": 31,
   "id": "19c88c1f",
   "metadata": {},
   "outputs": [
    {
     "name": "stdout",
     "output_type": "stream",
     "text": [
      "[]\n"
     ]
    }
   ],
   "source": [
    "과일.clear()\n",
    "print(과일)"
   ]
  },
  {
   "cell_type": "markdown",
   "id": "c84a2668",
   "metadata": {},
   "source": [
    "# list.count()\n",
    "특정 요소가 몇 개 있는지를 세기"
   ]
  },
  {
   "cell_type": "code",
   "execution_count": 32,
   "id": "ddb03565",
   "metadata": {},
   "outputs": [
    {
     "name": "stdout",
     "output_type": "stream",
     "text": [
      "1의 갯수는 >> 3 개 입니다.\n",
      "22의 갯수는 >> 2 개 입니다.\n"
     ]
    }
   ],
   "source": [
    "숫자모음 = [1, 1, 1, 2, 3, 4, 4, 5, 6, 7, 2, 2, 2, 2, 2, 2, 22, 23, 22, 33, 44, 11, 12, 23]\n",
    "print('1의 갯수는 >>', 숫자모음.count(1), '개 입니다.')\n",
    "print('22의 갯수는 >>', 숫자모음.count(22), '개 입니다.')"
   ]
  },
  {
   "cell_type": "markdown",
   "id": "24114584",
   "metadata": {},
   "source": [
    "# 보너스"
   ]
  },
  {
   "cell_type": "code",
   "execution_count": 34,
   "id": "3c997e4c",
   "metadata": {},
   "outputs": [
    {
     "name": "stdout",
     "output_type": "stream",
     "text": [
      "[1, 2, 3, 4]\n",
      "1 4\n",
      "['안녕하세요', 2, 3, '감사합니다']\n"
     ]
    }
   ],
   "source": [
    "list_1 = [1, 2, 3, 4]\n",
    "print(list_1)\n",
    "print(list_1[0], list_1[3])\n",
    "list_1[0] = '안녕하세요'\n",
    "list_1[3] = '감사합니다'\n",
    "\n",
    "print(list_1)"
   ]
  },
  {
   "cell_type": "markdown",
   "id": "f9a8410a",
   "metadata": {},
   "source": [
    "# 튜플\n",
    "튜플을 만드는 2가지 방법"
   ]
  },
  {
   "cell_type": "code",
   "execution_count": 35,
   "id": "de20618d",
   "metadata": {},
   "outputs": [
    {
     "name": "stdout",
     "output_type": "stream",
     "text": [
      "('사과', '바나나', '파인애플')\n",
      "<class 'tuple'>\n"
     ]
    }
   ],
   "source": [
    "# 리스트와 비슷하다\n",
    "my_tuple = (\"사과\", \"바나나\", '파인애플')\n",
    "print(my_tuple)\n",
    "print(type(my_tuple))"
   ]
  },
  {
   "cell_type": "code",
   "execution_count": 38,
   "id": "d3146773",
   "metadata": {},
   "outputs": [
    {
     "name": "stdout",
     "output_type": "stream",
     "text": [
      "('튜플',)\n",
      "<class 'tuple'>\n"
     ]
    }
   ],
   "source": [
    "my_tuple2 = ('튜플',)\n",
    "print(my_tuple2)\n",
    "print(type(my_tuple2))\n",
    "# , 지우면 그냥 문자열로 인식"
   ]
  },
  {
   "cell_type": "code",
   "execution_count": 39,
   "id": "a3b88657",
   "metadata": {},
   "outputs": [
    {
     "name": "stdout",
     "output_type": "stream",
     "text": [
      "<class 'tuple'>\n"
     ]
    }
   ],
   "source": [
    "# 그냥 쉼표로 만들 수도 있다.\n",
    "a = 3, 4, 5\n",
    "print(type(a))"
   ]
  },
  {
   "cell_type": "code",
   "execution_count": 40,
   "id": "23b8669b",
   "metadata": {},
   "outputs": [
    {
     "name": "stdout",
     "output_type": "stream",
     "text": [
      "<class 'tuple'>\n"
     ]
    }
   ],
   "source": [
    "a = 1\n",
    "b = 3\n",
    "print(type((a, b)))"
   ]
  },
  {
   "cell_type": "code",
   "execution_count": 41,
   "id": "063b9ddf",
   "metadata": {},
   "outputs": [
    {
     "name": "stdout",
     "output_type": "stream",
     "text": [
      "(1, 2)\n",
      "1\n"
     ]
    }
   ],
   "source": [
    "my_tuple3 = ((1, 2), (3, 4), 5)\n",
    "print(my_tuple3[0])\n",
    "print(my_tuple3[0][0])"
   ]
  },
  {
   "cell_type": "markdown",
   "id": "6e7d878e",
   "metadata": {},
   "source": [
    "리스트와 어떻게 다를까요"
   ]
  },
  {
   "cell_type": "code",
   "execution_count": 45,
   "id": "8a6b3729",
   "metadata": {},
   "outputs": [
    {
     "name": "stdout",
     "output_type": "stream",
     "text": [
      "[4, 5]\n",
      "(4, 5)\n",
      "1\n",
      "1\n"
     ]
    }
   ],
   "source": [
    "my_list = [1, 2, 3, 4, 5]\n",
    "my_tuple = (1, 2, 3, 4, 5)\n",
    "\n",
    "print(my_list[3:5])\n",
    "print(my_tuple[3:5])\n",
    "print(my_list[0])\n",
    "print(my_tuple[0])"
   ]
  },
  {
   "cell_type": "code",
   "execution_count": 46,
   "id": "fe6de68a",
   "metadata": {},
   "outputs": [
    {
     "name": "stdout",
     "output_type": "stream",
     "text": [
      "['리스트 첫번째 요소', 2, 3, 4, 5]\n"
     ]
    }
   ],
   "source": [
    "my_list[0] = '리스트 첫번째 요소'\n",
    "print(my_list)"
   ]
  },
  {
   "cell_type": "code",
   "execution_count": 47,
   "id": "fb4dbae2",
   "metadata": {},
   "outputs": [
    {
     "ename": "TypeError",
     "evalue": "'tuple' object does not support item assignment",
     "output_type": "error",
     "traceback": [
      "\u001b[1;31m---------------------------------------------------------------------------\u001b[0m",
      "\u001b[1;31mTypeError\u001b[0m                                 Traceback (most recent call last)",
      "\u001b[1;32m~\\AppData\\Local\\Temp/ipykernel_9944/3853136301.py\u001b[0m in \u001b[0;36m<module>\u001b[1;34m\u001b[0m\n\u001b[1;32m----> 1\u001b[1;33m \u001b[0mmy_tuple\u001b[0m\u001b[1;33m[\u001b[0m\u001b[1;36m0\u001b[0m\u001b[1;33m]\u001b[0m \u001b[1;33m=\u001b[0m \u001b[1;34m'튜플 첫번째 요소'\u001b[0m\u001b[1;33m\u001b[0m\u001b[1;33m\u001b[0m\u001b[0m\n\u001b[0m",
      "\u001b[1;31mTypeError\u001b[0m: 'tuple' object does not support item assignment"
     ]
    }
   ],
   "source": [
    "# my_tuple[0] = '튜플 첫번째 요소' 바뀌지 않음"
   ]
  },
  {
   "cell_type": "markdown",
   "id": "ac7fd5d5",
   "metadata": {},
   "source": [
    "# 튜플 매서드"
   ]
  },
  {
   "cell_type": "code",
   "execution_count": 48,
   "id": "ecf90799",
   "metadata": {},
   "outputs": [
    {
     "name": "stdout",
     "output_type": "stream",
     "text": [
      "2의 갯수는 >> 2\n"
     ]
    }
   ],
   "source": [
    "짝수 = (2, 2, 4, 6, 8, 6, 6, 14, 16, 18, 20)\n",
    "print('2의 갯수는 >>', 짝수.count(2))"
   ]
  },
  {
   "cell_type": "code",
   "execution_count": 49,
   "id": "ffa98f29",
   "metadata": {},
   "outputs": [
    {
     "name": "stdout",
     "output_type": "stream",
     "text": [
      "0\n",
      "9\n",
      "18이라는 숫자는 10 번째에 있습니다.\n"
     ]
    }
   ],
   "source": [
    "print(짝수.index(2))\n",
    "print(짝수.index(18))\n",
    "print('18이라는 숫자는', 짝수.index(18)+1, '번째에 있습니다.')"
   ]
  },
  {
   "cell_type": "markdown",
   "id": "beaaf727",
   "metadata": {},
   "source": [
    "# 셋\n",
    "중복을 허용하지 않고, 순서도 없는 형태"
   ]
  },
  {
   "cell_type": "code",
   "execution_count": 51,
   "id": "502446ae",
   "metadata": {},
   "outputs": [
    {
     "name": "stdout",
     "output_type": "stream",
     "text": [
      "{1, 2, 3, 4, 5}\n",
      "<class 'set'>\n"
     ]
    }
   ],
   "source": [
    "my_set = {1, 2, 3, 4, 5}\n",
    "print(my_set)\n",
    "print(type(my_set))"
   ]
  },
  {
   "cell_type": "code",
   "execution_count": 52,
   "id": "bd6251d6",
   "metadata": {},
   "outputs": [
    {
     "name": "stdout",
     "output_type": "stream",
     "text": [
      "{2, 3, 4}\n",
      "<class 'set'>\n"
     ]
    }
   ],
   "source": [
    "# 중복된 값을 넣어보자\n",
    "my_set2 = {2, 2, 3, 4, 4}\n",
    "print(my_set2)\n",
    "print(type(my_set2))"
   ]
  },
  {
   "cell_type": "code",
   "execution_count": 54,
   "id": "d348f897",
   "metadata": {},
   "outputs": [
    {
     "ename": "TypeError",
     "evalue": "'set' object is not subscriptable",
     "output_type": "error",
     "traceback": [
      "\u001b[1;31m---------------------------------------------------------------------------\u001b[0m",
      "\u001b[1;31mTypeError\u001b[0m                                 Traceback (most recent call last)",
      "\u001b[1;32m~\\AppData\\Local\\Temp/ipykernel_9944/3430258634.py\u001b[0m in \u001b[0;36m<module>\u001b[1;34m\u001b[0m\n\u001b[1;32m----> 1\u001b[1;33m \u001b[0mprint\u001b[0m\u001b[1;33m(\u001b[0m\u001b[0mmy_set\u001b[0m\u001b[1;33m[\u001b[0m\u001b[1;36m0\u001b[0m\u001b[1;33m]\u001b[0m\u001b[1;33m)\u001b[0m\u001b[1;33m\u001b[0m\u001b[1;33m\u001b[0m\u001b[0m\n\u001b[0m\u001b[0;32m      2\u001b[0m \u001b[0mprint\u001b[0m\u001b[1;33m(\u001b[0m\u001b[0mmy_set2\u001b[0m\u001b[1;33m[\u001b[0m\u001b[1;36m0\u001b[0m\u001b[1;33m]\u001b[0m\u001b[1;33m)\u001b[0m\u001b[1;33m\u001b[0m\u001b[1;33m\u001b[0m\u001b[0m\n",
      "\u001b[1;31mTypeError\u001b[0m: 'set' object is not subscriptable"
     ]
    }
   ],
   "source": [
    "print(my_set[0])\n",
    "print(my_set2[0])"
   ]
  },
  {
   "cell_type": "code",
   "execution_count": 55,
   "id": "12ebbbfb",
   "metadata": {},
   "outputs": [
    {
     "data": {
      "text/plain": [
       "{1, 2, 3, 4}"
      ]
     },
     "execution_count": 55,
     "metadata": {},
     "output_type": "execute_result"
    }
   ],
   "source": [
    "my_list = [1, 2, 3, 4, 4, 4, 4]\n",
    "set(my_list) # 리스트를 셋으로 만들어보자\n",
    "# 중복된 값 삭제됨"
   ]
  },
  {
   "cell_type": "markdown",
   "id": "9144cd3f",
   "metadata": {},
   "source": [
    "# 셋 메서드"
   ]
  },
  {
   "cell_type": "markdown",
   "id": "771e5409",
   "metadata": {},
   "source": [
    "# Set.add()\n",
    "요소를 추가해서 넣고 싶을 때"
   ]
  },
  {
   "cell_type": "code",
   "execution_count": 57,
   "id": "3c58c539",
   "metadata": {},
   "outputs": [
    {
     "name": "stdout",
     "output_type": "stream",
     "text": [
      "{'스타벅스', 'SK하이닉스', '삼성SDI', '삼성전자', '테슬라', '이마트'}\n",
      "{'스타벅스', 'SK하이닉스', '삼성SDI', '삼성전자', '테슬라', 'LG화학', '이마트'}\n"
     ]
    }
   ],
   "source": [
    "# 매우 기본적인 더하기\n",
    "회사 = {'삼성전자', 'SK하이닉스', '이마트', '스타벅스',  '테슬라'}\n",
    "회사.add('삼성SDI')\n",
    "print(회사)\n",
    "회사.add('LG화학')\n",
    "print(회사)"
   ]
  },
  {
   "cell_type": "markdown",
   "id": "d713ee8d",
   "metadata": {},
   "source": [
    "# Set.difference(x)\n",
    "Set에만 고유하게 있는 것들을 가져오고 싶을 때 = x와 다른 값을 따로 불러오고 싶을 때"
   ]
  },
  {
   "cell_type": "code",
   "execution_count": 58,
   "id": "8975bada",
   "metadata": {},
   "outputs": [
    {
     "data": {
      "text/plain": [
       "{'SK하이닉스', '이마트'}"
      ]
     },
     "execution_count": 58,
     "metadata": {},
     "output_type": "execute_result"
    }
   ],
   "source": [
    "회사1 = {'삼성전자', 'SK하이닉스', '이마트'}\n",
    "회사2 = {'삼성전자', '한국거래소', '현대자동차'}\n",
    "회사1.difference(회사2)"
   ]
  },
  {
   "cell_type": "markdown",
   "id": "203f126f",
   "metadata": {},
   "source": [
    "# Set.discard(x)\n",
    "x라는 요소를 삭제하고 싶을 떼"
   ]
  },
  {
   "cell_type": "code",
   "execution_count": 59,
   "id": "60e27ce0",
   "metadata": {},
   "outputs": [
    {
     "data": {
      "text/plain": [
       "{'SK하이닉스', '이마트'}"
      ]
     },
     "execution_count": 59,
     "metadata": {},
     "output_type": "execute_result"
    }
   ],
   "source": [
    "회사1 = {'삼성전자', 'SK하이닉스', '이마트'}\n",
    "회사1.discard('삼성전자')\n",
    "회사1"
   ]
  },
  {
   "cell_type": "markdown",
   "id": "3a7c9e48",
   "metadata": {},
   "source": [
    "# Set.clear()\n",
    "Set에 있는 데이터를 비우고 싶을 때"
   ]
  },
  {
   "cell_type": "code",
   "execution_count": 61,
   "id": "12bb96d4",
   "metadata": {},
   "outputs": [
    {
     "name": "stdout",
     "output_type": "stream",
     "text": [
      "{'삼성전자', 'SK하이닉스', '이마트'}\n",
      "set()\n"
     ]
    }
   ],
   "source": [
    "회사1 = {'삼성전자', 'SK하이닉스', '이마트'}\n",
    "print(회사1)\n",
    "회사1.clear()\n",
    "print(회사1)"
   ]
  },
  {
   "cell_type": "markdown",
   "id": "9545031f",
   "metadata": {},
   "source": [
    "# 딕셔너리, 공부 시작!\n",
    "키와 값이 하나의 쌍인 요소를 추가해서 만듭니다."
   ]
  },
  {
   "cell_type": "code",
   "execution_count": 62,
   "id": "204dd2f4",
   "metadata": {},
   "outputs": [
    {
     "name": "stdout",
     "output_type": "stream",
     "text": [
      "{'사과': 3, '바나나': 4, '키위': 5}\n",
      "<class 'dict'>\n"
     ]
    }
   ],
   "source": [
    "과일상자 = {'사과':3, '바나나':4, '키위':5}\n",
    "print(과일상자)\n",
    "print(type(과일상자))"
   ]
  },
  {
   "cell_type": "markdown",
   "id": "5aaaa190",
   "metadata": {},
   "source": [
    "# 셋(set)과는 다르다!"
   ]
  },
  {
   "cell_type": "code",
   "execution_count": 63,
   "id": "58691fc7",
   "metadata": {},
   "outputs": [
    {
     "name": "stdout",
     "output_type": "stream",
     "text": [
      "딕셔너리 : {'사과': 3, '바나나': 4, '키위': 5}\n",
      "셋 : {'사과', '키위', '바나나'}\n"
     ]
    }
   ],
   "source": [
    "셋_과일상자 = {'사과', '바나나', '키위'}\n",
    "print('딕셔너리 :', 과일상자)\n",
    "print('셋 :', 셋_과일상자)"
   ]
  },
  {
   "cell_type": "markdown",
   "id": "d908d83a",
   "metadata": {},
   "source": [
    "# 딕셔너리 요소 접근하기"
   ]
  },
  {
   "cell_type": "markdown",
   "id": "b414bd38",
   "metadata": {},
   "source": [
    "# 키와 값\n",
    "딕셔너리[키]->값을 돌려준다."
   ]
  },
  {
   "cell_type": "code",
   "execution_count": 64,
   "id": "ee677da9",
   "metadata": {},
   "outputs": [
    {
     "name": "stdout",
     "output_type": "stream",
     "text": [
      "3\n"
     ]
    }
   ],
   "source": [
    "사과_갯수 = 과일상자['사과']\n",
    "print(사과_갯수)"
   ]
  },
  {
   "cell_type": "code",
   "execution_count": 65,
   "id": "579d0bfc",
   "metadata": {},
   "outputs": [
    {
     "name": "stdout",
     "output_type": "stream",
     "text": [
      "{'사과': 40, '바나나': 4, '키위': 5}\n"
     ]
    }
   ],
   "source": [
    "과일상자['사과'] = 40\n",
    "print(과일상자) # 사과키에 대한 값이 변경됨 "
   ]
  },
  {
   "cell_type": "markdown",
   "id": "fa62df21",
   "metadata": {},
   "source": [
    "# 요소 삭제하기"
   ]
  },
  {
   "cell_type": "code",
   "execution_count": 66,
   "id": "319335b5",
   "metadata": {},
   "outputs": [
    {
     "name": "stdout",
     "output_type": "stream",
     "text": [
      "{'바나나': 4, '키위': 5}\n"
     ]
    }
   ],
   "source": [
    "del 과일상자['사과']\n",
    "print(과일상자) # 사과 키에 대한 키값이 전부 사라진다"
   ]
  },
  {
   "cell_type": "markdown",
   "id": "ced2a2e7",
   "metadata": {},
   "source": [
    "# 딕셔너리 메서드"
   ]
  },
  {
   "cell_type": "markdown",
   "id": "d29e0b76",
   "metadata": {},
   "source": [
    "# 키만 가져오기\n",
    "딕셔너리.keys()"
   ]
  },
  {
   "cell_type": "code",
   "execution_count": 68,
   "id": "638dea5f",
   "metadata": {},
   "outputs": [
    {
     "name": "stdout",
     "output_type": "stream",
     "text": [
      "dict_keys(['바나나', '키위'])\n",
      "<class 'dict_keys'>\n"
     ]
    },
    {
     "data": {
      "text/plain": [
       "['바나나', '키위']"
      ]
     },
     "execution_count": 68,
     "metadata": {},
     "output_type": "execute_result"
    }
   ],
   "source": [
    "print(과일상자.keys())\n",
    "kk = 과일상자.keys()\n",
    "print(type(kk))\n",
    "list(kk)"
   ]
  },
  {
   "cell_type": "markdown",
   "id": "452bba20",
   "metadata": {},
   "source": [
    "# 값만 가져오기"
   ]
  },
  {
   "cell_type": "code",
   "execution_count": 69,
   "id": "8a841458",
   "metadata": {},
   "outputs": [
    {
     "data": {
      "text/plain": [
       "[4, 5]"
      ]
     },
     "execution_count": 69,
     "metadata": {},
     "output_type": "execute_result"
    }
   ],
   "source": [
    "list(과일상자.values())"
   ]
  },
  {
   "cell_type": "markdown",
   "id": "4e6077ca",
   "metadata": {},
   "source": [
    "# 키, 값 쌍으로 가져오기"
   ]
  },
  {
   "cell_type": "code",
   "execution_count": 70,
   "id": "04e2a54c",
   "metadata": {},
   "outputs": [
    {
     "name": "stdout",
     "output_type": "stream",
     "text": [
      "[('바나나', 4), ('키위', 5)]\n"
     ]
    }
   ],
   "source": [
    "a = list(과일상자.items())\n",
    "print(a)"
   ]
  },
  {
   "cell_type": "markdown",
   "id": "186492ff",
   "metadata": {},
   "source": [
    "# 요소를 새로 추가하기"
   ]
  },
  {
   "cell_type": "code",
   "execution_count": 71,
   "id": "2f110731",
   "metadata": {},
   "outputs": [
    {
     "data": {
      "text/plain": [
       "{'바나나': 4, '키위': 5, '파인애플': 4}"
      ]
     },
     "execution_count": 71,
     "metadata": {},
     "output_type": "execute_result"
    }
   ],
   "source": [
    "과일상자.update({'파인애플' : 4})\n",
    "과일상자"
   ]
  },
  {
   "cell_type": "markdown",
   "id": "d3b05cc5",
   "metadata": {},
   "source": [
    "# 요소 빼기"
   ]
  },
  {
   "cell_type": "code",
   "execution_count": 72,
   "id": "2bb4e072",
   "metadata": {},
   "outputs": [
    {
     "data": {
      "text/plain": [
       "{'바나나': 4, '키위': 5}"
      ]
     },
     "execution_count": 72,
     "metadata": {},
     "output_type": "execute_result"
    }
   ],
   "source": [
    "과일상자.pop('파인애플')\n",
    "과일상자"
   ]
  },
  {
   "cell_type": "code",
   "execution_count": null,
   "id": "2d427b82",
   "metadata": {},
   "outputs": [],
   "source": []
  }
 ],
 "metadata": {
  "kernelspec": {
   "display_name": "Python 3 (ipykernel)",
   "language": "python",
   "name": "python3"
  },
  "language_info": {
   "codemirror_mode": {
    "name": "ipython",
    "version": 3
   },
   "file_extension": ".py",
   "mimetype": "text/x-python",
   "name": "python",
   "nbconvert_exporter": "python",
   "pygments_lexer": "ipython3",
   "version": "3.9.7"
  }
 },
 "nbformat": 4,
 "nbformat_minor": 5
}
