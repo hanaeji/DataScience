{
 "cells": [
  {
   "cell_type": "markdown",
   "id": "a221c288",
   "metadata": {},
   "source": []
  },
  {
   "cell_type": "code",
   "execution_count": 1,
   "id": "511ead30",
   "metadata": {},
   "outputs": [
    {
     "name": "stdout",
     "output_type": "stream",
     "text": [
      "1\n"
     ]
    }
   ],
   "source": [
    "print(1)"
   ]
  },
  {
   "cell_type": "code",
   "execution_count": 3,
   "id": "64769f9a",
   "metadata": {},
   "outputs": [
    {
     "name": "stdout",
     "output_type": "stream",
     "text": [
      "2\n"
     ]
    }
   ],
   "source": [
    "print(2)"
   ]
  },
  {
   "cell_type": "code",
   "execution_count": 4,
   "id": "6548b09d",
   "metadata": {},
   "outputs": [
    {
     "name": "stdout",
     "output_type": "stream",
     "text": [
      "3.5\n"
     ]
    }
   ],
   "source": [
    "print(3.5)"
   ]
  },
  {
   "cell_type": "code",
   "execution_count": 5,
   "id": "62443e7a",
   "metadata": {},
   "outputs": [
    {
     "name": "stdout",
     "output_type": "stream",
     "text": [
      "4\n"
     ]
    }
   ],
   "source": [
    "print(4)"
   ]
  },
  {
   "cell_type": "code",
   "execution_count": 6,
   "id": "affe0b26",
   "metadata": {},
   "outputs": [
    {
     "name": "stdout",
     "output_type": "stream",
     "text": [
      "안녕하세요\n"
     ]
    }
   ],
   "source": [
    "print(\"안녕하세요\")"
   ]
  },
  {
   "cell_type": "code",
   "execution_count": 7,
   "id": "97cb41f6",
   "metadata": {},
   "outputs": [
    {
     "name": "stdout",
     "output_type": "stream",
     "text": [
      "지금 프로그래밍을 파이썬으로 하고 있습니다\n"
     ]
    }
   ],
   "source": [
    "print(\"지금 프로그래밍을 파이썬으로 하고 있습니다\")"
   ]
  },
  {
   "cell_type": "code",
   "execution_count": 8,
   "id": "75c9f126",
   "metadata": {},
   "outputs": [
    {
     "name": "stdout",
     "output_type": "stream",
     "text": [
      "\"\"\n"
     ]
    }
   ],
   "source": [
    "print('\"\"')"
   ]
  },
  {
   "cell_type": "code",
   "execution_count": 9,
   "id": "e01b6c1e",
   "metadata": {},
   "outputs": [
    {
     "name": "stdout",
     "output_type": "stream",
     "text": [
      "그렇다면 작은 따옴표도 가능한가?\n",
      "네 가능합니다\n"
     ]
    }
   ],
   "source": [
    "print('그렇다면 작은 따옴표도 가능한가?')\n",
    "print('네 가능합니다')"
   ]
  },
  {
   "cell_type": "markdown",
   "id": "44dc5af8",
   "metadata": {},
   "source": [
    "#주석을 배워봅시다"
   ]
  },
  {
   "cell_type": "markdown",
   "id": "73ab06eb",
   "metadata": {},
   "source": [
    "#주석을 배워봅시다"
   ]
  },
  {
   "cell_type": "markdown",
   "id": "837e0bae",
   "metadata": {},
   "source": [
    "#주석을 배워봅시다\n",
    "주석이란?"
   ]
  },
  {
   "cell_type": "markdown",
   "id": "be453220",
   "metadata": {},
   "source": [
    "# 주석을 배워봅시다\n",
    "주석이란? 주석은 프로그래밍 코드처럼 보이지만 실제로 실행되지는 않는 그런 거!\n"
   ]
  },
  {
   "cell_type": "code",
   "execution_count": 10,
   "id": "aca314bc",
   "metadata": {},
   "outputs": [
    {
     "name": "stdout",
     "output_type": "stream",
     "text": [
      "나이가 어떻게 되세요?\n",
      "제 나이는 47살입니다\n",
      "젊은 편이시군요\n"
     ]
    }
   ],
   "source": [
    "# 이 프로그램은 제가 처음으로 작성한 소설 프로그램입니다.\n",
    "print('나이가 어떻게 되세요?')\n",
    "print('제 나이는 47살입니다')\n",
    "print('젊은 편이시군요')"
   ]
  },
  {
   "cell_type": "markdown",
   "id": "1c987cf7",
   "metadata": {},
   "source": [
    "주석 설명 : 내가 과거에 작성한 코드 혹은 다른 사람에게 공유되는 코드에 '메모'를 남기는 기능이다"
   ]
  },
  {
   "cell_type": "markdown",
   "id": "cac49e1b",
   "metadata": {},
   "source": [
    "# 데이터 타입"
   ]
  },
  {
   "cell_type": "code",
   "execution_count": null,
   "id": "adef3b13",
   "metadata": {},
   "outputs": [],
   "source": [
    "# 43, 43.5, 안녕하세요"
   ]
  },
  {
   "cell_type": "code",
   "execution_count": 11,
   "id": "56e54816",
   "metadata": {},
   "outputs": [
    {
     "name": "stdout",
     "output_type": "stream",
     "text": [
      "43\n",
      "43.5\n",
      "안녕하세요\n",
      "안녕하세요\n"
     ]
    }
   ],
   "source": [
    "print(43)\n",
    "print(43.5)\n",
    "print('안녕하세요')\n",
    "print(\"안녕하세요\")"
   ]
  },
  {
   "cell_type": "code",
   "execution_count": 13,
   "id": "2e2b08f6",
   "metadata": {},
   "outputs": [
    {
     "name": "stdout",
     "output_type": "stream",
     "text": [
      "<class 'int'>\n",
      "<class 'float'>\n"
     ]
    }
   ],
   "source": [
    "# type 타입을 알아보자\n",
    "print(type(43))\n",
    "print(type(43.5)) # 가장 마지막에 넣은 것만 출력한다 -> NOTEBOOK의 탑재기능"
   ]
  },
  {
   "cell_type": "code",
   "execution_count": 14,
   "id": "e8aa70bc",
   "metadata": {},
   "outputs": [
    {
     "name": "stdout",
     "output_type": "stream",
     "text": [
      "<class 'str'>\n"
     ]
    }
   ],
   "source": [
    "print(type('안녕하세요'))"
   ]
  },
  {
   "cell_type": "markdown",
   "id": "2b7b945b",
   "metadata": {},
   "source": [
    "# int, float, str "
   ]
  },
  {
   "cell_type": "code",
   "execution_count": 15,
   "id": "ec3e7a17",
   "metadata": {},
   "outputs": [
    {
     "name": "stdout",
     "output_type": "stream",
     "text": [
      "7\n"
     ]
    }
   ],
   "source": [
    "# int -> 정수형\n",
    "print(3+4)"
   ]
  },
  {
   "cell_type": "code",
   "execution_count": 16,
   "id": "d794d621",
   "metadata": {},
   "outputs": [
    {
     "name": "stdout",
     "output_type": "stream",
     "text": [
      "7.800000000000001\n"
     ]
    },
    {
     "data": {
      "text/plain": [
       "float"
      ]
     },
     "execution_count": 16,
     "metadata": {},
     "output_type": "execute_result"
    }
   ],
   "source": [
    "# float -> 소수형\n",
    "print(3.4+4.4)\n",
    "type(3.4 + 4.4)"
   ]
  },
  {
   "cell_type": "code",
   "execution_count": 18,
   "id": "6c446104",
   "metadata": {},
   "outputs": [
    {
     "name": "stdout",
     "output_type": "stream",
     "text": [
      "안녕하세요\n"
     ]
    },
    {
     "data": {
      "text/plain": [
       "str"
      ]
     },
     "execution_count": 18,
     "metadata": {},
     "output_type": "execute_result"
    }
   ],
   "source": [
    "# string -> 문자열형\n",
    "print('안녕' + '하세요')\n",
    "type('안녕' + '하세요')"
   ]
  },
  {
   "cell_type": "markdown",
   "id": "62055890",
   "metadata": {},
   "source": [
    "# 새로운 변수 생성해요!"
   ]
  },
  {
   "cell_type": "code",
   "execution_count": 19,
   "id": "4afb99c8",
   "metadata": {},
   "outputs": [
    {
     "name": "stdout",
     "output_type": "stream",
     "text": [
      "42\n"
     ]
    }
   ],
   "source": [
    "내나이 = 42\n",
    "print(내나이)"
   ]
  },
  {
   "cell_type": "code",
   "execution_count": 20,
   "id": "83486cd8",
   "metadata": {},
   "outputs": [
    {
     "name": "stdout",
     "output_type": "stream",
     "text": [
      "43\n",
      "44\n"
     ]
    }
   ],
   "source": [
    "# 변수로 데이터를 저장했어요!\n",
    "print(내나이+1)\n",
    "print(내나이+2)"
   ]
  },
  {
   "cell_type": "markdown",
   "id": "d9cf8528",
   "metadata": {},
   "source": [
    "# 변수를 배웠으니, 새로운 print 함수 기법!\n",
    "## 여러개의 데이터를 표기하기."
   ]
  },
  {
   "cell_type": "code",
   "execution_count": 21,
   "id": "40b5a0e5",
   "metadata": {},
   "outputs": [
    {
     "name": "stdout",
     "output_type": "stream",
     "text": [
      "42\n",
      "안녕하세요\n"
     ]
    }
   ],
   "source": [
    "print(내나이)\n",
    "print('안녕하세요')"
   ]
  },
  {
   "cell_type": "code",
   "execution_count": 22,
   "id": "ec7ac7fd",
   "metadata": {},
   "outputs": [
    {
     "name": "stdout",
     "output_type": "stream",
     "text": [
      "안녕하세요 42 입니다\n"
     ]
    }
   ],
   "source": [
    "# 내가 원하는 것 -> 안녕하세요, 제 나이는 42살입니다.\n",
    "인사 = '안녕하세요'\n",
    "나이 = 42\n",
    "나머지문장 = '입니다'\n",
    "print(인사, 나이, 나머지문장)"
   ]
  },
  {
   "cell_type": "markdown",
   "id": "1b82626f",
   "metadata": {},
   "source": [
    "# print(변수, 변수, 변수)\n",
    "# print(데이터, 데이터, 데이터)"
   ]
  },
  {
   "cell_type": "code",
   "execution_count": 23,
   "id": "43194351",
   "metadata": {},
   "outputs": [
    {
     "name": "stdout",
     "output_type": "stream",
     "text": [
      "제 나이는 3 살입니다\n"
     ]
    }
   ],
   "source": [
    "print('제 나이는', 3, '살입니다')"
   ]
  },
  {
   "cell_type": "markdown",
   "id": "836dc57a",
   "metadata": {},
   "source": [
    "# 변수 다양하게 지어볼까?"
   ]
  },
  {
   "cell_type": "code",
   "execution_count": 25,
   "id": "20e2dcda",
   "metadata": {},
   "outputs": [],
   "source": [
    "# 첫번째, 숫자로 시작해볼까?\n",
    "# 1aaa = 'hello' 변수는 숫자로 시작 못 함"
   ]
  },
  {
   "cell_type": "code",
   "execution_count": 27,
   "id": "676d94c3",
   "metadata": {},
   "outputs": [
    {
     "name": "stdout",
     "output_type": "stream",
     "text": [
      "dollar\n"
     ]
    }
   ],
   "source": [
    "# &$dd = 'dollar' 특수문자도 안 된다\n",
    "_dd = 'dollar'\n",
    "print(_dd)"
   ]
  },
  {
   "cell_type": "code",
   "execution_count": null,
   "id": "b5ce438a",
   "metadata": {},
   "outputs": [],
   "source": []
  }
 ],
 "metadata": {
  "kernelspec": {
   "display_name": "Python 3 (ipykernel)",
   "language": "python",
   "name": "python3"
  },
  "language_info": {
   "codemirror_mode": {
    "name": "ipython",
    "version": 3
   },
   "file_extension": ".py",
   "mimetype": "text/x-python",
   "name": "python",
   "nbconvert_exporter": "python",
   "pygments_lexer": "ipython3",
   "version": "3.9.7"
  }
 },
 "nbformat": 4,
 "nbformat_minor": 5
}
