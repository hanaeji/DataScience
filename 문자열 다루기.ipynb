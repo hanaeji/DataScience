{
 "cells": [
  {
   "cell_type": "markdown",
   "id": "d3424d54",
   "metadata": {},
   "source": [
    "# upper(), lower(), swapcase()\n",
    "대문자와 소문자로 바꾸고 싶을 때"
   ]
  },
  {
   "cell_type": "code",
   "execution_count": 4,
   "id": "54e7c4a9",
   "metadata": {},
   "outputs": [
    {
     "data": {
      "text/plain": [
       "'HELLO'"
      ]
     },
     "execution_count": 4,
     "metadata": {},
     "output_type": "execute_result"
    }
   ],
   "source": [
    "'hello'.upper()"
   ]
  },
  {
   "cell_type": "code",
   "execution_count": 2,
   "id": "212c733a",
   "metadata": {},
   "outputs": [
    {
     "data": {
      "text/plain": [
       "'hello'"
      ]
     },
     "execution_count": 2,
     "metadata": {},
     "output_type": "execute_result"
    }
   ],
   "source": [
    "'HELLO'.lower()"
   ]
  },
  {
   "cell_type": "code",
   "execution_count": 3,
   "id": "c64899c0",
   "metadata": {},
   "outputs": [
    {
     "data": {
      "text/plain": [
       "'Hello, My Name is jason'"
      ]
     },
     "execution_count": 3,
     "metadata": {},
     "output_type": "execute_result"
    }
   ],
   "source": [
    "'hELLO, mY nAME IS JASON'.swapcase()"
   ]
  },
  {
   "cell_type": "markdown",
   "id": "b7f70f77",
   "metadata": {},
   "source": [
    "# capitalize(), title()\n",
    "영어로 된 문장이나 단어를 대문자로 만드는 방법"
   ]
  },
  {
   "cell_type": "code",
   "execution_count": 5,
   "id": "d1f5ae2a",
   "metadata": {},
   "outputs": [
    {
     "data": {
      "text/plain": [
       "'This is my sentence'"
      ]
     },
     "execution_count": 5,
     "metadata": {},
     "output_type": "execute_result"
    }
   ],
   "source": [
    "sentence = 'this is My sentence'\n",
    "sentence.capitalize()"
   ]
  },
  {
   "cell_type": "code",
   "execution_count": 6,
   "id": "5dae617d",
   "metadata": {},
   "outputs": [
    {
     "data": {
      "text/plain": [
       "'This Is My Sentence'"
      ]
     },
     "execution_count": 6,
     "metadata": {},
     "output_type": "execute_result"
    }
   ],
   "source": [
    "sentence2 = 'this is my sentence'\n",
    "sentence2.title()"
   ]
  },
  {
   "cell_type": "markdown",
   "id": "ef685d91",
   "metadata": {},
   "source": [
    "# partition()\n",
    "특정 문자를 기준으로 문장을 나눠서 저장하고 싶어요. "
   ]
  },
  {
   "cell_type": "code",
   "execution_count": 7,
   "id": "2eeb3340",
   "metadata": {},
   "outputs": [
    {
     "data": {
      "text/plain": [
       "('flowerbloom', '@', 'gmail.com')"
      ]
     },
     "execution_count": 7,
     "metadata": {},
     "output_type": "execute_result"
    }
   ],
   "source": [
    "email = 'flowerbloom@gmail.com'\n",
    "email.partition('@')"
   ]
  },
  {
   "cell_type": "code",
   "execution_count": 8,
   "id": "cef5c190",
   "metadata": {},
   "outputs": [
    {
     "name": "stdout",
     "output_type": "stream",
     "text": [
      "('flowerbloom', '@', 'gmail.com')\n"
     ]
    }
   ],
   "source": [
    "email = 'flowerbloom@gmail.com'\n",
    "sep = email.partition('@')\n",
    "print(sep)"
   ]
  },
  {
   "cell_type": "markdown",
   "id": "6563308e",
   "metadata": {},
   "source": [
    "# count()\n",
    "특정 문자가 몇 개 있는지 확인해보고 싶을 때"
   ]
  },
  {
   "cell_type": "code",
   "execution_count": 9,
   "id": "bc55576a",
   "metadata": {},
   "outputs": [],
   "source": [
    "sentence = 'my mother likes momo, right mom?'"
   ]
  },
  {
   "cell_type": "code",
   "execution_count": 10,
   "id": "340c5780",
   "metadata": {},
   "outputs": [
    {
     "data": {
      "text/plain": [
       "4"
      ]
     },
     "execution_count": 10,
     "metadata": {},
     "output_type": "execute_result"
    }
   ],
   "source": [
    "sentence.count('mo')"
   ]
  },
  {
   "cell_type": "code",
   "execution_count": 11,
   "id": "a21d850a",
   "metadata": {},
   "outputs": [
    {
     "data": {
      "text/plain": [
       "0"
      ]
     },
     "execution_count": 11,
     "metadata": {},
     "output_type": "execute_result"
    }
   ],
   "source": [
    "sentence.count('ma')"
   ]
  },
  {
   "cell_type": "code",
   "execution_count": 12,
   "id": "058c4146",
   "metadata": {},
   "outputs": [
    {
     "data": {
      "text/plain": [
       "1"
      ]
     },
     "execution_count": 12,
     "metadata": {},
     "output_type": "execute_result"
    }
   ],
   "source": [
    "sentence.count('ri')"
   ]
  },
  {
   "cell_type": "markdown",
   "id": "72fa4d25",
   "metadata": {},
   "source": [
    "# replace()\n",
    "특정 문자를 다른 문자로 대체할 수 있어요 "
   ]
  },
  {
   "cell_type": "code",
   "execution_count": 15,
   "id": "fe2058eb",
   "metadata": {},
   "outputs": [
    {
     "name": "stdout",
     "output_type": "stream",
     "text": [
      "그 때- 그가 말했다. \"나는 그렇게 살지 못합니다.\" \"아무리 힘들어도 사람을 그렇게 힘들게 해서야 되겠소\"\n"
     ]
    }
   ],
   "source": [
    "fiction = '그 때, 그가 말했다. \"나는 그렇게 살지 못합니다.\" \"아무리 힘들어도 사람을 그렇게 힘들게 해서야 되겠소\"'\n",
    "comma_to_line = fiction.replace(',', '-')\n",
    "print(comma_to_line)"
   ]
  },
  {
   "cell_type": "code",
   "execution_count": 17,
   "id": "e37c855f",
   "metadata": {},
   "outputs": [
    {
     "name": "stdout",
     "output_type": "stream",
     "text": [
      "그 때, 그가 말했다. '나는 그렇게 살지 못합니다.' '아무리 힘들어도 사람을 그렇게 힘들게 해서야 되겠소'\n"
     ]
    }
   ],
   "source": [
    "big_to_small = fiction.replace('\"', \"'\")\n",
    "print(big_to_small)"
   ]
  },
  {
   "cell_type": "markdown",
   "id": "1bdf1ebe",
   "metadata": {},
   "source": [
    "price = '3,003,480원'\n",
    "raw = int(price.replace(',', '').replace('원', ''))\n",
    "raw"
   ]
  },
  {
   "cell_type": "markdown",
   "id": "6c6908e8",
   "metadata": {},
   "source": [
    "# split(), join()\n",
    "문자열이여, 쪼개져라!\n",
    "아니다.. 다시 붙어라!!"
   ]
  },
  {
   "cell_type": "code",
   "execution_count": 19,
   "id": "fcc56a93",
   "metadata": {},
   "outputs": [],
   "source": [
    "example = '사과, 고구마, 바나나, 맛있어'"
   ]
  },
  {
   "cell_type": "code",
   "execution_count": 20,
   "id": "08703f91",
   "metadata": {},
   "outputs": [
    {
     "data": {
      "text/plain": [
       "['사과', ' 고구마', ' 바나나', ' 맛있어']"
      ]
     },
     "execution_count": 20,
     "metadata": {},
     "output_type": "execute_result"
    }
   ],
   "source": [
    "example.split(',')"
   ]
  },
  {
   "cell_type": "code",
   "execution_count": 21,
   "id": "d454e190",
   "metadata": {},
   "outputs": [
    {
     "name": "stdout",
     "output_type": "stream",
     "text": [
      "['사과', ' 고구마', ' 바나나', ' 맛있어']\n"
     ]
    }
   ],
   "source": [
    "example = '사과, 고구마, 바나나, 맛있어'\n",
    "word_list = example.split(',')\n",
    "print(word_list)"
   ]
  },
  {
   "cell_type": "code",
   "execution_count": 22,
   "id": "a788088c",
   "metadata": {},
   "outputs": [
    {
     "data": {
      "text/plain": [
       "'딸기-키위-파인애플'"
      ]
     },
     "execution_count": 22,
     "metadata": {},
     "output_type": "execute_result"
    }
   ],
   "source": [
    "# 다시 합쳐볼까?\n",
    "word_list2 = ['딸기', '키위', '파인애플']\n",
    "'-'.join(word_list2)"
   ]
  },
  {
   "cell_type": "markdown",
   "id": "c47e01f3",
   "metadata": {},
   "source": [
    "# 문자열은 쪼갤 수 있다"
   ]
  },
  {
   "cell_type": "code",
   "execution_count": 23,
   "id": "fb84741e",
   "metadata": {},
   "outputs": [],
   "source": [
    "문자열1 = '안녕하세요, 코배투입니다.'\n",
    "# 안, 녕,.....입, 니, 다."
   ]
  },
  {
   "cell_type": "code",
   "execution_count": 24,
   "id": "8b5b291b",
   "metadata": {},
   "outputs": [
    {
     "data": {
      "text/plain": [
       "'안'"
      ]
     },
     "execution_count": 24,
     "metadata": {},
     "output_type": "execute_result"
    }
   ],
   "source": [
    "문자열1[0]"
   ]
  },
  {
   "cell_type": "code",
   "execution_count": 26,
   "id": "8bc1e2dd",
   "metadata": {},
   "outputs": [
    {
     "data": {
      "text/plain": [
       "'안녕하'"
      ]
     },
     "execution_count": 26,
     "metadata": {},
     "output_type": "execute_result"
    }
   ],
   "source": [
    "문자열1[0:3]"
   ]
  },
  {
   "cell_type": "code",
   "execution_count": 27,
   "id": "5112ae0c",
   "metadata": {},
   "outputs": [
    {
     "data": {
      "text/plain": [
       "'안하요'"
      ]
     },
     "execution_count": 27,
     "metadata": {},
     "output_type": "execute_result"
    }
   ],
   "source": [
    "문자열1[0:6:2]"
   ]
  },
  {
   "cell_type": "code",
   "execution_count": 28,
   "id": "e4ce2a27",
   "metadata": {},
   "outputs": [
    {
     "data": {
      "text/plain": [
       "'입'"
      ]
     },
     "execution_count": 28,
     "metadata": {},
     "output_type": "execute_result"
    }
   ],
   "source": [
    "문자열1[-4]"
   ]
  },
  {
   "cell_type": "code",
   "execution_count": 29,
   "id": "e8c201c5",
   "metadata": {},
   "outputs": [
    {
     "data": {
      "text/plain": [
       "'입니다.'"
      ]
     },
     "execution_count": 29,
     "metadata": {},
     "output_type": "execute_result"
    }
   ],
   "source": [
    "문자열1[-4:]"
   ]
  },
  {
   "cell_type": "code",
   "execution_count": 30,
   "id": "4fa21cba",
   "metadata": {},
   "outputs": [
    {
     "data": {
      "text/plain": [
       "'안녕하세요, 코배투입니다.'"
      ]
     },
     "execution_count": 30,
     "metadata": {},
     "output_type": "execute_result"
    }
   ],
   "source": [
    "문자열1[:]"
   ]
  },
  {
   "cell_type": "markdown",
   "id": "9623ae95",
   "metadata": {},
   "source": [
    "# 예제 살펴보기\n",
    "첫번째 예제 : 뭻삼성전자"
   ]
  },
  {
   "cell_type": "code",
   "execution_count": 34,
   "id": "7a4be559",
   "metadata": {},
   "outputs": [
    {
     "data": {
      "text/plain": [
       "'SK하이닉스'"
      ]
     },
     "execution_count": 34,
     "metadata": {},
     "output_type": "execute_result"
    }
   ],
   "source": [
    "문자열1 = '뭻삼성전자'\n",
    "문자열2 = '뭻SK하이닉스'\n",
    "문자열1[1:5]\n",
    "문자열2[1:]"
   ]
  },
  {
   "cell_type": "markdown",
   "id": "7b61dd72",
   "metadata": {},
   "source": [
    "두번째 예제 : '옷걸이'"
   ]
  },
  {
   "cell_type": "code",
   "execution_count": 35,
   "id": "d3a64936",
   "metadata": {},
   "outputs": [
    {
     "data": {
      "text/plain": [
       "'옷걸이'"
      ]
     },
     "execution_count": 35,
     "metadata": {},
     "output_type": "execute_result"
    }
   ],
   "source": [
    "문자열2 = '옷걸이'\n",
    "문자열2[-3:]"
   ]
  },
  {
   "cell_type": "markdown",
   "id": "1c455004",
   "metadata": {},
   "source": [
    "세번째 예제: (띄어쓰기)기사명"
   ]
  },
  {
   "cell_type": "code",
   "execution_count": 38,
   "id": "582f4b0e",
   "metadata": {},
   "outputs": [
    {
     "data": {
      "text/plain": [
       "'우리나라 경제성장률... 충격 발표!'"
      ]
     },
     "execution_count": 38,
     "metadata": {},
     "output_type": "execute_result"
    }
   ],
   "source": [
    "문자열3 = ' 우리나라 경제성장률... 충격 발표!'\n",
    "문자열3[1:]"
   ]
  },
  {
   "cell_type": "code",
   "execution_count": null,
   "id": "756594fc",
   "metadata": {},
   "outputs": [],
   "source": []
  }
 ],
 "metadata": {
  "kernelspec": {
   "display_name": "Python 3 (ipykernel)",
   "language": "python",
   "name": "python3"
  },
  "language_info": {
   "codemirror_mode": {
    "name": "ipython",
    "version": 3
   },
   "file_extension": ".py",
   "mimetype": "text/x-python",
   "name": "python",
   "nbconvert_exporter": "python",
   "pygments_lexer": "ipython3",
   "version": "3.9.7"
  }
 },
 "nbformat": 4,
 "nbformat_minor": 5
}
