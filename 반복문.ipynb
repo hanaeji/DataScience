{
 "cells": [
  {
   "cell_type": "markdown",
   "id": "d548ddbe",
   "metadata": {},
   "source": [
    "# 반복문\n",
    "무엇인가를 여러번 하고 싶다!"
   ]
  },
  {
   "cell_type": "markdown",
   "id": "6ad80e0c",
   "metadata": {},
   "source": [
    "# 첫번째 반복문 스타일\n",
    "내가 원하는 값을 변형시켜서 뭔가를 하자"
   ]
  },
  {
   "cell_type": "code",
   "execution_count": 8,
   "id": "ab87577c",
   "metadata": {},
   "outputs": [
    {
     "name": "stdout",
     "output_type": "stream",
     "text": [
      "사자\n",
      "무섭습니다\n",
      "강아지\n",
      "귀여워\n",
      "고양이\n",
      "치명적이에요\n"
     ]
    }
   ],
   "source": [
    "for var in ['사자', '강아지', '고양이']:\n",
    "    print(var) # 출력이 반복됨\n",
    "    if var == '사자':\n",
    "        print('무섭습니다')\n",
    "    elif var == '강아지':\n",
    "        print('귀여워')\n",
    "    elif var == '고양이':\n",
    "        print('치명적이에요')"
   ]
  },
  {
   "cell_type": "code",
   "execution_count": 11,
   "id": "7ed82af1",
   "metadata": {},
   "outputs": [
    {
     "name": "stdout",
     "output_type": "stream",
     "text": [
      "삼성전자 주가\n"
     ]
    }
   ],
   "source": [
    "종목 = ['이마트', '신세계', '삼성전자']\n",
    "for comp in 종목:\n",
    "    if comp == '삼성전자':\n",
    "        print('삼성전자 주가')"
   ]
  },
  {
   "cell_type": "code",
   "execution_count": 21,
   "id": "6fdf4bd0",
   "metadata": {},
   "outputs": [
    {
     "name": "stdout",
     "output_type": "stream",
     "text": [
      "삼성전자\n",
      "100\n",
      "이마트\n",
      "10\n",
      "신세계\n",
      "50\n",
      "전자전기업\n"
     ]
    }
   ],
   "source": [
    "종목들 = [('삼성전자', 100), ('이마트', 10), ('신세계', 50)]\n",
    "for comp, price in 종목들:\n",
    "    print(comp)\n",
    "    print(price)\n",
    "    \n",
    "종목들 = [('삼성전자', 100, '전자전기업'), ('이마트', 10, '유통업'), ('신세계', 50, '소매')]\n",
    "for comp, price, exp in 종목들:\n",
    "    if comp == '삼성전자':\n",
    "        print(exp)"
   ]
  },
  {
   "cell_type": "markdown",
   "id": "b41bfe06",
   "metadata": {},
   "source": [
    "# 두번째 반복문 스타일\n",
    "횟수만 가져가자"
   ]
  },
  {
   "cell_type": "code",
   "execution_count": 15,
   "id": "5f70254f",
   "metadata": {},
   "outputs": [
    {
     "name": "stdout",
     "output_type": "stream",
     "text": [
      "안녕\n",
      "안녕\n",
      "안녕\n"
     ]
    }
   ],
   "source": [
    "종목 = ['이마트', '신세계', '삼성전자']\n",
    "for comp in 종목:\n",
    "    print('안녕')"
   ]
  },
  {
   "cell_type": "markdown",
   "id": "c06d8d0a",
   "metadata": {},
   "source": [
    "# 세번째 반복문(while)\n",
    "for문과는 약간 다른 방식으로 사용한다.상태만 정의할 수 있음"
   ]
  },
  {
   "cell_type": "code",
   "execution_count": 29,
   "id": "fa389641",
   "metadata": {},
   "outputs": [
    {
     "name": "stdout",
     "output_type": "stream",
     "text": [
      "9\n",
      "8\n",
      "7\n",
      "6\n",
      "5\n",
      "4\n",
      "3\n",
      "2\n",
      "1\n",
      "1\n"
     ]
    }
   ],
   "source": [
    "number = 10\n",
    "while number > 1:\n",
    "    number = number-1\n",
    "    print(number)\n",
    "print(number)"
   ]
  },
  {
   "cell_type": "code",
   "execution_count": 25,
   "id": "15494183",
   "metadata": {},
   "outputs": [
    {
     "name": "stdout",
     "output_type": "stream",
     "text": [
      "얼룩말\n",
      "고양이\n",
      "호랑이\n"
     ]
    }
   ],
   "source": [
    "my_list = ['호랑이', '고양이', '얼룩말']\n",
    "\n",
    "# 참 -> my_list에 요소가 있을 떄\n",
    "while my_list:\n",
    "    print(my_list.pop(-1))"
   ]
  },
  {
   "cell_type": "code",
   "execution_count": 32,
   "id": "a2f2799d",
   "metadata": {},
   "outputs": [
    {
     "name": "stdout",
     "output_type": "stream",
     "text": [
      "4\n",
      "3\n",
      "2\n",
      "1\n",
      "0\n",
      "0\n"
     ]
    }
   ],
   "source": [
    "number = 5\n",
    "while number: \n",
    "    number = number-1\n",
    "    print(number)\n",
    "print(number)"
   ]
  },
  {
   "cell_type": "code",
   "execution_count": 36,
   "id": "5ea0894f",
   "metadata": {},
   "outputs": [
    {
     "name": "stdout",
     "output_type": "stream",
     "text": [
      "4\n",
      "3\n",
      "2\n",
      "2\n",
      "1\n",
      "0\n",
      "끝\n"
     ]
    }
   ],
   "source": [
    "number = 5\n",
    "while number > 0:\n",
    "    number = number - 1\n",
    "    print(number)\n",
    "    if number == 2:\n",
    "        print(number)\n",
    "else: print('끝')"
   ]
  },
  {
   "cell_type": "markdown",
   "id": "a15b4adf",
   "metadata": {},
   "source": [
    "# 실제 프로그래밍 세계"
   ]
  },
  {
   "cell_type": "code",
   "execution_count": null,
   "id": "49ee5ee9",
   "metadata": {},
   "outputs": [],
   "source": [
    "# 1. 게임 -> \n",
    "# 2. 파일, 상태 -> 엑셀 // 끝<\n",
    "# 3. 데이터 형태를 취급할 떄"
   ]
  },
  {
   "cell_type": "code",
   "execution_count": null,
   "id": "e085e4be",
   "metadata": {},
   "outputs": [],
   "source": []
  },
  {
   "cell_type": "code",
   "execution_count": null,
   "id": "4eb906e7",
   "metadata": {},
   "outputs": [],
   "source": []
  }
 ],
 "metadata": {
  "kernelspec": {
   "display_name": "Python 3 (ipykernel)",
   "language": "python",
   "name": "python3"
  },
  "language_info": {
   "codemirror_mode": {
    "name": "ipython",
    "version": 3
   },
   "file_extension": ".py",
   "mimetype": "text/x-python",
   "name": "python",
   "nbconvert_exporter": "python",
   "pygments_lexer": "ipython3",
   "version": "3.9.7"
  }
 },
 "nbformat": 4,
 "nbformat_minor": 5
}
