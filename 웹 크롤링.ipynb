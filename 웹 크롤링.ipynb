{
 "cells": [
  {
   "cell_type": "code",
   "execution_count": 4,
   "id": "fb906970",
   "metadata": {},
   "outputs": [
    {
     "name": "stdout",
     "output_type": "stream",
     "text": [
      "<td class=\"cmp-table-cell td0101\">\n",
      "<dl>\n",
      "<dt>\n",
      "<span class=\"name\">삼성전자</span>\n",
      "<a class=\"cEm\" href=\"http://www.samsung.com\" target=\"comPage\" title=\"[홈페이지] www.samsung.com\"><img align=\"absmiddle\" hspace=\"3\" src=\"/images/icon_home.gif\"/></a>\n",
      "<a class=\"cEm\" title=\"[대표전화] 031-200-1114 \r",
      "[주식담당] 02-2255-9000\"><img align=\"absmiddle\" hspace=\"1\" src=\"/images/icon_tel.gif\"/></a>\n",
      "<b class=\"num\">005930</b>\n",
      "</dt>\n",
      "<dt class=\"line-left\">SamsungElec</dt>\n",
      "<dt class=\"line-left\">KOSPI : 전기전자</dt>\n",
      "<dt class=\"line-left\">WICS : 반도체와반도체장비</dt>\n",
      "</dl>\n",
      "</td>\n"
     ]
    }
   ],
   "source": [
    "import requests\n",
    "from bs4 import BeautifulSoup\n",
    "\n",
    "code = '005930'\n",
    "url = 'http://companyinfo.stock.naver.com/company/c1010001.aspx?cmp_cd' + code\n",
    "\n",
    "r = requests.get(url)\n",
    "soup = BeautifulSoup(r.text, 'lxml')\n",
    "td = soup.find('td', {'class':'cmp-table-cell td0101'})\n",
    "print(td)"
   ]
  },
  {
   "cell_type": "code",
   "execution_count": 5,
   "id": "6e47ba05",
   "metadata": {},
   "outputs": [
    {
     "data": {
      "text/plain": [
       "'삼성전자'"
      ]
     },
     "execution_count": 5,
     "metadata": {},
     "output_type": "execute_result"
    }
   ],
   "source": [
    "td.find('span', {'class':'name'}).text"
   ]
  },
  {
   "cell_type": "code",
   "execution_count": 10,
   "id": "ca3eecc9",
   "metadata": {},
   "outputs": [
    {
     "name": "stdout",
     "output_type": "stream",
     "text": [
      "SamsungElec\n",
      "KOSPI : 전기전자\n",
      "WICS : 반도체와반도체장비\n"
     ]
    }
   ],
   "source": [
    "goal = td.find_all('dt', {'class':'line-left'})\n",
    "for i in range(3):\n",
    "    print(goal[i].text)"
   ]
  },
  {
   "cell_type": "code",
   "execution_count": 18,
   "id": "9de1de5d",
   "metadata": {},
   "outputs": [],
   "source": [
    "import pandas as pd\n",
    "from urllib import parse\n",
    "\n",
    "code = '환율조회'\n",
    "encoded = parse.quote(code)\n",
    "url = 'https://search.naver.com/search.naver?where=nexearch&sm=top_hty&fbm=1&ie=utf8&query=' + encoded\n",
    "dfs = pd.read_html(url)"
   ]
  },
  {
   "cell_type": "code",
   "execution_count": 20,
   "id": "65d1ad84",
   "metadata": {},
   "outputs": [
    {
     "data": {
      "text/plain": [
       "list"
      ]
     },
     "execution_count": 20,
     "metadata": {},
     "output_type": "execute_result"
    }
   ],
   "source": [
    "type(dfs)"
   ]
  },
  {
   "cell_type": "code",
   "execution_count": 25,
   "id": "ea35e45c",
   "metadata": {},
   "outputs": [
    {
     "data": {
      "text/html": [
       "<div>\n",
       "<style scoped>\n",
       "    .dataframe tbody tr th:only-of-type {\n",
       "        vertical-align: middle;\n",
       "    }\n",
       "\n",
       "    .dataframe tbody tr th {\n",
       "        vertical-align: top;\n",
       "    }\n",
       "\n",
       "    .dataframe thead th {\n",
       "        text-align: right;\n",
       "    }\n",
       "</style>\n",
       "<table border=\"1\" class=\"dataframe\">\n",
       "  <thead>\n",
       "    <tr style=\"text-align: right;\">\n",
       "      <th></th>\n",
       "      <th>통화명</th>\n",
       "      <th>매매기준율</th>\n",
       "      <th>전일대비</th>\n",
       "      <th>등락률</th>\n",
       "    </tr>\n",
       "  </thead>\n",
       "  <tbody>\n",
       "    <tr>\n",
       "      <th>0</th>\n",
       "      <td>미국 USD</td>\n",
       "      <td>1195.50</td>\n",
       "      <td>전일대비하락2.00</td>\n",
       "      <td>-0.17%</td>\n",
       "    </tr>\n",
       "    <tr>\n",
       "      <th>1</th>\n",
       "      <td>일본 JPY 100</td>\n",
       "      <td>1037.90</td>\n",
       "      <td>전일대비하락2.91</td>\n",
       "      <td>-0.28%</td>\n",
       "    </tr>\n",
       "    <tr>\n",
       "      <th>2</th>\n",
       "      <td>유럽연합 EUR</td>\n",
       "      <td>1358.92</td>\n",
       "      <td>전일대비하락3.30</td>\n",
       "      <td>-0.24%</td>\n",
       "    </tr>\n",
       "    <tr>\n",
       "      <th>3</th>\n",
       "      <td>중국 CNY</td>\n",
       "      <td>188.77</td>\n",
       "      <td>전일대비하락0.21</td>\n",
       "      <td>-0.11%</td>\n",
       "    </tr>\n",
       "    <tr>\n",
       "      <th>4</th>\n",
       "      <td>영국 GBP</td>\n",
       "      <td>1627.43</td>\n",
       "      <td>전일대비하락2.49</td>\n",
       "      <td>-0.15%</td>\n",
       "    </tr>\n",
       "    <tr>\n",
       "      <th>5</th>\n",
       "      <td>호주 AUD</td>\n",
       "      <td>861.72</td>\n",
       "      <td>전일대비하락1.50</td>\n",
       "      <td>-0.17%</td>\n",
       "    </tr>\n",
       "    <tr>\n",
       "      <th>6</th>\n",
       "      <td>캐나다 CAD</td>\n",
       "      <td>941.89</td>\n",
       "      <td>전일대비하락0.95</td>\n",
       "      <td>-0.10%</td>\n",
       "    </tr>\n",
       "    <tr>\n",
       "      <th>7</th>\n",
       "      <td>뉴질랜드 NZD</td>\n",
       "      <td>802.42</td>\n",
       "      <td>전일대비하락1.34</td>\n",
       "      <td>-0.17%</td>\n",
       "    </tr>\n",
       "  </tbody>\n",
       "</table>\n",
       "</div>"
      ],
      "text/plain": [
       "          통화명    매매기준율        전일대비     등락률\n",
       "0      미국 USD  1195.50  전일대비하락2.00  -0.17%\n",
       "1  일본 JPY 100  1037.90  전일대비하락2.91  -0.28%\n",
       "2    유럽연합 EUR  1358.92  전일대비하락3.30  -0.24%\n",
       "3      중국 CNY   188.77  전일대비하락0.21  -0.11%\n",
       "4      영국 GBP  1627.43  전일대비하락2.49  -0.15%\n",
       "5      호주 AUD   861.72  전일대비하락1.50  -0.17%\n",
       "6     캐나다 CAD   941.89  전일대비하락0.95  -0.10%\n",
       "7    뉴질랜드 NZD   802.42  전일대비하락1.34  -0.17%"
      ]
     },
     "execution_count": 25,
     "metadata": {},
     "output_type": "execute_result"
    }
   ],
   "source": [
    "dfs[0]"
   ]
  },
  {
   "cell_type": "code",
   "execution_count": 26,
   "id": "38d67a92",
   "metadata": {},
   "outputs": [],
   "source": [
    "dfs[0].to_excel('my_escel.xlsx')"
   ]
  },
  {
   "cell_type": "code",
   "execution_count": 28,
   "id": "b603f53e",
   "metadata": {},
   "outputs": [
    {
     "data": {
      "text/plain": [
       "0        미국 USD\n",
       "1    일본 JPY 100\n",
       "2      유럽연합 EUR\n",
       "3        중국 CNY\n",
       "4        영국 GBP\n",
       "5        호주 AUD\n",
       "6       캐나다 CAD\n",
       "7      뉴질랜드 NZD\n",
       "Name: 통화명, dtype: object"
      ]
     },
     "execution_count": 28,
     "metadata": {},
     "output_type": "execute_result"
    }
   ],
   "source": [
    "a = pd.read_excel('my_escel.xlsx')\n",
    "a['통화명']"
   ]
  },
  {
   "cell_type": "code",
   "execution_count": null,
   "id": "eae74f27",
   "metadata": {},
   "outputs": [],
   "source": []
  }
 ],
 "metadata": {
  "kernelspec": {
   "display_name": "Python 3 (ipykernel)",
   "language": "python",
   "name": "python3"
  },
  "language_info": {
   "codemirror_mode": {
    "name": "ipython",
    "version": 3
   },
   "file_extension": ".py",
   "mimetype": "text/x-python",
   "name": "python",
   "nbconvert_exporter": "python",
   "pygments_lexer": "ipython3",
   "version": "3.9.7"
  }
 },
 "nbformat": 4,
 "nbformat_minor": 5
}
