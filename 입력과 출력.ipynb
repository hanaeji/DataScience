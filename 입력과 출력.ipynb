{
 "cells": [
  {
   "cell_type": "markdown",
   "id": "3c7ce71a",
   "metadata": {},
   "source": [
    "# 입력과 출력\n",
    "입력하는 방법을 배워봅시다. \n",
    "대표적인 내장함수 input()을 통해 배웁니다. "
   ]
  },
  {
   "cell_type": "code",
   "execution_count": 1,
   "id": "9544f1c4",
   "metadata": {},
   "outputs": [
    {
     "name": "stdout",
     "output_type": "stream",
     "text": [
      "hello\n"
     ]
    }
   ],
   "source": [
    "print('hello')"
   ]
  },
  {
   "cell_type": "code",
   "execution_count": 2,
   "id": "0b1efbf9",
   "metadata": {},
   "outputs": [
    {
     "name": "stdout",
     "output_type": "stream",
     "text": [
      "hello\n"
     ]
    }
   ],
   "source": [
    "# 변수 이름은 영어로만@\n",
    "greeting='hello'\n",
    "print(greeting)"
   ]
  },
  {
   "cell_type": "code",
   "execution_count": 6,
   "id": "38bfe102",
   "metadata": {},
   "outputs": [
    {
     "name": "stdout",
     "output_type": "stream",
     "text": [
      "인사를 입력해주세요.hello2\n",
      "제가 입력한 인사는 >>>>> hello2\n"
     ]
    }
   ],
   "source": [
    "greeting2 = input('인사를 입력해주세요.') #입력을 받아서 greeting2에 저장\n",
    "print('제가 입력한 인사는 >>>>>', greeting2)# greeting2에 저장된 값을 출력"
   ]
  },
  {
   "cell_type": "markdown",
   "id": "5d43afdc",
   "metadata": {},
   "source": [
    "# 인사를 출력하는 프로그램"
   ]
  },
  {
   "cell_type": "code",
   "execution_count": 7,
   "id": "18d45f6b",
   "metadata": {},
   "outputs": [
    {
     "name": "stdout",
     "output_type": "stream",
     "text": [
      "hello2\n"
     ]
    }
   ],
   "source": [
    "# 변수 -> 변할 수 있는 수, varaiable\n",
    "greeting = 'hello2'\n",
    "print(greeting)"
   ]
  },
  {
   "cell_type": "markdown",
   "id": "2e19c680",
   "metadata": {},
   "source": [
    "# 변수는 바뀌고, 입력하면 해당 값이 앞의 변수에 저장된다\n",
    "이 자체로 온전한 프로그램이 될 수 있습니다.\n",
    "변수는 바뀔 수 있고, 입력할 때마다 다른 값이 입력될 수 있으므로, "
   ]
  },
  {
   "cell_type": "code",
   "execution_count": 8,
   "id": "292139c4",
   "metadata": {},
   "outputs": [
    {
     "name": "stdout",
     "output_type": "stream",
     "text": [
      "여러분의 인사를 입력해주세요.좋은 아침입니다\n",
      "좋은 아침입니다 , 고객님\n"
     ]
    }
   ],
   "source": [
    "greeting = input('여러분의 인사를 입력해주세요.')\n",
    "print(greeting, ', 고객님') # greeting이라는 변수 출력 후, '고객님'이라는 문자 출력"
   ]
  },
  {
   "cell_type": "markdown",
   "id": "c8669b13",
   "metadata": {},
   "source": [
    "# Input() 함수로 숫자 다루기"
   ]
  },
  {
   "cell_type": "code",
   "execution_count": 11,
   "id": "16382d63",
   "metadata": {},
   "outputs": [
    {
     "name": "stdout",
     "output_type": "stream",
     "text": [
      "원하는 숫자를 입력하세요. 숫자 2를 더해서 출력해드립니다.4\n"
     ]
    },
    {
     "ename": "TypeError",
     "evalue": "can only concatenate str (not \"int\") to str",
     "output_type": "error",
     "traceback": [
      "\u001b[1;31m---------------------------------------------------------------------------\u001b[0m",
      "\u001b[1;31mTypeError\u001b[0m                                 Traceback (most recent call last)",
      "\u001b[1;32m~\\AppData\\Local\\Temp/ipykernel_20168/3071346573.py\u001b[0m in \u001b[0;36m<module>\u001b[1;34m\u001b[0m\n\u001b[0;32m      3\u001b[0m \u001b[1;33m\u001b[0m\u001b[0m\n\u001b[0;32m      4\u001b[0m \u001b[0mmy_number\u001b[0m \u001b[1;33m=\u001b[0m \u001b[0minput\u001b[0m\u001b[1;33m(\u001b[0m\u001b[1;34m'원하는 숫자를 입력하세요. 숫자 2를 더해서 출력해드립니다.'\u001b[0m\u001b[1;33m)\u001b[0m\u001b[1;33m\u001b[0m\u001b[1;33m\u001b[0m\u001b[0m\n\u001b[1;32m----> 5\u001b[1;33m \u001b[0mprint\u001b[0m\u001b[1;33m(\u001b[0m\u001b[0mmy_number\u001b[0m \u001b[1;33m+\u001b[0m \u001b[1;36m2\u001b[0m\u001b[1;33m)\u001b[0m \u001b[1;31m# 4\u001b[0m\u001b[1;33m\u001b[0m\u001b[1;33m\u001b[0m\u001b[0m\n\u001b[0m",
      "\u001b[1;31mTypeError\u001b[0m: can only concatenate str (not \"int\") to str"
     ]
    }
   ],
   "source": [
    "# 원하는 프로그램 -> 입력받은 값에 +2를 더해서 출력\n",
    "입력 = 4 # -> 출력은 6\n",
    "\n",
    "my_number = input('원하는 숫자를 입력하세요. 숫자 2를 더해서 출력해드립니다.')\n",
    "print(my_number + 2) # 4"
   ]
  },
  {
   "cell_type": "markdown",
   "id": "ebbd60c8",
   "metadata": {},
   "source": [
    "# 숫자를 입력받아서 다루는 방법"
   ]
  },
  {
   "cell_type": "code",
   "execution_count": 12,
   "id": "ac120075",
   "metadata": {},
   "outputs": [
    {
     "name": "stdout",
     "output_type": "stream",
     "text": [
      "당신의 숫자를 입력해주세요.33\n",
      "my_number로 입력된 값은 >> 33\n",
      "my_number의 데이터 타입은 >> <class 'str'>\n"
     ]
    }
   ],
   "source": [
    "my_number = input('당신의 숫자를 입력해주세요.')\n",
    "# my_number + 2 -> 오류\n",
    "\n",
    "print('my_number로 입력된 값은 >>', my_number)\n",
    "print('my_number의 데이터 타입은 >>', type(my_number))"
   ]
  },
  {
   "cell_type": "markdown",
   "id": "ed784b92",
   "metadata": {},
   "source": [
    "# 타입을 확인하자"
   ]
  },
  {
   "cell_type": "code",
   "execution_count": 13,
   "id": "a5adae22",
   "metadata": {},
   "outputs": [
    {
     "name": "stdout",
     "output_type": "stream",
     "text": [
      "첫번째 >>42\n",
      "두번째>>42.5\n",
      "세번째>>안녕하세요\n",
      "<class 'str'> <class 'str'> <class 'str'>\n"
     ]
    }
   ],
   "source": [
    "one = input('첫번째 >>')\n",
    "two = input('두번째>>')\n",
    "three = input('세번째>>')\n",
    "\n",
    "print(type(one), type(two), type(three))"
   ]
  },
  {
   "cell_type": "markdown",
   "id": "383acb08",
   "metadata": {},
   "source": [
    "# 데이터 타입을 바꿔보자"
   ]
  },
  {
   "cell_type": "code",
   "execution_count": 15,
   "id": "2bf3ad09",
   "metadata": {},
   "outputs": [
    {
     "name": "stdout",
     "output_type": "stream",
     "text": [
      "<class 'str'>\n",
      "3\n",
      "<class 'int'>\n"
     ]
    }
   ],
   "source": [
    "before = '3' # '', \"\" 감싼 것은 문자 데이터형태\n",
    "print(type(before))\n",
    "\n",
    "after = int(before)\n",
    "print(after)\n",
    "print(type(after))\n",
    "\n",
    "# int(문자열형) -> 정수형으로 변환"
   ]
  },
  {
   "cell_type": "code",
   "execution_count": 17,
   "id": "4a2d3ecd",
   "metadata": {},
   "outputs": [
    {
     "name": "stdout",
     "output_type": "stream",
     "text": [
      "43\n"
     ]
    }
   ],
   "source": [
    "before = '43' # 숫자로 바꿀 수 있을까?\n",
    "print(int(before))"
   ]
  },
  {
   "cell_type": "markdown",
   "id": "97d6d081",
   "metadata": {},
   "source": [
    "# 입력을 받아서 계산한 후 출력하는 프로그램"
   ]
  },
  {
   "cell_type": "code",
   "execution_count": 18,
   "id": "5a4c3689",
   "metadata": {},
   "outputs": [
    {
     "name": "stdout",
     "output_type": "stream",
     "text": [
      "입력할 숫자를 타이핑 후 엔터치세요.4\n",
      "당신이 입력한 숫자에 4를 더하면, 8\n"
     ]
    }
   ],
   "source": [
    "my_number = input('입력할 숫자를 타이핑 후 엔터치세요.')\n",
    "print('당신이 입력한 숫자에 4를 더하면,', int(my_number) + 4)\n",
    "\n",
    "# result = int(my_number) + 4\n",
    "# print(result)"
   ]
  },
  {
   "cell_type": "code",
   "execution_count": 19,
   "id": "d2b56c9d",
   "metadata": {},
   "outputs": [
    {
     "name": "stdout",
     "output_type": "stream",
     "text": [
      "입력할 숫자를 타이핑 후 엔터치세요.5\n",
      "당신이 입력한 숫자에 4를 더하면, 9\n"
     ]
    }
   ],
   "source": [
    "my_number = int(input('입력할 숫자를 타이핑 후 엔터치세요.'))\n",
    "print('당신이 입력한 숫자에 4를 더하면,', my_number + 4)"
   ]
  },
  {
   "cell_type": "code",
   "execution_count": null,
   "id": "44893cd1",
   "metadata": {},
   "outputs": [],
   "source": []
  }
 ],
 "metadata": {
  "kernelspec": {
   "display_name": "Python 3 (ipykernel)",
   "language": "python",
   "name": "python3"
  },
  "language_info": {
   "codemirror_mode": {
    "name": "ipython",
    "version": 3
   },
   "file_extension": ".py",
   "mimetype": "text/x-python",
   "name": "python",
   "nbconvert_exporter": "python",
   "pygments_lexer": "ipython3",
   "version": "3.9.7"
  }
 },
 "nbformat": 4,
 "nbformat_minor": 5
}
