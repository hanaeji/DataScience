{
 "cells": [
  {
   "cell_type": "markdown",
   "id": "22acefc6",
   "metadata": {},
   "source": [
    "# 조건문에 들어가기 전에..."
   ]
  },
  {
   "cell_type": "code",
   "execution_count": 1,
   "id": "2b907901",
   "metadata": {},
   "outputs": [],
   "source": [
    "# 값을 비교해봅시다\n",
    "less = 4\n",
    "more = 5\n",
    "\n",
    "equal1 = 10\n",
    "equal2 = 10"
   ]
  },
  {
   "cell_type": "code",
   "execution_count": 2,
   "id": "bd148185",
   "metadata": {},
   "outputs": [
    {
     "name": "stdout",
     "output_type": "stream",
     "text": [
      "<class 'bool'>\n",
      "False\n",
      "True\n",
      "True\n",
      "False\n"
     ]
    }
   ],
   "source": [
    "print(type(less > more))\n",
    "print(less > more)\n",
    "print(less < more)\n",
    "print(equal1 == equal2)\n",
    "print(equal1 != equal2)"
   ]
  },
  {
   "cell_type": "markdown",
   "id": "2bcf38a0",
   "metadata": {},
   "source": [
    "# 내가 원하는 것을 정확히 짚어내는 것!\n",
    "조건을 설정해서, 그 조건에 해당하면 무엇인가를 하자"
   ]
  },
  {
   "cell_type": "markdown",
   "id": "c028bd74",
   "metadata": {},
   "source": [
    "# 케이스1\n",
    "내가 원하는 값에 뭔가를 하고 싶다. (들어오는 값을 변형하고 싶을 떄)"
   ]
  },
  {
   "cell_type": "code",
   "execution_count": 8,
   "id": "b4979d8e",
   "metadata": {},
   "outputs": [
    {
     "name": "stdout",
     "output_type": "stream",
     "text": [
      "아무것도 아닙니다. :100\n"
     ]
    }
   ],
   "source": [
    "user = 99\n",
    "\n",
    "if user == 1:\n",
    "    user = user+1\n",
    "elif user == 100:\n",
    "    user = user+3\n",
    "\n",
    "else: \n",
    "    user = '아무것도 아닙니다. :' + str(user + 1)\n",
    "    \n",
    "print(user)"
   ]
  },
  {
   "cell_type": "markdown",
   "id": "2fd58787",
   "metadata": {},
   "source": [
    "# 케이스2\n",
    "조건만 통과한다면, 그 다음에 내가 하고 싶은 것을 하고 싶다.(유효한 값을 검증할 때 많이 사용)\n",
    "\n",
    "로그인"
   ]
  },
  {
   "cell_type": "code",
   "execution_count": 11,
   "id": "9382d047",
   "metadata": {},
   "outputs": [
    {
     "name": "stdout",
     "output_type": "stream",
     "text": [
      "로그인 되었습니다.\n"
     ]
    }
   ],
   "source": [
    "login = 'check'\n",
    "\n",
    "if login == 'check':\n",
    "    print('로그인 되었습니다.') # 케이스1은 값을 직접 바꾸지만, 케이스2는 상태만 표현\n",
    "    \n",
    "else:\n",
    "    print('로그인된 상태가 아닙니다.')"
   ]
  },
  {
   "cell_type": "markdown",
   "id": "af9fe2f4",
   "metadata": {},
   "source": [
    "# 케이스3\n",
    "여러 if문을 중첩하자"
   ]
  },
  {
   "cell_type": "code",
   "execution_count": 14,
   "id": "25537d41",
   "metadata": {},
   "outputs": [
    {
     "name": "stdout",
     "output_type": "stream",
     "text": [
      "로그인 되지 않았습니다.\n"
     ]
    }
   ],
   "source": [
    "login = 'checkㅇㅇ'\n",
    "pw = '1234'\n",
    "\n",
    "if login == 'check':\n",
    "    print('로그인되었습니다.')\n",
    "    if pw == '123':\n",
    "        print('pass')\n",
    "    else:\n",
    "        print('not pass')\n",
    "        \n",
    "else:\n",
    "    print('로그인 되지 않았습니다.')"
   ]
  },
  {
   "cell_type": "code",
   "execution_count": null,
   "id": "f29ddfb9",
   "metadata": {},
   "outputs": [],
   "source": []
  }
 ],
 "metadata": {
  "kernelspec": {
   "display_name": "Python 3 (ipykernel)",
   "language": "python",
   "name": "python3"
  },
  "language_info": {
   "codemirror_mode": {
    "name": "ipython",
    "version": 3
   },
   "file_extension": ".py",
   "mimetype": "text/x-python",
   "name": "python",
   "nbconvert_exporter": "python",
   "pygments_lexer": "ipython3",
   "version": "3.9.7"
  }
 },
 "nbformat": 4,
 "nbformat_minor": 5
}
