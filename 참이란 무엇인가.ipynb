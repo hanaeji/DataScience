{
 "cells": [
  {
   "cell_type": "markdown",
   "id": "24ba3fef",
   "metadata": {},
   "source": [
    "# 너무 당연한 참"
   ]
  },
  {
   "cell_type": "code",
   "execution_count": 2,
   "id": "23e04214",
   "metadata": {},
   "outputs": [
    {
     "name": "stdout",
     "output_type": "stream",
     "text": [
      "ssssssssssssss\n"
     ]
    }
   ],
   "source": [
    "if False:\n",
    "    print('hello')\n",
    "elif True:\n",
    "    print('ssssssssssssss')\n",
    "else: print('else')"
   ]
  },
  {
   "cell_type": "markdown",
   "id": "325aa157",
   "metadata": {},
   "source": [
    "# 첫번째 참\n",
    "목록에 요소가 있을 때"
   ]
  },
  {
   "cell_type": "code",
   "execution_count": 3,
   "id": "d21d7f9a",
   "metadata": {},
   "outputs": [
    {
     "name": "stdout",
     "output_type": "stream",
     "text": [
      "참이다\n"
     ]
    }
   ],
   "source": [
    "my_list = [1, 2, 3, 4, 5]\n",
    "if 1 in my_list:\n",
    "    print('참이다')\n",
    "    \n",
    "if 6 in my_list:\n",
    "    print('참이다22222')"
   ]
  },
  {
   "cell_type": "markdown",
   "id": "b90f6802",
   "metadata": {},
   "source": [
    "# 두번째 참\n",
    "숫자 0이 아닐 때"
   ]
  },
  {
   "cell_type": "code",
   "execution_count": 4,
   "id": "3452d383",
   "metadata": {},
   "outputs": [
    {
     "name": "stdout",
     "output_type": "stream",
     "text": [
      "참이다1111\n"
     ]
    }
   ],
   "source": [
    "if 12131231:\n",
    "    print('참이다1111')\n",
    "    \n",
    "if 0:\n",
    "    print('참이다2222')"
   ]
  },
  {
   "cell_type": "markdown",
   "id": "248b5a09",
   "metadata": {},
   "source": [
    "# 세번째 참\n",
    "부등호가 올바를 때"
   ]
  },
  {
   "cell_type": "code",
   "execution_count": 9,
   "id": "96966520",
   "metadata": {},
   "outputs": [
    {
     "name": "stdout",
     "output_type": "stream",
     "text": [
      "ddddddddd\n"
     ]
    }
   ],
   "source": [
    "a = 2\n",
    "b = 2\n",
    "\n",
    "# <, >, ==, !=\n",
    "# >=, <=\n",
    "\n",
    "if a != b:\n",
    "    print('참이다')\n",
    "elif a == b:\n",
    "    print('ddddddddd')"
   ]
  },
  {
   "cell_type": "markdown",
   "id": "0bae46b1",
   "metadata": {},
   "source": [
    "# 네번째 참\n",
    "문자열이 존재할 떄"
   ]
  },
  {
   "cell_type": "code",
   "execution_count": 12,
   "id": "e8e4b17e",
   "metadata": {},
   "outputs": [
    {
     "name": "stdout",
     "output_type": "stream",
     "text": [
      "참\n"
     ]
    }
   ],
   "source": [
    "if 'hello':\n",
    "    print('참')\n",
    "    \n",
    "if '':\n",
    "    print('참222')\n",
    "    \n",
    "# 로그인 -> id 값이 없음 -> 거짓\n",
    "# 로그인 -> id 문자열이 존재 -> 문자열 == 문자열? -> 로그인"
   ]
  },
  {
   "cell_type": "code",
   "execution_count": null,
   "id": "58afee5e",
   "metadata": {},
   "outputs": [],
   "source": []
  }
 ],
 "metadata": {
  "kernelspec": {
   "display_name": "Python 3 (ipykernel)",
   "language": "python",
   "name": "python3"
  },
  "language_info": {
   "codemirror_mode": {
    "name": "ipython",
    "version": 3
   },
   "file_extension": ".py",
   "mimetype": "text/x-python",
   "name": "python",
   "nbconvert_exporter": "python",
   "pygments_lexer": "ipython3",
   "version": "3.9.7"
  }
 },
 "nbformat": 4,
 "nbformat_minor": 5
}
