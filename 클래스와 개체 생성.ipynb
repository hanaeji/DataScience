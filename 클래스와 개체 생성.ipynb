{
 "cells": [
  {
   "cell_type": "markdown",
   "id": "36f79139",
   "metadata": {},
   "source": [
    "# 클래스와 개체\n",
    "클래스는 보통 설계도로 많이 비유된다.\n",
    "\n",
    "실물을 만들기 전에 '어떻게' 만들 것인가를 적어놓는 것이다.\n",
    "\n",
    "개체(객체)는 Object라고 불리며, 인스턴스라고도 불린다. 실제로 개체와 인스턴스는 약간 다른 의미로 쓰이지만 지금은 신경쓰지 말자.\n",
    "\n",
    "대부분의 프로그래머들은 객체라고 부르고, 최근에 마이크로소프트에서 개체라고 정정하여 부르고 있다. "
   ]
  },
  {
   "cell_type": "code",
   "execution_count": 1,
   "id": "6532e038",
   "metadata": {},
   "outputs": [],
   "source": [
    "class Student:# __init__:이니셜라이즈\n",
    "    def __init__(self, name, grade, school_name):\n",
    "        self.name = name\n",
    "        self.grade = grade\n",
    "        self.school_name = school_name"
   ]
  },
  {
   "cell_type": "code",
   "execution_count": 7,
   "id": "2f63f682",
   "metadata": {},
   "outputs": [],
   "source": [
    "학생1 = Student('한혜지', '3학년', '고려대학교')\n",
    "학생2 = Student('홍길동', '1학년', '고등학교')"
   ]
  },
  {
   "cell_type": "code",
   "execution_count": 8,
   "id": "1c131615",
   "metadata": {},
   "outputs": [
    {
     "name": "stdout",
     "output_type": "stream",
     "text": [
      "홍길동\n",
      "1학년\n",
      "고등학교\n"
     ]
    }
   ],
   "source": [
    "# print(학생1)\n",
    "print(학생2.name)\n",
    "print(학생2.grade)\n",
    "print(학생2.school_name)"
   ]
  },
  {
   "cell_type": "code",
   "execution_count": 9,
   "id": "e9a7b7a3",
   "metadata": {},
   "outputs": [],
   "source": [
    "class Airplain:\n",
    "    def __init__(self, one, two, three):\n",
    "        self.plainName = one\n",
    "        self.plainNumber = two\n",
    "        self.plainNickname = three"
   ]
  },
  {
   "cell_type": "code",
   "execution_count": 10,
   "id": "c898efef",
   "metadata": {},
   "outputs": [
    {
     "name": "stdout",
     "output_type": "stream",
     "text": [
      "보잉\n"
     ]
    }
   ],
   "source": [
    "비행기1 = Airplain('보잉', '430', '진에어')\n",
    "print(비행기1.plainName)"
   ]
  },
  {
   "cell_type": "code",
   "execution_count": 16,
   "id": "37e31e51",
   "metadata": {},
   "outputs": [],
   "source": [
    "class stockCompany:\n",
    "    def __init__(self, name):\n",
    "        self.companyName = name\n",
    "    def printName(self):\n",
    "        print(self.companyName, '출력했습니다.')"
   ]
  },
  {
   "cell_type": "code",
   "execution_count": 17,
   "id": "89bb037c",
   "metadata": {},
   "outputs": [
    {
     "name": "stdout",
     "output_type": "stream",
     "text": [
      "삼성전자 출력했습니다.\n",
      "None\n"
     ]
    }
   ],
   "source": [
    "종목 = stockCompany('삼성전자')\n",
    "print(종목.printName())"
   ]
  },
  {
   "cell_type": "code",
   "execution_count": 18,
   "id": "039efc0a",
   "metadata": {},
   "outputs": [
    {
     "name": "stdout",
     "output_type": "stream",
     "text": [
      "{'companyName': '삼성전자'}\n",
      "{'plainName': '보잉', 'plainNumber': '430', 'plainNickname': '진에어'}\n"
     ]
    }
   ],
   "source": [
    "print(종목.__dict__)\n",
    "print(비행기1.__dict__)"
   ]
  },
  {
   "cell_type": "code",
   "execution_count": 24,
   "id": "a0e1ca8c",
   "metadata": {},
   "outputs": [],
   "source": [
    "class 가수:\n",
    "    def __init__(self, 가사):\n",
    "        self.lyrics = 가사\n",
    "    def 노래부르기(self):\n",
    "        for 가사한줄 in self.lyrics:\n",
    "            print('>>', 가사한줄)"
   ]
  },
  {
   "cell_type": "code",
   "execution_count": 29,
   "id": "50a92543",
   "metadata": {},
   "outputs": [
    {
     "name": "stdout",
     "output_type": "stream",
     "text": [
      "생성된 개체,lyrics>> ['흔들리는 꽃들 속에서', '네 샴푸향이 느껴진 거야']\n",
      "{'lyrics': ['흔들리는 꽃들 속에서', '네 샴푸향이 느껴진 거야']}\n"
     ]
    }
   ],
   "source": [
    "장범준 = 가수(['흔들리는 꽃들 속에서', '네 샴푸향이 느껴진 거야'])\n",
    "print('생성된 개체,lyrics>>', 장범준.lyrics)\n",
    "print(장범준.__dict__)\n",
    "\n",
    "동요가수 = 가수(['떴다 떴다 비행기', '날아라 날아라'])"
   ]
  },
  {
   "cell_type": "code",
   "execution_count": 30,
   "id": "a0f5e91a",
   "metadata": {},
   "outputs": [
    {
     "name": "stdout",
     "output_type": "stream",
     "text": [
      ">> 흔들리는 꽃들 속에서\n",
      ">> 네 샴푸향이 느껴진 거야\n",
      ">> 떴다 떴다 비행기\n",
      ">> 날아라 날아라\n"
     ]
    }
   ],
   "source": [
    "장범준.노래부르기()\n",
    "동요가수.노래부르기()"
   ]
  },
  {
   "cell_type": "markdown",
   "id": "230c4ac8",
   "metadata": {},
   "source": [
    "# 인스턴스 변수와 클래스 변수\n",
    "인스턴스 변수 : 각각의 인스턴스(개체)가 가지고 있는 속성(변수)\n",
    "\n",
    "클래스 변수 : 클래스 전체가 공통적으로 가지고 있는 변수"
   ]
  },
  {
   "cell_type": "code",
   "execution_count": 35,
   "id": "ce84cf4f",
   "metadata": {},
   "outputs": [],
   "source": [
    "class Singer:\n",
    "    class_variable = '가수 클래스'\n",
    "    # 클래스 변수\n",
    "    def __init__(self, external_var):\n",
    "        self.instance_var = external_var\n",
    "        # 인스턴스 변수"
   ]
  },
  {
   "cell_type": "code",
   "execution_count": 36,
   "id": "30989f35",
   "metadata": {},
   "outputs": [
    {
     "data": {
      "text/plain": [
       "'가수 클래스'"
      ]
     },
     "execution_count": 36,
     "metadata": {},
     "output_type": "execute_result"
    }
   ],
   "source": [
    "장범준 = Singer('흔들리는 꽃들 속에서 네 샴푸향이 느껴진거야')\n",
    "장범준.class_variable"
   ]
  },
  {
   "cell_type": "markdown",
   "id": "141d1853",
   "metadata": {},
   "source": [
    "# 클래스 변수를 어떻게 사용할까?"
   ]
  },
  {
   "cell_type": "code",
   "execution_count": 44,
   "id": "6f7179c1",
   "metadata": {},
   "outputs": [],
   "source": [
    "class Airplane:\n",
    "    airplane_price = 1.1 # 가격 상승폭\n",
    "    def __init__(self, wings, wheels, name, price):\n",
    "        self.날개갯수 = wings\n",
    "        self.바퀴갯수 = wheels\n",
    "        self.비행기이름 = name\n",
    "        self.비행기가격 = price\n",
    "    def 비행기이름_출력(self):\n",
    "        return str(self.비행기이름) + '<<비행기 이름을 출력합니다.'\n",
    "    def 비행기_가격상승(self):\n",
    "        self.비행기가격 = int(self.비행기가격 * Airplane.airplane_price)"
   ]
  },
  {
   "cell_type": "code",
   "execution_count": 47,
   "id": "6f4edd41",
   "metadata": {},
   "outputs": [
    {
     "name": "stdout",
     "output_type": "stream",
     "text": [
      "1000\n",
      "1100\n",
      "1.1\n"
     ]
    }
   ],
   "source": [
    "비행기1 = Airplane(2, 2, '첫번째비행기', 1000)\n",
    "print(비행기1.비행기가격)\n",
    "비행기1.비행기_가격상승()\n",
    "print(비행기1.비행기가격)\n",
    "print(Airplane.airplane_price)"
   ]
  },
  {
   "cell_type": "code",
   "execution_count": null,
   "id": "748dc004",
   "metadata": {},
   "outputs": [],
   "source": []
  },
  {
   "cell_type": "code",
   "execution_count": null,
   "id": "19e613c4",
   "metadata": {},
   "outputs": [],
   "source": []
  }
 ],
 "metadata": {
  "kernelspec": {
   "display_name": "Python 3 (ipykernel)",
   "language": "python",
   "name": "python3"
  },
  "language_info": {
   "codemirror_mode": {
    "name": "ipython",
    "version": 3
   },
   "file_extension": ".py",
   "mimetype": "text/x-python",
   "name": "python",
   "nbconvert_exporter": "python",
   "pygments_lexer": "ipython3",
   "version": "3.9.7"
  }
 },
 "nbformat": 4,
 "nbformat_minor": 5
}
