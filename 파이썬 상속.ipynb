{
 "cells": [
  {
   "cell_type": "code",
   "execution_count": 1,
   "id": "d1ab34ec",
   "metadata": {},
   "outputs": [],
   "source": [
    "class 사람:\n",
    "    def 동작1(self):\n",
    "        print('이것은 사람 동작')\n",
    "        \n",
    "class 가수(사람):\n",
    "    pass # 아무것도 하지 않는다는 의미"
   ]
  },
  {
   "cell_type": "code",
   "execution_count": 2,
   "id": "99473161",
   "metadata": {},
   "outputs": [
    {
     "name": "stdout",
     "output_type": "stream",
     "text": [
      "이것은 사람 동작\n"
     ]
    }
   ],
   "source": [
    "조용필 = 가수()\n",
    "조용필.동작1()"
   ]
  },
  {
   "cell_type": "code",
   "execution_count": 3,
   "id": "48544112",
   "metadata": {},
   "outputs": [],
   "source": [
    "class 사람:\n",
    "    def 동작1(self):\n",
    "        print('이것은 사람 동작')\n",
    "        \n",
    "class 가수(사람):\n",
    "    def 동작1(self):\n",
    "        print('이것은 가수 동작')"
   ]
  },
  {
   "cell_type": "code",
   "execution_count": 4,
   "id": "fae104d4",
   "metadata": {},
   "outputs": [
    {
     "name": "stdout",
     "output_type": "stream",
     "text": [
      "이것은 가수 동작\n"
     ]
    }
   ],
   "source": [
    "조용필 = 가수()\n",
    "조용필.동작1()"
   ]
  },
  {
   "cell_type": "code",
   "execution_count": null,
   "id": "d67a3707",
   "metadata": {},
   "outputs": [],
   "source": []
  }
 ],
 "metadata": {
  "kernelspec": {
   "display_name": "Python 3 (ipykernel)",
   "language": "python",
   "name": "python3"
  },
  "language_info": {
   "codemirror_mode": {
    "name": "ipython",
    "version": 3
   },
   "file_extension": ".py",
   "mimetype": "text/x-python",
   "name": "python",
   "nbconvert_exporter": "python",
   "pygments_lexer": "ipython3",
   "version": "3.9.7"
  }
 },
 "nbformat": 4,
 "nbformat_minor": 5
}
