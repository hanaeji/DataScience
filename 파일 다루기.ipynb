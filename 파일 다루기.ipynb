{
 "cells": [
  {
   "cell_type": "code",
   "execution_count": 3,
   "id": "2306cd0e",
   "metadata": {},
   "outputs": [
    {
     "name": "stdout",
     "output_type": "stream",
     "text": [
      "텍스트 입력입니다.\n"
     ]
    }
   ],
   "source": [
    "# opne(경로) 같은 경로일 경우 별도로 필요X\n",
    "f = open('test.txt', 'r') # writing : w, f.write / reading : r, f.readline\n",
    "print(f.readline())\n",
    "f.close()\n"
   ]
  },
  {
   "cell_type": "code",
   "execution_count": 2,
   "id": "142858fd",
   "metadata": {},
   "outputs": [
    {
     "name": "stdout",
     "output_type": "stream",
     "text": [
      "<_io.TextIOWrapper name='test.txt' mode='w' encoding='cp949'>\n"
     ]
    }
   ],
   "source": [
    "print(f)"
   ]
  },
  {
   "cell_type": "code",
   "execution_count": 15,
   "id": "fe0d712d",
   "metadata": {},
   "outputs": [
    {
     "name": "stderr",
     "output_type": "stream",
     "text": [
      "IOPub data rate exceeded.\n",
      "The notebook server will temporarily stop sending output\n",
      "to the client in order to avoid crashing it.\n",
      "To change this limit, set the config variable\n",
      "`--NotebookApp.iopub_data_rate_limit`.\n",
      "\n",
      "Current values:\n",
      "NotebookApp.iopub_data_rate_limit=1000000.0 (bytes/sec)\n",
      "NotebookApp.rate_limit_window=3.0 (secs)\n",
      "\n"
     ]
    }
   ],
   "source": [
    "f1 = open('IMG_1694.JPG', 'rb') # read binary : rb (바이트단위로 파일 읽기)\n",
    "print(f1.read())\n",
    "f1.close()"
   ]
  },
  {
   "cell_type": "code",
   "execution_count": 14,
   "id": "8a4932a4",
   "metadata": {},
   "outputs": [
    {
     "name": "stdout",
     "output_type": "stream",
     "text": [
      "텍스트 입력입니다.1\n",
      "\n",
      "<class 'str'>\n",
      "=========================\n",
      "['텍스트 입력입니다.1\\n', '텍스트 입력입니다.2\\n', '텍스트 입력입니다.3\\n', '텍스트 입력입니다.4']\n",
      "<class 'list'>\n",
      "==========================\n",
      "텍스트 입력입니다.1\n",
      "텍스트 입력입니다.2\n",
      "텍스트 입력입니다.3\n",
      "텍스트 입력입니다.4\n",
      "<class 'str'>\n"
     ]
    }
   ],
   "source": [
    "f = open('test.txt', 'r') # read binary : rb (바이트단위로 파일 읽기)\n",
    "print(f.readline()) # 1줄만 가져옴\n",
    "print(type(f.readline())) # 문자열로 가져옴\n",
    "print('=========================')\n",
    "f.seek(0)\n",
    "print(f.readlines()) \n",
    "print(type(f.readlines())) # 리스트로 가져옴, 요소가 str, \\n = Enter\n",
    "print('==========================')\n",
    "f.seek(0)\n",
    "print(f.read())\n",
    "print(type(f.read()))"
   ]
  },
  {
   "cell_type": "code",
   "execution_count": 16,
   "id": "3d9bc9cd",
   "metadata": {},
   "outputs": [],
   "source": [
    "f = open('test.txt', 'w')\n",
    "for i in range(0, 10):\n",
    "    f.write('%d번째 줄입니다.' % i)\n",
    "f.close()"
   ]
  },
  {
   "cell_type": "code",
   "execution_count": 17,
   "id": "1541bbb3",
   "metadata": {},
   "outputs": [],
   "source": [
    "f = open('test.txt', 'a')\n",
    "for i in range(0, 10):\n",
    "    f.write('%d번째 줄입니다. \\n' % i)\n",
    "f.close()"
   ]
  },
  {
   "cell_type": "code",
   "execution_count": 18,
   "id": "9d8d33ea",
   "metadata": {},
   "outputs": [],
   "source": [
    "f = open('test.txt', 'w')\n",
    "f.write('덮어쓰기')\n",
    "f.close()"
   ]
  },
  {
   "cell_type": "code",
   "execution_count": 20,
   "id": "d2f3664a",
   "metadata": {},
   "outputs": [],
   "source": [
    "f = open('test.txt', 'r+')\n",
    "# 파일이 없으면 오류 발생\n",
    "f.write('test')\n",
    "f.close()"
   ]
  },
  {
   "cell_type": "code",
   "execution_count": 22,
   "id": "2815c978",
   "metadata": {},
   "outputs": [
    {
     "name": "stdout",
     "output_type": "stream",
     "text": [
      "b'test\\xbe\\xb2\\xb1\\xe2'\n"
     ]
    }
   ],
   "source": [
    "f = open('test.txt', 'rb')\n",
    "print(f.read())\n",
    "f.close()"
   ]
  },
  {
   "cell_type": "code",
   "execution_count": 25,
   "id": "eadf62ca",
   "metadata": {},
   "outputs": [
    {
     "name": "stdout",
     "output_type": "stream",
     "text": [
      "1번째\n",
      "\n",
      "파일포인터 위치 >> 9\n",
      "2번째\n",
      "\n",
      "파일포인터 위치 >> 18\n",
      "3번째\n",
      "\n",
      "seek로 초기화한 이후 파일포인터 위치 >> 0\n"
     ]
    }
   ],
   "source": [
    "# 1~14 텍스트 파일\n",
    "f = open('test.txt', 'r', encoding='utf-8')\n",
    "print(f.readline())\n",
    "print('파일포인터 위치 >>', f.tell())\n",
    "print(f.readline())\n",
    "print('파일포인터 위치 >>', f.tell())\n",
    "print(f.readline())\n",
    "f.seek(0)\n",
    "print('seek로 초기화한 이후 파일포인터 위치 >>', f.tell())\n",
    "f.close()"
   ]
  },
  {
   "cell_type": "markdown",
   "id": "2737325f",
   "metadata": {},
   "source": [
    "# context manager를 따르는 with 구문 사용\n",
    "파일을 다루고 나서, 빠져 나오는 것까지 보장하는 구문"
   ]
  },
  {
   "cell_type": "code",
   "execution_count": 27,
   "id": "b1e71771",
   "metadata": {},
   "outputs": [
    {
     "name": "stdout",
     "output_type": "stream",
     "text": [
      "1번째\n",
      "2번째\n",
      "3번째\n",
      "4번째\n",
      "5번째\n",
      "6번째\n",
      "7번째\n",
      "8번째\n",
      "9번째\n",
      "10번째\n",
      "11번째\n",
      "12번째\n",
      "13번째\n",
      "14번째\n"
     ]
    }
   ],
   "source": [
    "with open('test.txt', 'r+', encoding='utf-8') as f:\n",
    "    print(f.read())\n",
    "# 파일을 닫지 않아도 된다.\n",
    "# 다른 작업은 똑같이 수행해도 가능"
   ]
  },
  {
   "cell_type": "code",
   "execution_count": 29,
   "id": "a3a170f6",
   "metadata": {},
   "outputs": [],
   "source": [
    "with open('test2.txt', 'w', encoding='utf-8') as f:\n",
    "    f.write('hello')"
   ]
  },
  {
   "cell_type": "code",
   "execution_count": null,
   "id": "0ac820a1",
   "metadata": {},
   "outputs": [],
   "source": []
  }
 ],
 "metadata": {
  "kernelspec": {
   "display_name": "Python 3 (ipykernel)",
   "language": "python",
   "name": "python3"
  },
  "language_info": {
   "codemirror_mode": {
    "name": "ipython",
    "version": 3
   },
   "file_extension": ".py",
   "mimetype": "text/x-python",
   "name": "python",
   "nbconvert_exporter": "python",
   "pygments_lexer": "ipython3",
   "version": "3.9.7"
  }
 },
 "nbformat": 4,
 "nbformat_minor": 5
}
