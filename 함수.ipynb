{
 "cells": [
  {
   "cell_type": "markdown",
   "id": "9dd8b29d",
   "metadata": {},
   "source": [
    "# 함수\n",
    "Q. 함수는 왜 쓰나요?\n",
    "\n",
    "A. 중복된 코드를 줄이기 위해서 사용하면, 한 번 구현해두면 타인과 코드를 공유하기에도 좋습니다."
   ]
  },
  {
   "cell_type": "markdown",
   "id": "59d6715c",
   "metadata": {},
   "source": [
    "# 첫번째, 입력값(parameter)과 돌려주는 값(return)이 없는 경우"
   ]
  },
  {
   "cell_type": "code",
   "execution_count": 1,
   "id": "38d9ab12",
   "metadata": {},
   "outputs": [],
   "source": [
    "def 함수1():# def:정의하다\n",
    "    print('프린트라는 로직만 있습니다.')"
   ]
  },
  {
   "cell_type": "markdown",
   "id": "7f76256c",
   "metadata": {},
   "source": [
    "# 두번째, 입력값은 있고, 돌려주는 값이 없는 경우"
   ]
  },
  {
   "cell_type": "code",
   "execution_count": 2,
   "id": "513e5738",
   "metadata": {},
   "outputs": [],
   "source": [
    "def 함수2(akjlgjsaldc):\n",
    "    print(akjlgjsaldc, '함수2입니다')"
   ]
  },
  {
   "cell_type": "code",
   "execution_count": 3,
   "id": "1bfdbd7c",
   "metadata": {},
   "outputs": [
    {
     "name": "stdout",
     "output_type": "stream",
     "text": [
      "안녕하세요 함수2입니다\n"
     ]
    }
   ],
   "source": [
    "함수2('안녕하세요')"
   ]
  },
  {
   "cell_type": "markdown",
   "id": "e6a7453b",
   "metadata": {},
   "source": [
    "# 세번째, 입력값은 없고 돌려주는 값이 있는 경우 "
   ]
  },
  {
   "cell_type": "code",
   "execution_count": 4,
   "id": "06dfb674",
   "metadata": {},
   "outputs": [],
   "source": [
    "def 함수3():\n",
    "    return 'hello'"
   ]
  },
  {
   "cell_type": "code",
   "execution_count": 5,
   "id": "99b4762e",
   "metadata": {},
   "outputs": [
    {
     "name": "stdout",
     "output_type": "stream",
     "text": [
      "hello\n"
     ]
    }
   ],
   "source": [
    "# 함수2(함수3())\n",
    "받는_변수 = 함수3()\n",
    "print(받는_변수)"
   ]
  },
  {
   "cell_type": "markdown",
   "id": "177fc5d1",
   "metadata": {},
   "source": [
    "# 네번째, 입력값과 돌려주는 값이 있는 경우"
   ]
  },
  {
   "cell_type": "code",
   "execution_count": 6,
   "id": "47b13147",
   "metadata": {},
   "outputs": [],
   "source": [
    "def 함수4(my_var):# 입력값이 문자형이면 됨\n",
    "    return 'hello' + my_var"
   ]
  },
  {
   "cell_type": "code",
   "execution_count": 7,
   "id": "c8c50a0b",
   "metadata": {},
   "outputs": [
    {
     "data": {
      "text/plain": [
       "'hello4'"
      ]
     },
     "execution_count": 7,
     "metadata": {},
     "output_type": "execute_result"
    }
   ],
   "source": [
    "함수4('4') # 그냥 4는 정수형이지만, 감싸면 문자형이 됨"
   ]
  },
  {
   "cell_type": "markdown",
   "id": "b28b72c3",
   "metadata": {},
   "source": [
    "# 도전 실전 코딩"
   ]
  },
  {
   "cell_type": "markdown",
   "id": "7f06ce3d",
   "metadata": {},
   "source": [
    "# 들어오는 숫자의 정보를 파악해서 저장하기"
   ]
  },
  {
   "cell_type": "markdown",
   "id": "c3bcaf0c",
   "metadata": {},
   "source": [
    "### 홀수와 짝수를 구별하는 것\n",
    "- 1. 사용자로부터 숫자를 입력받는다.\n",
    "- 2. 구별하는 로직\n",
    "   - 나누기를 통해서 ( 1단계: 1, 2) -> 나머지\n",
    "   - %(modulo) -> a % b -> 나머지\n",
    "   - 함수화시켜서 함수를 사용한다. \n",
    "- 3. 짝수, 홀수 -> 각각의 데이터형태에 저장함\n",
    "   - a = [2, 4, 6] b = [3, 5, 7]"
   ]
  },
  {
   "cell_type": "code",
   "execution_count": 8,
   "id": "c68918d7",
   "metadata": {},
   "outputs": [
    {
     "name": "stdout",
     "output_type": "stream",
     "text": [
      "숫자를 입력해주세요2\n",
      "<class 'int'>\n",
      "2\n",
      "짝수입니다\n",
      "[2]\n",
      "[]\n"
     ]
    }
   ],
   "source": [
    "# 사용자는 숫자만 입력한다고 가정\n",
    "input_number = int(input('숫자를 입력해주세요'))\n",
    "print(type(input_number))\n",
    "print(input_number)\n",
    "even_number = []\n",
    "odd_number = []\n",
    "\n",
    "if (input_number / 2) == 1:\n",
    "    print('짝수입니다')\n",
    "    even_number.append(input_number)\n",
    "elif input_number == 0:\n",
    "    print('0입니다')\n",
    "else: \n",
    "    print('홀수입니다')\n",
    "    odd_number.append(input_number)\n",
    "\n",
    "print(even_number)\n",
    "print(odd_number)"
   ]
  },
  {
   "cell_type": "code",
   "execution_count": 13,
   "id": "4cee283f",
   "metadata": {},
   "outputs": [
    {
     "name": "stdout",
     "output_type": "stream",
     "text": [
      "숫자를 넣어주세요255\n",
      "들어온 홀수>> [255]\n"
     ]
    }
   ],
   "source": [
    "my_number = int(input('숫자를 넣어주세요'))\n",
    "even = []\n",
    "odd = []\n",
    "\n",
    "if (my_number % 2) == 0:\n",
    "    even.append(my_number)\n",
    "elif (my_number % 1) == 0:\n",
    "    odd.append(my_number)\n",
    "\n",
    "if even:\n",
    "    print('들어온 짝수>>', even)\n",
    "elif odd:\n",
    "    print('들어온 홀수>>', odd)"
   ]
  },
  {
   "cell_type": "code",
   "execution_count": 17,
   "id": "c5e984c9",
   "metadata": {},
   "outputs": [
    {
     "name": "stdout",
     "output_type": "stream",
     "text": [
      "숫자를 넣어주세요4\n",
      "들어온 짝수>> [4]\n",
      "result: [4]\n"
     ]
    }
   ],
   "source": [
    "even =[]\n",
    "odd = []\n",
    "\n",
    "def 짝수판별기(my_number):\n",
    "    if (my_number % 2) == 0:\n",
    "        even.append(my_number)\n",
    "    elif (my_number % 1) == 0:\n",
    "        odd.append(my_number)\n",
    "\n",
    "    if even:\n",
    "        print('들어온 짝수>>', even)\n",
    "        return even\n",
    "    elif odd:\n",
    "        print('들어온 홀수>>', odd)\n",
    "        return odd\n",
    "    \n",
    "my_number = int(input('숫자를 넣어주세요'))\n",
    "result = 짝수판별기(my_number)\n",
    "print('result:', result)"
   ]
  },
  {
   "cell_type": "code",
   "execution_count": 19,
   "id": "984caf92",
   "metadata": {},
   "outputs": [
    {
     "name": "stdout",
     "output_type": "stream",
     "text": [
      "1 는 홀수입니다\n",
      "2 는 짝수입니다\n",
      "3 는 홀수입니다\n",
      "4 는 짝수입니다\n",
      "5 는 홀수입니다\n",
      "6 는 짝수입니다\n",
      "7 는 홀수입니다\n",
      "8 는 짝수입니다\n"
     ]
    }
   ],
   "source": [
    "my_list = [1, 2, 3, 4, 5, 6, 7, 8]\n",
    "for temp in my_list:\n",
    "    if (temp % 2) == 0:\n",
    "        print(temp, '는 짝수입니다')\n",
    "    else:\n",
    "        print(temp, '는 홀수입니다')"
   ]
  },
  {
   "cell_type": "code",
   "execution_count": null,
   "id": "058d9d5e",
   "metadata": {},
   "outputs": [],
   "source": []
  }
 ],
 "metadata": {
  "kernelspec": {
   "display_name": "Python 3 (ipykernel)",
   "language": "python",
   "name": "python3"
  },
  "language_info": {
   "codemirror_mode": {
    "name": "ipython",
    "version": 3
   },
   "file_extension": ".py",
   "mimetype": "text/x-python",
   "name": "python",
   "nbconvert_exporter": "python",
   "pygments_lexer": "ipython3",
   "version": "3.9.7"
  }
 },
 "nbformat": 4,
 "nbformat_minor": 5
}
